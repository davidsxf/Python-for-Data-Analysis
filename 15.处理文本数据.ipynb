{
 "cells": [
  {
   "cell_type": "code",
   "execution_count": null,
   "id": "61ae7f46-ebf6-4053-86aa-e3fc5f9cb7a8",
   "metadata": {},
   "outputs": [],
   "source": [
    "# This code is used for loading in data from the Reddit comment database\n",
    "# Don't worry about the details of this code\n",
    "\n",
    "import sqlite3\n",
    "import pandas as pd\n",
    "\n",
    "\n",
    "sql_conn = sqlite3.connect('../input/reddit-comments-may-2015/database.sqlite')\n",
    "\n",
    "comments = pd.read_sql(\"SELECT body FROM May2015 WHERE subreddit = 'timberwolves'\", sql_conn)\n",
    "\n",
    "comments = comments[\"body\"]     # Convert from df to series\n",
    "\n",
    "print(comments.shape)\n",
    "comments.head(8)"
   ]
  },
  {
   "cell_type": "code",
   "execution_count": null,
   "id": "f2e33337-b9ac-46c7-878c-c3bb6777eb43",
   "metadata": {},
   "outputs": [],
   "source": [
    "comments[0].lower()      # Convert the first comment to lowercase"
   ]
  },
  {
   "cell_type": "code",
   "execution_count": null,
   "id": "75ddcd11-0c8f-4c2d-a990-2a57cf747946",
   "metadata": {},
   "outputs": [],
   "source": [
    "comments.str.lower().head(8)  # Convert all comments to lowercase"
   ]
  },
  {
   "cell_type": "code",
   "execution_count": null,
   "id": "9472589c-5b78-4c4d-8e07-25c81c723b66",
   "metadata": {},
   "outputs": [],
   "source": [
    "comments.str.upper().head(8)  # Convert all comments to uppercase\n"
   ]
  },
  {
   "cell_type": "code",
   "execution_count": null,
   "id": "67df5150-b980-4402-8461-8e7bf3ac9f6e",
   "metadata": {},
   "outputs": [],
   "source": [
    "comments.str.len().head(8)  # Get the length of all comments\n"
   ]
  },
  {
   "cell_type": "code",
   "execution_count": null,
   "id": "85daa90c-cc91-4a2e-afc7-edda04178edb",
   "metadata": {},
   "outputs": [],
   "source": [
    "comments.str.split(\" \").head(8)  # Split comments on spaces\n"
   ]
  },
  {
   "cell_type": "code",
   "execution_count": null,
   "id": "97e36b05-7956-4735-bbf6-a0afd5942b67",
   "metadata": {},
   "outputs": [],
   "source": [
    "comments.str.strip(\"[]\").head(8)  # Strip leading and trailing brackets\n"
   ]
  },
  {
   "cell_type": "code",
   "execution_count": null,
   "id": "b2ba6ea9-fa9c-4270-959c-2572dc1b08c7",
   "metadata": {},
   "outputs": [],
   "source": [
    "comments.str.cat()[0:500]   # Check the first 500 characters\n"
   ]
  },
  {
   "cell_type": "code",
   "execution_count": null,
   "id": "fb700742-9f27-480b-a80c-c8c8399e00b3",
   "metadata": {},
   "outputs": [],
   "source": [
    "comments.str.slice(0, 10).head(8)  # Slice the first 10 characters\n"
   ]
  },
  {
   "cell_type": "code",
   "execution_count": null,
   "id": "b580a888-8b2f-4245-a545-00a8899a63e0",
   "metadata": {},
   "outputs": [],
   "source": [
    "comments.str[0:10].head(8)  # Slice the first 10 characters\n"
   ]
  },
  {
   "cell_type": "code",
   "execution_count": null,
   "id": "50d3f427-a7eb-4328-8d1b-9e96e1a15361",
   "metadata": {},
   "outputs": [],
   "source": [
    "comments.str.slice_replace(5, 10, \" Wolves Rule! \" ).head(8)\n"
   ]
  },
  {
   "cell_type": "code",
   "execution_count": null,
   "id": "fa73968d-bd93-4519-8739-6afe67e583f5",
   "metadata": {},
   "outputs": [],
   "source": [
    "comments.str.replace(\"Wolves\", \"Pups\").head(8)\n"
   ]
  },
  {
   "cell_type": "code",
   "execution_count": null,
   "id": "92450738-9db1-4a83-a235-b8bee4d43f5f",
   "metadata": {},
   "outputs": [],
   "source": [
    "logical_index = comments.str.lower().str.contains(\"wigg|drew\")\n",
    "\n",
    "comments[logical_index].head(10)    # Get first 10 comments about Wiggins"
   ]
  },
  {
   "cell_type": "code",
   "execution_count": null,
   "id": "8c7ac205-3b64-4c51-b817-1682465fcb45",
   "metadata": {},
   "outputs": [],
   "source": [
    "len(comments[logical_index])/len(comments)\n"
   ]
  },
  {
   "cell_type": "code",
   "execution_count": null,
   "id": "557ba32d-85eb-4444-9e2f-344ef20696a1",
   "metadata": {},
   "outputs": [],
   "source": [
    "my_series = pd.Series([\"will\",\"bill\",\"Till\",\"still\",\"gull\"])\n",
    " \n",
    "my_series.str.contains(\".ill\")     # Match any substring ending in ill"
   ]
  },
  {
   "cell_type": "code",
   "execution_count": null,
   "id": "968173b6-b6db-427c-8059-72e0e0805779",
   "metadata": {},
   "outputs": [],
   "source": [
    "my_series.str.contains(\"[Tt]ill\")   # Matches T or t followed by \"ill\"\n"
   ]
  },
  {
   "cell_type": "code",
   "execution_count": 2,
   "id": "7c8ac69d-9435-4413-accd-6fa6fb1b0971",
   "metadata": {},
   "outputs": [
    {
     "name": "stderr",
     "output_type": "stream",
     "text": [
      "C:\\Users\\sxf\\AppData\\Local\\Temp\\ipykernel_22888\\731273422.py:25: UserWarning: This pattern is interpreted as a regular expression, and has match groups. To actually get the groups, use str.extract.\n",
      "  ex_str1.str.contains(\"^(He|he)\") # Matches He or he at the start of a string\n"
     ]
    },
    {
     "data": {
      "text/plain": [
       "0    False\n",
       "1     True\n",
       "2     True\n",
       "dtype: bool"
      ]
     },
     "execution_count": 2,
     "metadata": {},
     "output_type": "execute_result"
    }
   ],
   "source": [
    "import pandas as pd\n",
    "\"\"\"\n",
    "Regular expressions include several special character sets that allow to quickly specify certain common character types. They include:\n",
    "[a-z] - match any lowercase letter \n",
    "[A-Z] - match any uppercase letter \n",
    "[0-9] - match any digit \n",
    "[a-zA-Z0-9] - match any letter or digit\n",
    "Adding the \"^\" symbol inside the square brackets matches any characters NOT in the set:\n",
    "[^a-z] - match any character that is not a lowercase letter \n",
    "[^A-Z] - match any character that is not a uppercase letter \n",
    "[^0-9] - match any character that is not a digit \n",
    "[^a-zA-Z0-9] - match any character that is not a letter or digit\n",
    "Python regular expressions also include a shorthand for specifying common sequences:\n",
    "\\d - match any digit \n",
    "\\D - match any non digit \n",
    "\\w - match a word character\n",
    "\\W - match a non-word character \n",
    "\\s - match whitespace (spaces, tabs, newlines, etc.) \n",
    "\\S - match non-whitespace\n",
    "\"^\" - outside of square brackets, the caret symbol searches for matches at the beginning of a string:\n",
    "\"\"\"\n",
    "\n",
    "ex_str1 = pd.Series([\"Where did he go\", \"He went to the mall\", \"he is good\"])\n",
    "\n",
    "ex_str1.str.contains(\"^(He|he)\") # Matches He or he at the start of a string"
   ]
  },
  {
   "cell_type": "code",
   "execution_count": null,
   "id": "b2bf1e64-6d73-4f19-a243-7036025c7c28",
   "metadata": {},
   "outputs": [],
   "source": [
    "ex_str1.str.contains(\"(go)$\") # Matches go at the end of a string\n"
   ]
  },
  {
   "cell_type": "code",
   "execution_count": null,
   "id": "77a73dc0-c88f-4a30-bab7-95383b343445",
   "metadata": {},
   "outputs": [],
   "source": [
    "\"\"\"\n",
    "\"( )\" - parentheses in regular expressions are used for grouping and to enforce the proper order of operations just like they are in math and logical expressions. In the examples above, the parentheses let us group the or expressions so that the \"^\" and \"$\" symbols operate on the entire or statement.\n",
    "\"*\" - an asterisk matches zero or more copies of the preceding character\n",
    "\"?\" - a question mark matches zero or 1 copy of the preceding character\n",
    "\"+\" - a plus matches 1 more copies of the preceding character\n",
    "\"\"\"\n",
    "\n",
    "\n",
    "ex_str2 = pd.Series([\"abdominal\",\"b\",\"aa\",\"abbcc\",\"aba\"])\n",
    "\n",
    "# Match 0 or more a's, a single b, then 1 or characters\n",
    "ex_str2.str.contains(\"a*b.+\") "
   ]
  },
  {
   "cell_type": "code",
   "execution_count": null,
   "id": "d1601db8-3e6c-4ee1-8f30-b262da7079fb",
   "metadata": {},
   "outputs": [],
   "source": [
    "# Match 1 or more a's, an optional b, then 1 or a's\n",
    "ex_str2.str.contains(\"a+b?a+\")"
   ]
  },
  {
   "cell_type": "code",
   "execution_count": null,
   "id": "595868c5-f70f-4368-b5dd-a8c2c31e9fec",
   "metadata": {},
   "outputs": [],
   "source": [
    "\"\"\"\n",
    "\"{ }\" - curly braces match a preceding character for a specified number of repetitions:\n",
    "\"{m}\" - the preceding element is matched m times\n",
    "\"{m,}\" - the preceding element is matched m times or more\n",
    "\"{m,n}\" - the preceding element is matched between m and n times\n",
    "\"\"\"\n",
    "\n",
    "ex_str3 = pd.Series([\"aabcbcb\",\"abbb\",\"abbaab\",\"aabb\"])\n",
    "\n",
    "ex_str3.str.contains(\"a{2}b{2,}\")    # Match 2 a's then 2 or more b's"
   ]
  },
  {
   "cell_type": "code",
   "execution_count": null,
   "id": "296d6f6a-c636-41b1-8bf2-d9b202e7b301",
   "metadata": {},
   "outputs": [],
   "source": [
    "ex_str4 = pd.Series([\"Mr. Ed\",\"Dr. Mario\",\"Miss\\Mrs Granger.\"])\n",
    "\n",
    "ex_str4.str.contains(\"\\. \") # Match a single period and then a space"
   ]
  },
  {
   "cell_type": "code",
   "execution_count": null,
   "id": "24a6e10c-f569-44c1-9e2a-c2f7cfb93777",
   "metadata": {},
   "outputs": [],
   "source": [
    "ex_str4.str.contains(r\"\\\\\") # Match strings containing a backslash\n"
   ]
  },
  {
   "cell_type": "code",
   "execution_count": null,
   "id": "76a6ce0d-6276-4fd9-9bd3-50fc4f58d3d7",
   "metadata": {},
   "outputs": [],
   "source": [
    "comments.str.count(r\"[Ww]olves\").head(8)\n"
   ]
  },
  {
   "cell_type": "code",
   "execution_count": null,
   "id": "9b9ae424-b797-486d-9d15-56c725079851",
   "metadata": {},
   "outputs": [],
   "source": [
    "comments.str.findall(r\"[Ww]olves\").head(8)\n"
   ]
  },
  {
   "cell_type": "code",
   "execution_count": null,
   "id": "d6c2f32a-d93f-413a-b1e7-c3ef96dee21e",
   "metadata": {},
   "outputs": [],
   "source": [
    "web_links = comments.str.contains(r\"https?:\")\n",
    "\n",
    "posts_with_links = comments[web_links]\n",
    "\n",
    "print( len(posts_with_links))\n",
    "\n",
    "posts_with_links.head(5)"
   ]
  },
  {
   "cell_type": "code",
   "execution_count": null,
   "id": "da42543f-53b7-465d-85eb-11edf52e251f",
   "metadata": {},
   "outputs": [],
   "source": [
    "only_links = posts_with_links.str.findall(r\"https?:[^ \\n\\)]+\")\n",
    "\n",
    "only_links.head(10)"
   ]
  }
 ],
 "metadata": {
  "kernelspec": {
   "display_name": "Python 3 (ipykernel)",
   "language": "python",
   "name": "python3"
  },
  "language_info": {
   "codemirror_mode": {
    "name": "ipython",
    "version": 3
   },
   "file_extension": ".py",
   "mimetype": "text/x-python",
   "name": "python",
   "nbconvert_exporter": "python",
   "pygments_lexer": "ipython3",
   "version": "3.11.5"
  }
 },
 "nbformat": 4,
 "nbformat_minor": 5
}
