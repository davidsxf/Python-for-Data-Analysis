{
 "cells": [
  {
   "cell_type": "code",
   "execution_count": 1,
   "metadata": {},
   "outputs": [
    {
     "data": {
      "text/plain": [
       "200"
      ]
     },
     "execution_count": 1,
     "metadata": {},
     "output_type": "execute_result"
    }
   ],
   "source": [
    "import datetime as dt\n",
    "import pandas as pd\n",
    "import requests\n",
    "\n",
    "yesterday = dt.date.today() - dt.timedelta(days=1)\n",
    "api = 'https://earthquake.usgs.gov/fdsnws/event/1/query'\n",
    "payload = {\n",
    "    'format': 'geojson',\n",
    "    'starttime': yesterday - dt.timedelta(days=30),\n",
    "    'endtime': yesterday\n",
    "}\n",
    "response = requests.get(api, params=payload)\n",
    "\n",
    "# let's make sure the request was OK\n",
    "response.status_code"
   ]
  },
  {
   "cell_type": "code",
   "execution_count": 2,
   "metadata": {},
   "outputs": [
    {
     "data": {
      "text/plain": [
       "dict_keys(['type', 'metadata', 'features', 'bbox'])"
      ]
     },
     "execution_count": 2,
     "metadata": {},
     "output_type": "execute_result"
    }
   ],
   "source": [
    "earthquake_json = response.json()\n",
    "earthquake_json.keys()"
   ]
  },
  {
   "cell_type": "code",
   "execution_count": 3,
   "metadata": {},
   "outputs": [
    {
     "data": {
      "text/plain": [
       "{'generated': 1709278694000,\n",
       " 'url': 'https://earthquake.usgs.gov/fdsnws/event/1/query?format=geojson&starttime=2024-01-30&endtime=2024-02-29',\n",
       " 'title': 'USGS Earthquakes',\n",
       " 'status': 200,\n",
       " 'api': '1.14.0',\n",
       " 'count': 11789}"
      ]
     },
     "execution_count": 3,
     "metadata": {},
     "output_type": "execute_result"
    }
   ],
   "source": [
    "earthquake_json['metadata']"
   ]
  },
  {
   "cell_type": "code",
   "execution_count": 4,
   "metadata": {},
   "outputs": [
    {
     "data": {
      "text/plain": [
       "list"
      ]
     },
     "execution_count": 4,
     "metadata": {},
     "output_type": "execute_result"
    }
   ],
   "source": [
    "type(earthquake_json['features'])"
   ]
  },
  {
   "cell_type": "code",
   "execution_count": 5,
   "metadata": {},
   "outputs": [
    {
     "data": {
      "text/plain": [
       "{'type': 'Feature',\n",
       " 'properties': {'mag': 1.6,\n",
       "  'place': '54 km S of Whites City, New Mexico',\n",
       "  'time': 1709164025669,\n",
       "  'updated': 1709165458952,\n",
       "  'tz': None,\n",
       "  'url': 'https://earthquake.usgs.gov/earthquakes/eventpage/tx2024edug',\n",
       "  'detail': 'https://earthquake.usgs.gov/fdsnws/event/1/query?eventid=tx2024edug&format=geojson',\n",
       "  'felt': None,\n",
       "  'cdi': None,\n",
       "  'mmi': None,\n",
       "  'alert': None,\n",
       "  'status': 'reviewed',\n",
       "  'tsunami': 0,\n",
       "  'sig': 39,\n",
       "  'net': 'tx',\n",
       "  'code': '2024edug',\n",
       "  'ids': ',tx2024edug,',\n",
       "  'sources': ',tx,',\n",
       "  'types': ',origin,phase-data,',\n",
       "  'nst': 15,\n",
       "  'dmin': 0,\n",
       "  'rms': 0.2,\n",
       "  'gap': 58,\n",
       "  'magType': 'ml',\n",
       "  'type': 'earthquake',\n",
       "  'title': 'M 1.6 - 54 km S of Whites City, New Mexico'},\n",
       " 'geometry': {'type': 'Point', 'coordinates': [-104.421, 31.685, 6.0486]},\n",
       " 'id': 'tx2024edug'}"
      ]
     },
     "execution_count": 5,
     "metadata": {},
     "output_type": "execute_result"
    }
   ],
   "source": [
    "earthquake_json['features'][0]"
   ]
  },
  {
   "cell_type": "markdown",
   "metadata": {},
   "source": [
    "### Convert to DataFrame\n",
    "We need to grab the properties section out of every entry in the features JSON array to create our dataframe."
   ]
  },
  {
   "cell_type": "code",
   "execution_count": 6,
   "metadata": {},
   "outputs": [
    {
     "data": {
      "text/html": [
       "<div>\n",
       "<style scoped>\n",
       "    .dataframe tbody tr th:only-of-type {\n",
       "        vertical-align: middle;\n",
       "    }\n",
       "\n",
       "    .dataframe tbody tr th {\n",
       "        vertical-align: top;\n",
       "    }\n",
       "\n",
       "    .dataframe thead th {\n",
       "        text-align: right;\n",
       "    }\n",
       "</style>\n",
       "<table border=\"1\" class=\"dataframe\">\n",
       "  <thead>\n",
       "    <tr style=\"text-align: right;\">\n",
       "      <th></th>\n",
       "      <th>mag</th>\n",
       "      <th>place</th>\n",
       "      <th>time</th>\n",
       "      <th>updated</th>\n",
       "      <th>tz</th>\n",
       "      <th>url</th>\n",
       "      <th>detail</th>\n",
       "      <th>felt</th>\n",
       "      <th>cdi</th>\n",
       "      <th>mmi</th>\n",
       "      <th>...</th>\n",
       "      <th>ids</th>\n",
       "      <th>sources</th>\n",
       "      <th>types</th>\n",
       "      <th>nst</th>\n",
       "      <th>dmin</th>\n",
       "      <th>rms</th>\n",
       "      <th>gap</th>\n",
       "      <th>magType</th>\n",
       "      <th>type</th>\n",
       "      <th>title</th>\n",
       "    </tr>\n",
       "  </thead>\n",
       "  <tbody>\n",
       "    <tr>\n",
       "      <th>0</th>\n",
       "      <td>1.60</td>\n",
       "      <td>54 km S of Whites City, New Mexico</td>\n",
       "      <td>1709164025669</td>\n",
       "      <td>1709165458952</td>\n",
       "      <td>None</td>\n",
       "      <td>https://earthquake.usgs.gov/earthquakes/eventp...</td>\n",
       "      <td>https://earthquake.usgs.gov/fdsnws/event/1/que...</td>\n",
       "      <td>NaN</td>\n",
       "      <td>NaN</td>\n",
       "      <td>NaN</td>\n",
       "      <td>...</td>\n",
       "      <td>,tx2024edug,</td>\n",
       "      <td>,tx,</td>\n",
       "      <td>,origin,phase-data,</td>\n",
       "      <td>15.0</td>\n",
       "      <td>0.000000</td>\n",
       "      <td>0.20</td>\n",
       "      <td>58.0</td>\n",
       "      <td>ml</td>\n",
       "      <td>earthquake</td>\n",
       "      <td>M 1.6 - 54 km S of Whites City, New Mexico</td>\n",
       "    </tr>\n",
       "    <tr>\n",
       "      <th>1</th>\n",
       "      <td>1.85</td>\n",
       "      <td>29 km E of Clayton, Idaho</td>\n",
       "      <td>1709163814990</td>\n",
       "      <td>1709223415150</td>\n",
       "      <td>None</td>\n",
       "      <td>https://earthquake.usgs.gov/earthquakes/eventp...</td>\n",
       "      <td>https://earthquake.usgs.gov/fdsnws/event/1/que...</td>\n",
       "      <td>NaN</td>\n",
       "      <td>NaN</td>\n",
       "      <td>NaN</td>\n",
       "      <td>...</td>\n",
       "      <td>,mb90042268,</td>\n",
       "      <td>,mb,</td>\n",
       "      <td>,origin,phase-data,</td>\n",
       "      <td>8.0</td>\n",
       "      <td>0.137900</td>\n",
       "      <td>0.13</td>\n",
       "      <td>100.0</td>\n",
       "      <td>ml</td>\n",
       "      <td>earthquake</td>\n",
       "      <td>M 1.9 - 29 km E of Clayton, Idaho</td>\n",
       "    </tr>\n",
       "    <tr>\n",
       "      <th>2</th>\n",
       "      <td>1.67</td>\n",
       "      <td>27 km E of Atka, Alaska</td>\n",
       "      <td>1709163203580</td>\n",
       "      <td>1709170925320</td>\n",
       "      <td>None</td>\n",
       "      <td>https://earthquake.usgs.gov/earthquakes/eventp...</td>\n",
       "      <td>https://earthquake.usgs.gov/fdsnws/event/1/que...</td>\n",
       "      <td>NaN</td>\n",
       "      <td>NaN</td>\n",
       "      <td>NaN</td>\n",
       "      <td>...</td>\n",
       "      <td>,av91134478,</td>\n",
       "      <td>,av,</td>\n",
       "      <td>,origin,phase-data,</td>\n",
       "      <td>6.0</td>\n",
       "      <td>NaN</td>\n",
       "      <td>0.10</td>\n",
       "      <td>317.0</td>\n",
       "      <td>ml</td>\n",
       "      <td>earthquake</td>\n",
       "      <td>M 1.7 - 27 km E of Atka, Alaska</td>\n",
       "    </tr>\n",
       "    <tr>\n",
       "      <th>3</th>\n",
       "      <td>1.01</td>\n",
       "      <td>14 km NE of Milford, Utah</td>\n",
       "      <td>1709162935420</td>\n",
       "      <td>1709164547240</td>\n",
       "      <td>None</td>\n",
       "      <td>https://earthquake.usgs.gov/earthquakes/eventp...</td>\n",
       "      <td>https://earthquake.usgs.gov/fdsnws/event/1/que...</td>\n",
       "      <td>NaN</td>\n",
       "      <td>NaN</td>\n",
       "      <td>NaN</td>\n",
       "      <td>...</td>\n",
       "      <td>,uu80052841,</td>\n",
       "      <td>,uu,</td>\n",
       "      <td>,origin,phase-data,</td>\n",
       "      <td>11.0</td>\n",
       "      <td>0.008740</td>\n",
       "      <td>0.08</td>\n",
       "      <td>112.0</td>\n",
       "      <td>md</td>\n",
       "      <td>earthquake</td>\n",
       "      <td>M 1.0 - 14 km NE of Milford, Utah</td>\n",
       "    </tr>\n",
       "    <tr>\n",
       "      <th>4</th>\n",
       "      <td>1.23</td>\n",
       "      <td>11 km E of Mammoth Lakes, CA</td>\n",
       "      <td>1709161614810</td>\n",
       "      <td>1709161707320</td>\n",
       "      <td>None</td>\n",
       "      <td>https://earthquake.usgs.gov/earthquakes/eventp...</td>\n",
       "      <td>https://earthquake.usgs.gov/fdsnws/event/1/que...</td>\n",
       "      <td>NaN</td>\n",
       "      <td>NaN</td>\n",
       "      <td>NaN</td>\n",
       "      <td>...</td>\n",
       "      <td>,nc74009521,</td>\n",
       "      <td>,nc,</td>\n",
       "      <td>,nearby-cities,origin,phase-data,</td>\n",
       "      <td>9.0</td>\n",
       "      <td>0.004772</td>\n",
       "      <td>0.02</td>\n",
       "      <td>103.0</td>\n",
       "      <td>md</td>\n",
       "      <td>earthquake</td>\n",
       "      <td>M 1.2 - 11 km E of Mammoth Lakes, CA</td>\n",
       "    </tr>\n",
       "  </tbody>\n",
       "</table>\n",
       "<p>5 rows × 26 columns</p>\n",
       "</div>"
      ],
      "text/plain": [
       "    mag                               place           time        updated  \\\n",
       "0  1.60  54 km S of Whites City, New Mexico  1709164025669  1709165458952   \n",
       "1  1.85           29 km E of Clayton, Idaho  1709163814990  1709223415150   \n",
       "2  1.67             27 km E of Atka, Alaska  1709163203580  1709170925320   \n",
       "3  1.01           14 km NE of Milford, Utah  1709162935420  1709164547240   \n",
       "4  1.23        11 km E of Mammoth Lakes, CA  1709161614810  1709161707320   \n",
       "\n",
       "     tz                                                url  \\\n",
       "0  None  https://earthquake.usgs.gov/earthquakes/eventp...   \n",
       "1  None  https://earthquake.usgs.gov/earthquakes/eventp...   \n",
       "2  None  https://earthquake.usgs.gov/earthquakes/eventp...   \n",
       "3  None  https://earthquake.usgs.gov/earthquakes/eventp...   \n",
       "4  None  https://earthquake.usgs.gov/earthquakes/eventp...   \n",
       "\n",
       "                                              detail  felt  cdi  mmi  ...  \\\n",
       "0  https://earthquake.usgs.gov/fdsnws/event/1/que...   NaN  NaN  NaN  ...   \n",
       "1  https://earthquake.usgs.gov/fdsnws/event/1/que...   NaN  NaN  NaN  ...   \n",
       "2  https://earthquake.usgs.gov/fdsnws/event/1/que...   NaN  NaN  NaN  ...   \n",
       "3  https://earthquake.usgs.gov/fdsnws/event/1/que...   NaN  NaN  NaN  ...   \n",
       "4  https://earthquake.usgs.gov/fdsnws/event/1/que...   NaN  NaN  NaN  ...   \n",
       "\n",
       "            ids sources                              types   nst      dmin  \\\n",
       "0  ,tx2024edug,    ,tx,                ,origin,phase-data,  15.0  0.000000   \n",
       "1  ,mb90042268,    ,mb,                ,origin,phase-data,   8.0  0.137900   \n",
       "2  ,av91134478,    ,av,                ,origin,phase-data,   6.0       NaN   \n",
       "3  ,uu80052841,    ,uu,                ,origin,phase-data,  11.0  0.008740   \n",
       "4  ,nc74009521,    ,nc,  ,nearby-cities,origin,phase-data,   9.0  0.004772   \n",
       "\n",
       "    rms    gap magType        type                                       title  \n",
       "0  0.20   58.0      ml  earthquake  M 1.6 - 54 km S of Whites City, New Mexico  \n",
       "1  0.13  100.0      ml  earthquake           M 1.9 - 29 km E of Clayton, Idaho  \n",
       "2  0.10  317.0      ml  earthquake             M 1.7 - 27 km E of Atka, Alaska  \n",
       "3  0.08  112.0      md  earthquake           M 1.0 - 14 km NE of Milford, Utah  \n",
       "4  0.02  103.0      md  earthquake        M 1.2 - 11 km E of Mammoth Lakes, CA  \n",
       "\n",
       "[5 rows x 26 columns]"
      ]
     },
     "execution_count": 6,
     "metadata": {},
     "output_type": "execute_result"
    }
   ],
   "source": [
    "earthquake_properties_data = [\n",
    "    quake['properties'] for quake in earthquake_json['features']\n",
    "]\n",
    "df = pd.DataFrame(earthquake_properties_data)\n",
    "df.head()"
   ]
  },
  {
   "cell_type": "code",
   "execution_count": null,
   "metadata": {},
   "outputs": [],
   "source": []
  }
 ],
 "metadata": {
  "kernelspec": {
   "display_name": "Python 3.11.7 ('ai')",
   "language": "python",
   "name": "python3"
  },
  "language_info": {
   "codemirror_mode": {
    "name": "ipython",
    "version": 3
   },
   "file_extension": ".py",
   "mimetype": "text/x-python",
   "name": "python",
   "nbconvert_exporter": "python",
   "pygments_lexer": "ipython3",
   "version": "3.11.7"
  },
  "orig_nbformat": 4,
  "vscode": {
   "interpreter": {
    "hash": "16b5ba8b0fc2955b30e9dcc40d80a15055b56bf6ee36ea534159a7d87da288cf"
   }
  }
 },
 "nbformat": 4,
 "nbformat_minor": 2
}
