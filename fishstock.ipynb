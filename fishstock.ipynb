{
 "cells": [
  {
   "cell_type": "code",
   "execution_count": 22,
   "metadata": {},
   "outputs": [
    {
     "data": {
      "text/html": [
       "<div>\n",
       "<style scoped>\n",
       "    .dataframe tbody tr th:only-of-type {\n",
       "        vertical-align: middle;\n",
       "    }\n",
       "\n",
       "    .dataframe tbody tr th {\n",
       "        vertical-align: top;\n",
       "    }\n",
       "\n",
       "    .dataframe thead th {\n",
       "        text-align: right;\n",
       "    }\n",
       "</style>\n",
       "<table border=\"1\" class=\"dataframe\">\n",
       "  <thead>\n",
       "    <tr style=\"text-align: right;\">\n",
       "      <th></th>\n",
       "      <th>池塘编号</th>\n",
       "      <th>品种名称</th>\n",
       "      <th>数量（斤）</th>\n",
       "      <th>均规格（斤/尾）</th>\n",
       "      <th>数量（尾）</th>\n",
       "      <th>结算年月</th>\n",
       "    </tr>\n",
       "  </thead>\n",
       "  <tbody>\n",
       "    <tr>\n",
       "      <th>0</th>\n",
       "      <td>A1</td>\n",
       "      <td>鲫鱼</td>\n",
       "      <td>9808.28</td>\n",
       "      <td>0.730000</td>\n",
       "      <td>13436</td>\n",
       "      <td>2023-01-31 23:59:59</td>\n",
       "    </tr>\n",
       "    <tr>\n",
       "      <th>1</th>\n",
       "      <td>2224A</td>\n",
       "      <td>黄颡鱼</td>\n",
       "      <td>70.00</td>\n",
       "      <td>0.140000</td>\n",
       "      <td>500</td>\n",
       "      <td>2023-01-31 23:59:59</td>\n",
       "    </tr>\n",
       "    <tr>\n",
       "      <th>2</th>\n",
       "      <td>2224A</td>\n",
       "      <td>草鱼商品鱼</td>\n",
       "      <td>34811.14</td>\n",
       "      <td>3.234935</td>\n",
       "      <td>10761</td>\n",
       "      <td>2023-01-31 23:59:59</td>\n",
       "    </tr>\n",
       "    <tr>\n",
       "      <th>3</th>\n",
       "      <td>2224A</td>\n",
       "      <td>大头鱼</td>\n",
       "      <td>2475.00</td>\n",
       "      <td>3.000000</td>\n",
       "      <td>825</td>\n",
       "      <td>2023-01-31 23:59:59</td>\n",
       "    </tr>\n",
       "    <tr>\n",
       "      <th>4</th>\n",
       "      <td>2224A</td>\n",
       "      <td>鲫鱼</td>\n",
       "      <td>4534.40</td>\n",
       "      <td>0.800000</td>\n",
       "      <td>5668</td>\n",
       "      <td>2023-01-31 23:59:59</td>\n",
       "    </tr>\n",
       "  </tbody>\n",
       "</table>\n",
       "</div>"
      ],
      "text/plain": [
       "    池塘编号   品种名称     数量（斤）  均规格（斤/尾）  数量（尾）                 结算年月\n",
       "0     A1     鲫鱼   9808.28  0.730000  13436  2023-01-31 23:59:59\n",
       "1  2224A    黄颡鱼     70.00  0.140000    500  2023-01-31 23:59:59\n",
       "2  2224A  草鱼商品鱼  34811.14  3.234935  10761  2023-01-31 23:59:59\n",
       "3  2224A    大头鱼   2475.00  3.000000    825  2023-01-31 23:59:59\n",
       "4  2224A     鲫鱼   4534.40  0.800000   5668  2023-01-31 23:59:59"
      ]
     },
     "execution_count": 22,
     "metadata": {},
     "output_type": "execute_result"
    }
   ],
   "source": [
    "import pandas as pd\n",
    "\n",
    "df = pd.read_excel(\"fishstock.xlsx\")\n",
    "\n",
    "df.head()"
   ]
  },
  {
   "cell_type": "code",
   "execution_count": null,
   "metadata": {},
   "outputs": [],
   "source": []
  },
  {
   "cell_type": "code",
   "execution_count": 23,
   "metadata": {},
   "outputs": [
    {
     "data": {
      "text/plain": [
       "池塘编号         object\n",
       "品种名称         object\n",
       "数量（斤）       float64\n",
       "均规格（斤/尾）    float64\n",
       "数量（尾）        object\n",
       "结算年月         object\n",
       "dtype: object"
      ]
     },
     "execution_count": 23,
     "metadata": {},
     "output_type": "execute_result"
    }
   ],
   "source": [
    "df.dtypes"
   ]
  },
  {
   "cell_type": "code",
   "execution_count": null,
   "metadata": {},
   "outputs": [],
   "source": []
  },
  {
   "cell_type": "code",
   "execution_count": 25,
   "metadata": {},
   "outputs": [],
   "source": [
    "df_g = df.groupby([\"池塘编号\",\"结算年月\"]).sum()\n"
   ]
  },
  {
   "cell_type": "code",
   "execution_count": 27,
   "metadata": {},
   "outputs": [
    {
     "data": {
      "text/html": [
       "<div>\n",
       "<style scoped>\n",
       "    .dataframe tbody tr th:only-of-type {\n",
       "        vertical-align: middle;\n",
       "    }\n",
       "\n",
       "    .dataframe tbody tr th {\n",
       "        vertical-align: top;\n",
       "    }\n",
       "\n",
       "    .dataframe thead th {\n",
       "        text-align: right;\n",
       "    }\n",
       "</style>\n",
       "<table border=\"1\" class=\"dataframe\">\n",
       "  <thead>\n",
       "    <tr style=\"text-align: right;\">\n",
       "      <th></th>\n",
       "      <th>池塘编号</th>\n",
       "      <th>结算年月</th>\n",
       "      <th>品种名称</th>\n",
       "      <th>数量（斤）</th>\n",
       "      <th>均规格（斤/尾）</th>\n",
       "      <th>数量（尾）</th>\n",
       "    </tr>\n",
       "  </thead>\n",
       "  <tbody>\n",
       "    <tr>\n",
       "      <th>0</th>\n",
       "      <td>1106</td>\n",
       "      <td>2023-01-31 23:59:59</td>\n",
       "      <td>草鱼商品鱼鲮鱼青鱼大头鱼黄颡鱼白鲢鲫鱼</td>\n",
       "      <td>0.00</td>\n",
       "      <td>0.000000</td>\n",
       "      <td>0000000</td>\n",
       "    </tr>\n",
       "    <tr>\n",
       "      <th>1</th>\n",
       "      <td>1108</td>\n",
       "      <td>2023-01-31 23:59:59</td>\n",
       "      <td>大头鱼鲫鱼草鱼商品鱼黄颡鱼鲮鱼白鲢青鱼</td>\n",
       "      <td>0.00</td>\n",
       "      <td>0.000000</td>\n",
       "      <td>0000000</td>\n",
       "    </tr>\n",
       "    <tr>\n",
       "      <th>2</th>\n",
       "      <td>1110</td>\n",
       "      <td>2023-01-31 23:59:59</td>\n",
       "      <td>草鱼商品鱼鲫鱼大头鱼鲮鱼白鲢青鱼黄颡鱼</td>\n",
       "      <td>0.00</td>\n",
       "      <td>0.000000</td>\n",
       "      <td>0000000</td>\n",
       "    </tr>\n",
       "    <tr>\n",
       "      <th>3</th>\n",
       "      <td>1111</td>\n",
       "      <td>2023-01-31 23:59:59</td>\n",
       "      <td>草鱼商品鱼鳊鱼鲮鱼青鱼黄颡鱼大头鱼鲫鱼白鲢</td>\n",
       "      <td>76128.16</td>\n",
       "      <td>8.761008</td>\n",
       "      <td>06300047827210274151289355558</td>\n",
       "    </tr>\n",
       "    <tr>\n",
       "      <th>4</th>\n",
       "      <td>1111</td>\n",
       "      <td>2023-02-28 23:59:59</td>\n",
       "      <td>鲮鱼黄颡鱼青鱼白鲢鳊鱼鲫鱼大头鱼</td>\n",
       "      <td>83827.27</td>\n",
       "      <td>9.541160</td>\n",
       "      <td>47,298.26,915.210.558.67,413.355.1,289.</td>\n",
       "    </tr>\n",
       "  </tbody>\n",
       "</table>\n",
       "</div>"
      ],
      "text/plain": [
       "   池塘编号                 结算年月                   品种名称     数量（斤）  均规格（斤/尾）  \\\n",
       "0  1106  2023-01-31 23:59:59    草鱼商品鱼鲮鱼青鱼大头鱼黄颡鱼白鲢鲫鱼      0.00  0.000000   \n",
       "1  1108  2023-01-31 23:59:59    大头鱼鲫鱼草鱼商品鱼黄颡鱼鲮鱼白鲢青鱼      0.00  0.000000   \n",
       "2  1110  2023-01-31 23:59:59    草鱼商品鱼鲫鱼大头鱼鲮鱼白鲢青鱼黄颡鱼      0.00  0.000000   \n",
       "3  1111  2023-01-31 23:59:59  草鱼商品鱼鳊鱼鲮鱼青鱼黄颡鱼大头鱼鲫鱼白鲢  76128.16  8.761008   \n",
       "4  1111  2023-02-28 23:59:59       鲮鱼黄颡鱼青鱼白鲢鳊鱼鲫鱼大头鱼  83827.27  9.541160   \n",
       "\n",
       "                                     数量（尾）  \n",
       "0                                  0000000  \n",
       "1                                  0000000  \n",
       "2                                  0000000  \n",
       "3            06300047827210274151289355558  \n",
       "4  47,298.26,915.210.558.67,413.355.1,289.  "
      ]
     },
     "execution_count": 27,
     "metadata": {},
     "output_type": "execute_result"
    }
   ],
   "source": [
    "df_g = df_g.reset_index()\n"
   ]
  },
  {
   "cell_type": "code",
   "execution_count": 29,
   "metadata": {},
   "outputs": [
    {
     "data": {
      "text/plain": [
       "池塘编号             object\n",
       "结算年月     datetime64[ns]\n",
       "品种名称             object\n",
       "数量（斤）           float64\n",
       "dtype: object"
      ]
     },
     "execution_count": 29,
     "metadata": {},
     "output_type": "execute_result"
    }
   ],
   "source": [
    "df_g[\"结算年月\"] = pd.to_datetime(df_g[\"结算年月\"])\n",
    "df_g = df_g[[\"池塘编号\",\"结算年月\",\"品种名称\",\"数量（斤）\"]]\n",
    "df_g.dtypes"
   ]
  },
  {
   "cell_type": "code",
   "execution_count": 30,
   "metadata": {},
   "outputs": [],
   "source": [
    "df_g.set_index('结算年月',inplace=True)"
   ]
  },
  {
   "cell_type": "code",
   "execution_count": 31,
   "metadata": {},
   "outputs": [
    {
     "name": "stderr",
     "output_type": "stream",
     "text": [
      "C:\\Users\\Administrator\\AppData\\Local\\Temp\\ipykernel_24012\\3863601706.py:1: FutureWarning: 'M' is deprecated and will be removed in a future version, please use 'ME' instead.\n",
      "  df_g = df_g.groupby('池塘编号').resample('M')['数量（斤）'].sum()\n"
     ]
    },
    {
     "data": {
      "text/plain": [
       "池塘编号  结算年月      \n",
       "1106  2023-01-31        0.00\n",
       "1108  2023-01-31        0.00\n",
       "1110  2023-01-31        0.00\n",
       "1111  2023-01-31    76128.16\n",
       "      2023-02-28    83827.27\n",
       "Name: 数量（斤）, dtype: float64"
      ]
     },
     "execution_count": 31,
     "metadata": {},
     "output_type": "execute_result"
    }
   ],
   "source": [
    "df_g = df_g.groupby('池塘编号').resample('M')['数量（斤）'].sum()\n",
    "df_g.head()"
   ]
  },
  {
   "cell_type": "code",
   "execution_count": 32,
   "metadata": {},
   "outputs": [],
   "source": [
    "df_g = df_g.reset_index()\n",
    "df_g.head()\n",
    "df_g.to_excel('d_g.xlsx')"
   ]
  },
  {
   "cell_type": "code",
   "execution_count": 36,
   "metadata": {},
   "outputs": [],
   "source": [
    "df_m = pd.read_excel('d_m.xlsx')"
   ]
  },
  {
   "cell_type": "code",
   "execution_count": 37,
   "metadata": {},
   "outputs": [
    {
     "data": {
      "text/html": [
       "<div>\n",
       "<style scoped>\n",
       "    .dataframe tbody tr th:only-of-type {\n",
       "        vertical-align: middle;\n",
       "    }\n",
       "\n",
       "    .dataframe tbody tr th {\n",
       "        vertical-align: top;\n",
       "    }\n",
       "\n",
       "    .dataframe thead th {\n",
       "        text-align: right;\n",
       "    }\n",
       "</style>\n",
       "<table border=\"1\" class=\"dataframe\">\n",
       "  <thead>\n",
       "    <tr style=\"text-align: right;\">\n",
       "      <th></th>\n",
       "      <th>Unnamed: 0</th>\n",
       "      <th>池塘编号</th>\n",
       "      <th>投喂时间</th>\n",
       "      <th>投喂重量kg</th>\n",
       "      <th>结算年月</th>\n",
       "      <th>数量（斤）</th>\n",
       "    </tr>\n",
       "  </thead>\n",
       "  <tbody>\n",
       "    <tr>\n",
       "      <th>0</th>\n",
       "      <td>0</td>\n",
       "      <td>1111</td>\n",
       "      <td>2023-01-31</td>\n",
       "      <td>2631</td>\n",
       "      <td>2023-01-31</td>\n",
       "      <td>76128.16</td>\n",
       "    </tr>\n",
       "    <tr>\n",
       "      <th>1</th>\n",
       "      <td>1</td>\n",
       "      <td>1111</td>\n",
       "      <td>2023-02-28</td>\n",
       "      <td>5988</td>\n",
       "      <td>2023-02-28</td>\n",
       "      <td>83827.27</td>\n",
       "    </tr>\n",
       "    <tr>\n",
       "      <th>2</th>\n",
       "      <td>2</td>\n",
       "      <td>1111</td>\n",
       "      <td>2023-03-31</td>\n",
       "      <td>4820</td>\n",
       "      <td>2023-03-31</td>\n",
       "      <td>106871.38</td>\n",
       "    </tr>\n",
       "    <tr>\n",
       "      <th>3</th>\n",
       "      <td>3</td>\n",
       "      <td>1111</td>\n",
       "      <td>2023-04-30</td>\n",
       "      <td>8576</td>\n",
       "      <td>2023-04-30</td>\n",
       "      <td>107372.01</td>\n",
       "    </tr>\n",
       "    <tr>\n",
       "      <th>4</th>\n",
       "      <td>4</td>\n",
       "      <td>1111</td>\n",
       "      <td>2023-05-31</td>\n",
       "      <td>7681</td>\n",
       "      <td>2023-05-31</td>\n",
       "      <td>93135.08</td>\n",
       "    </tr>\n",
       "  </tbody>\n",
       "</table>\n",
       "</div>"
      ],
      "text/plain": [
       "   Unnamed: 0  池塘编号       投喂时间  投喂重量kg       结算年月      数量（斤）\n",
       "0           0  1111 2023-01-31    2631 2023-01-31   76128.16\n",
       "1           1  1111 2023-02-28    5988 2023-02-28   83827.27\n",
       "2           2  1111 2023-03-31    4820 2023-03-31  106871.38\n",
       "3           3  1111 2023-04-30    8576 2023-04-30  107372.01\n",
       "4           4  1111 2023-05-31    7681 2023-05-31   93135.08"
      ]
     },
     "execution_count": 37,
     "metadata": {},
     "output_type": "execute_result"
    }
   ],
   "source": [
    "pd_t =pd.merge(df_m, df_g, left_on=['池塘编号','投喂时间'], right_on=['池塘编号','结算年月'])\n",
    "pd_t.head()"
   ]
  },
  {
   "cell_type": "code",
   "execution_count": 38,
   "metadata": {},
   "outputs": [],
   "source": [
    "pd_t.to_excel('d_t.xlsx')"
   ]
  },
  {
   "cell_type": "markdown",
   "metadata": {},
   "source": [
    "### 分析投料和鱼存塘情况"
   ]
  },
  {
   "cell_type": "code",
   "execution_count": 41,
   "metadata": {},
   "outputs": [
    {
     "data": {
      "text/plain": [
       "池塘编号              object\n",
       "投喂时间      datetime64[ns]\n",
       "投喂重量kg             int64\n",
       "结算年月      datetime64[ns]\n",
       "数量（斤）            float64\n",
       "dtype: object"
      ]
     },
     "execution_count": 41,
     "metadata": {},
     "output_type": "execute_result"
    }
   ],
   "source": [
    "pd_t = pd.read_excel('d_t.xlsx')\n",
    "pd_t.dtypes"
   ]
  },
  {
   "cell_type": "code",
   "execution_count": 45,
   "metadata": {},
   "outputs": [],
   "source": [
    "pd_t['cum投喂'] = pd_t.groupby(['池塘编号'])['投喂重量kg'].cumsum()\n",
    "pd_t['比值'] = pd_t[\"数量（斤）\"] / pd_t['cum投喂']\n",
    "pd_t.head()\n",
    "\n",
    "pd_t.to_excel(\"pd_t.xlsx\")"
   ]
  },
  {
   "cell_type": "code",
   "execution_count": 40,
   "metadata": {},
   "outputs": [
    {
     "data": {
      "image/png": "[encoded data removed]",
      "text/plain": [
       "<Figure size 640x480 with 1 Axes>"
      ]
     },
     "metadata": {},
     "output_type": "display_data"
    }
   ],
   "source": [
    "import matplotlib.pyplot as plt\n",
    "\n",
    "df_1111 = pd_t[pd_t['池塘编号']=='1111']\n",
    "plt.scatter(df_1111['投喂重量kg'],df_1111['数量（斤）'])\n",
    "\n",
    "plt.show()"
   ]
  }
 ],
 "metadata": {
  "kernelspec": {
   "display_name": "Python 3.11.8 ('ai')",
   "language": "python",
   "name": "python3"
  },
  "language_info": {
   "codemirror_mode": {
    "name": "ipython",
    "version": 3
   },
   "file_extension": ".py",
   "mimetype": "text/x-python",
   "name": "python",
   "nbconvert_exporter": "python",
   "pygments_lexer": "ipython3",
   "version": "3.11.8"
  },
  "orig_nbformat": 4,
  "vscode": {
   "interpreter": {
    "hash": "16b5ba8b0fc2955b30e9dcc40d80a15055b56bf6ee36ea534159a7d87da288cf"
   }
  }
 },
 "nbformat": 4,
 "nbformat_minor": 2
}
