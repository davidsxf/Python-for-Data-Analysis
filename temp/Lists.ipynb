{
 "cells": [
  {
   "cell_type": "markdown",
   "id": "c562d157-5038-48bc-8366-a152760e9b0a",
   "metadata": {},
   "source": [
    "## Python for Data 5: Lists"
   ]
  },
  {
   "cell_type": "code",
   "execution_count": 1,
   "id": "be4f8618-f398-414a-be15-48dff748f7ac",
   "metadata": {
    "scrolled": true
   },
   "outputs": [
    {
     "name": "stdout",
     "output_type": "stream",
     "text": [
      "['Lesson', 5, 'Is Fun?', True]\n"
     ]
    }
   ],
   "source": [
    "my_list = [\"Lesson\", 5, \"Is Fun?\", True]\n",
    "\n",
    "print(my_list)"
   ]
  },
  {
   "cell_type": "code",
   "execution_count": 2,
   "id": "7013f505-cb60-4b3c-82bb-0586bf56ed15",
   "metadata": {},
   "outputs": [
    {
     "name": "stdout",
     "output_type": "stream",
     "text": [
      "['L', 'i', 'f', 'e', ' ', 'i', 's', ' ', 'S', 't', 'u', 'd', 'y']\n"
     ]
    }
   ],
   "source": [
    "second_list = list(\"Life is Study\")  # Create a list from a string\n",
    "\n",
    "print(second_list)"
   ]
  },
  {
   "cell_type": "code",
   "execution_count": 3,
   "id": "a614e871-1f5f-4394-9cde-e978aa61d7b1",
   "metadata": {},
   "outputs": [
    {
     "name": "stdout",
     "output_type": "stream",
     "text": [
      "[]\n"
     ]
    }
   ],
   "source": [
    "empty_list = []\n",
    "\n",
    "print( empty_list )"
   ]
  },
  {
   "cell_type": "code",
   "execution_count": 4,
   "id": "cb557fc7-8970-4bc4-a497-4c265f5340be",
   "metadata": {},
   "outputs": [
    {
     "name": "stdout",
     "output_type": "stream",
     "text": [
      "[\"I'm no longer empty!\"]\n"
     ]
    }
   ],
   "source": [
    "empty_list.append(\"I'm no longer empty!\")\n",
    "\n",
    "print(empty_list)"
   ]
  },
  {
   "cell_type": "code",
   "execution_count": 5,
   "id": "2594026b-5c5c-4c85-be0b-0df9645e2de4",
   "metadata": {},
   "outputs": [
    {
     "name": "stdout",
     "output_type": "stream",
     "text": [
      "['Lesson', 'Is Fun?', True]\n"
     ]
    }
   ],
   "source": [
    "my_list.remove(5)\n",
    "\n",
    "print(my_list)"
   ]
  },
  {
   "cell_type": "code",
   "execution_count": 6,
   "id": "71f9580b-3fbc-4548-81e5-601ca12c93c1",
   "metadata": {},
   "outputs": [
    {
     "name": "stdout",
     "output_type": "stream",
     "text": [
      "['Lesson', 'Is Fun?', True, \"I'm no longer empty!\"]\n"
     ]
    }
   ],
   "source": [
    "combined_list = my_list + empty_list\n",
    "\n",
    "print(combined_list)"
   ]
  },
  {
   "cell_type": "code",
   "execution_count": 7,
   "id": "d5ef962d-ebcc-4344-8678-67cb539893a2",
   "metadata": {},
   "outputs": [
    {
     "name": "stdout",
     "output_type": "stream",
     "text": [
      "['Lesson', 'Is Fun?', True, \"I'm no longer empty!\"]\n"
     ]
    }
   ],
   "source": [
    "combined_list = my_list\n",
    "\n",
    "combined_list.extend(empty_list)\n",
    "\n",
    "print(combined_list)"
   ]
  },
  {
   "cell_type": "code",
   "execution_count": 8,
   "id": "b630bd2b-3e53-4c2a-b20c-afffbc4f169e",
   "metadata": {},
   "outputs": [
    {
     "name": "stdout",
     "output_type": "stream",
     "text": [
      "5\n",
      "9\n",
      "1\n",
      "25\n",
      "5.0\n"
     ]
    }
   ],
   "source": [
    "num_list = [1, 3, 5, 7, 9]\n",
    "print( len(num_list))                # Check the length\n",
    "print( max(num_list))                # Check the max\n",
    "print( min(num_list))                # Check the min\n",
    "print( sum(num_list))                # Check the sum\n",
    "print( sum(num_list)/len(num_list))  # Check the mean*"
   ]
  },
  {
   "cell_type": "code",
   "execution_count": 9,
   "id": "14cd69d0-d942-45e4-83fd-97fc7af94b35",
   "metadata": {},
   "outputs": [
    {
     "data": {
      "text/plain": [
       "True"
      ]
     },
     "execution_count": 9,
     "metadata": {},
     "output_type": "execute_result"
    }
   ],
   "source": [
    "1 in num_list"
   ]
  },
  {
   "cell_type": "code",
   "execution_count": 10,
   "id": "8af19ac4-655b-41ab-a793-0b5a1e28801d",
   "metadata": {},
   "outputs": [
    {
     "data": {
      "text/plain": [
       "False"
      ]
     },
     "execution_count": 10,
     "metadata": {},
     "output_type": "execute_result"
    }
   ],
   "source": [
    "1 not in num_list\n"
   ]
  },
  {
   "cell_type": "code",
   "execution_count": 11,
   "id": "7917a078-160b-4fed-b8da-fb89224ca24d",
   "metadata": {},
   "outputs": [
    {
     "data": {
      "text/plain": [
       "1"
      ]
     },
     "execution_count": 11,
     "metadata": {},
     "output_type": "execute_result"
    }
   ],
   "source": [
    "num_list.count(3)"
   ]
  },
  {
   "cell_type": "code",
   "execution_count": 12,
   "id": "3f8e7fb8-b598-410d-aaea-68414a6b897c",
   "metadata": {},
   "outputs": [
    {
     "name": "stdout",
     "output_type": "stream",
     "text": [
      "Reversed list [6, 3, 2, 4, 5, 1]\n",
      "Sorted list [1, 2, 3, 4, 5, 6]\n"
     ]
    }
   ],
   "source": [
    "new_list = [1, 5, 4, 2, 3, 6]      # Make a new list\n",
    "\n",
    "new_list.reverse()                 # Reverse the list\n",
    "print(\"Reversed list\", new_list)\n",
    "\n",
    "new_list.sort()                    # Sort the list\n",
    "print(\"Sorted list\", new_list)"
   ]
  },
  {
   "cell_type": "markdown",
   "id": "97b2b863-89b8-4097-a504-713c36f09c2c",
   "metadata": {},
   "source": [
    "### List Indexing and Slicing"
   ]
  },
  {
   "cell_type": "code",
   "execution_count": 13,
   "id": "f1be5f7c-a514-4d8a-b5ea-cfa52b0eb72d",
   "metadata": {},
   "outputs": [
    {
     "name": "stdout",
     "output_type": "stream",
     "text": [
      "Hello\n",
      "bestest\n"
     ]
    }
   ],
   "source": [
    "another_list = [\"Hello\",\"my\", \"bestest\", \"old\", \"friend.\"]\n",
    "\n",
    "print (another_list[0])\n",
    "print (another_list[2])"
   ]
  },
  {
   "cell_type": "code",
   "execution_count": 14,
   "id": "323c6041-62d8-497e-8d49-c562f0ab489a",
   "metadata": {},
   "outputs": [
    {
     "name": "stdout",
     "output_type": "stream",
     "text": [
      "friend.\n",
      "bestest\n"
     ]
    }
   ],
   "source": [
    "print (another_list[-1])\n",
    "print (another_list[-3])"
   ]
  },
  {
   "cell_type": "code",
   "execution_count": 15,
   "id": "acae2829-968c-4d6f-8a92-7b61246a7986",
   "metadata": {},
   "outputs": [
    {
     "ename": "IndexError",
     "evalue": "list index out of range",
     "output_type": "error",
     "traceback": [
      "\u001b[1;31m---------------------------------------------------------------------------\u001b[0m",
      "\u001b[1;31mIndexError\u001b[0m                                Traceback (most recent call last)",
      "Cell \u001b[1;32mIn[15], line 1\u001b[0m\n\u001b[1;32m----> 1\u001b[0m \u001b[38;5;28mprint\u001b[39m (another_list[\u001b[38;5;241m5\u001b[39m])\n",
      "\u001b[1;31mIndexError\u001b[0m: list index out of range"
     ]
    }
   ],
   "source": [
    "print (another_list[5])\n"
   ]
  },
  {
   "cell_type": "code",
   "execution_count": 16,
   "id": "6c95ce13-ac1d-47aa-8aa8-764f25c53357",
   "metadata": {},
   "outputs": [
    {
     "name": "stdout",
     "output_type": "stream",
     "text": [
      "3\n"
     ]
    }
   ],
   "source": [
    "nested_list = [[1,2,3],[4,5,6],[7,8,9]]\n",
    "\n",
    "print (nested_list[0][2])"
   ]
  },
  {
   "cell_type": "code",
   "execution_count": 17,
   "id": "61479311-8346-4f50-bb99-068d7492cd09",
   "metadata": {},
   "outputs": [
    {
     "name": "stdout",
     "output_type": "stream",
     "text": [
      "['my', 'bestest']\n"
     ]
    }
   ],
   "source": [
    "my_slice =  another_list[1:3]   # Slice index 1 and 2\n",
    "print(my_slice )"
   ]
  },
  {
   "cell_type": "code",
   "execution_count": 18,
   "id": "28495cc0-6695-4151-946d-f5a72d32bd2a",
   "metadata": {},
   "outputs": [
    {
     "name": "stdout",
     "output_type": "stream",
     "text": [
      "['Hello', 'bestest', 'friend.']\n"
     ]
    }
   ],
   "source": [
    "# Slice the entire list but use step size 2 to get every other item:\n",
    "\n",
    "my_slice =  another_list[0:6:2] \n",
    "print(my_slice )"
   ]
  },
  {
   "cell_type": "code",
   "execution_count": 19,
   "id": "5d9768df-5c26-482e-9d62-ef5e02bab232",
   "metadata": {},
   "outputs": [
    {
     "name": "stdout",
     "output_type": "stream",
     "text": [
      "['Hello', 'my', 'bestest', 'old']\n"
     ]
    }
   ],
   "source": [
    "slice1 = another_list[:4]   # Slice everything up to index 4\n",
    "print(slice1)"
   ]
  },
  {
   "cell_type": "code",
   "execution_count": 20,
   "id": "77dfb683-b9e6-48f1-a5f4-09af721aee75",
   "metadata": {},
   "outputs": [
    {
     "name": "stdout",
     "output_type": "stream",
     "text": [
      "['old', 'friend.']\n"
     ]
    }
   ],
   "source": [
    "slice2 = another_list[3:]   # Slice everything from index 3 to the end\n",
    "print(slice2)"
   ]
  },
  {
   "cell_type": "code",
   "execution_count": 21,
   "id": "6c9d1836-7697-4c2d-8446-127f5426b56b",
   "metadata": {},
   "outputs": [
    {
     "name": "stdout",
     "output_type": "stream",
     "text": [
      "['friend.', 'old']\n"
     ]
    }
   ],
   "source": [
    "# Take a slice starting at index 4, backward to index 2\n",
    "\n",
    "my_slice =  another_list[4:2:-1] \n",
    "print(my_slice )"
   ]
  },
  {
   "cell_type": "code",
   "execution_count": 22,
   "id": "84889855-c0d8-4c2a-aedf-e874633280bc",
   "metadata": {},
   "outputs": [
    {
     "name": "stdout",
     "output_type": "stream",
     "text": [
      "['Hello', 'my', 'bestest', 'old', 'friend.']\n"
     ]
    }
   ],
   "source": [
    "my_slice =  another_list[:]   # This slice operation copies the list\n",
    "print(my_slice)"
   ]
  },
  {
   "cell_type": "code",
   "execution_count": 23,
   "id": "11fc25fe-d586-4d90-adbf-ef2463f68c5c",
   "metadata": {},
   "outputs": [
    {
     "name": "stdout",
     "output_type": "stream",
     "text": [
      "['friend.', 'old', 'bestest', 'my', 'Hello']\n"
     ]
    }
   ],
   "source": [
    "my_slice =  another_list[::-1] # This slice operation reverses the list\n",
    "print(my_slice)"
   ]
  },
  {
   "cell_type": "code",
   "execution_count": 24,
   "id": "9b09bfe6-4c97-4bb7-919c-dcf7aa0b4cce",
   "metadata": {},
   "outputs": [
    {
     "name": "stdout",
     "output_type": "stream",
     "text": [
      "['Hello', 'my', 'bestest', 'new', 'friend.']\n",
      "['Hello', 'my', 'bestest', 'friend.']\n"
     ]
    }
   ],
   "source": [
    "another_list[3] = \"new\"   # Set the value at index 3 to \"new\"\n",
    "\n",
    "print(another_list)\n",
    "\n",
    "del(another_list[3])      # Delete the item at index 3\n",
    "\n",
    "print(another_list)"
   ]
  },
  {
   "cell_type": "code",
   "execution_count": 25,
   "id": "edad7201-104b-4b79-aa7c-ad90187f6201",
   "metadata": {},
   "outputs": [
    {
     "name": "stdout",
     "output_type": "stream",
     "text": [
      "friend.\n",
      "['Hello', 'my', 'bestest']\n"
     ]
    }
   ],
   "source": [
    "next_item = another_list.pop()\n",
    "\n",
    "print(next_item)\n",
    "print(another_list)"
   ]
  },
  {
   "cell_type": "code",
   "execution_count": 26,
   "id": "64ba4bfd-0496-4825-809a-450c10914fc0",
   "metadata": {},
   "outputs": [
    {
     "name": "stdout",
     "output_type": "stream",
     "text": [
      "List1: [1, 2, 3, 4]\n",
      "List2: [1, 2, 3]\n"
     ]
    }
   ],
   "source": [
    "list1 = [1,2,3]                        # Make a list\n",
    "\n",
    "list2 = list1.copy()                   # Copy the list\n",
    "\n",
    "list1.append(4)                        # Add an item to list 1\n",
    "\n",
    "print(\"List1:\", list1)                 # Print both lists\n",
    "print(\"List2:\", list2)"
   ]
  },
  {
   "cell_type": "code",
   "execution_count": 27,
   "id": "63d6e156-ec62-48c7-a91f-98bd2cfbbb5e",
   "metadata": {},
   "outputs": [
    {
     "name": "stdout",
     "output_type": "stream",
     "text": [
      "Before appending to list1:\n",
      "List2: ['List within a list', [1, 2, 3]]\n",
      "List3: ['List within a list', [1, 2, 3]] \n",
      "\n",
      "After appending to list1:\n",
      "List2: ['List within a list', [1, 2, 3, 4]]\n",
      "List3: ['List within a list', [1, 2, 3, 4]]\n"
     ]
    }
   ],
   "source": [
    "list1 = [1,2,3]                        # Make a list\n",
    "\n",
    "list2 = [\"List within a list\", list1]  # Nest it in another list\n",
    "\n",
    "list3 = list2.copy()                   # Shallow copy list2\n",
    "\n",
    "print(\"Before appending to list1:\")\n",
    "print(\"List2:\", list2)\n",
    "print(\"List3:\", list3, \"\\n\")\n",
    "\n",
    "list1.append(4)                        # Add an item to list1\n",
    "print(\"After appending to list1:\")\n",
    "print(\"List2:\", list2)\n",
    "print(\"List3:\", list3)"
   ]
  },
  {
   "cell_type": "code",
   "execution_count": 28,
   "id": "243b5b4c-8f96-4d54-b9fd-9d1401dd5ed9",
   "metadata": {},
   "outputs": [
    {
     "name": "stdout",
     "output_type": "stream",
     "text": [
      "Before appending to list1:\n",
      "List2: ['List within a list', [1, 2, 3]]\n",
      "List3: ['List within a list', [1, 2, 3]] \n",
      "\n",
      "After appending to list1:\n",
      "List2: ['List within a list', [1, 2, 3, 4]]\n",
      "List3: ['List within a list', [1, 2, 3]]\n"
     ]
    }
   ],
   "source": [
    "import copy                            # Load the copy module\n",
    "\n",
    "list1 = [1,2,3]                        # Make a list\n",
    "\n",
    "list2 = [\"List within a list\", list1]  # Nest it in another list\n",
    "\n",
    "list3 = copy.deepcopy(list2)           # Deep copy list2\n",
    "\n",
    "print(\"Before appending to list1:\")\n",
    "print(\"List2:\", list2)\n",
    "print(\"List3:\", list3, \"\\n\")\n",
    "\n",
    "list1.append(4)                        # Add an item to list1\n",
    "print(\"After appending to list1:\")\n",
    "print(\"List2:\", list2)\n",
    "print(\"List3:\", list3)"
   ]
  },
  {
   "cell_type": "code",
   "execution_count": null,
   "id": "41763c43-871a-483c-a648-8b1a4de68cac",
   "metadata": {},
   "outputs": [],
   "source": []
  }
 ],
 "metadata": {
  "kernelspec": {
   "display_name": "Python 3 (ipykernel)",
   "language": "python",
   "name": "python3"
  },
  "language_info": {
   "codemirror_mode": {
    "name": "ipython",
    "version": 3
   },
   "file_extension": ".py",
   "mimetype": "text/x-python",
   "name": "python",
   "nbconvert_exporter": "python",
   "pygments_lexer": "ipython3",
   "version": "3.11.5"
  }
 },
 "nbformat": 4,
 "nbformat_minor": 5
}
