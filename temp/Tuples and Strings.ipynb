{
 "cells": [
  {
   "cell_type": "code",
   "execution_count": 1,
   "id": "9a11922f-d4f7-40e4-b310-ef08bc9efe84",
   "metadata": {},
   "outputs": [
    {
     "name": "stdout",
     "output_type": "stream",
     "text": [
      "(1, 3, 5)\n"
     ]
    }
   ],
   "source": [
    "my_tuple = (1,3,5)\n",
    "\n",
    "print(my_tuple)"
   ]
  },
  {
   "cell_type": "code",
   "execution_count": 2,
   "id": "f8a6b8ce-0cc2-4a13-bcc5-e09792ccfe50",
   "metadata": {},
   "outputs": [
    {
     "data": {
      "text/plain": [
       "(2, 3, 1, 4)"
      ]
     },
     "execution_count": 2,
     "metadata": {},
     "output_type": "execute_result"
    }
   ],
   "source": [
    "my_list = [2,3,1,4]\n",
    "\n",
    "another_tuple = tuple(my_list)\n",
    "\n",
    "another_tuple"
   ]
  },
  {
   "cell_type": "code",
   "execution_count": 3,
   "id": "ab21779c-3deb-4f83-80e9-680d77342f43",
   "metadata": {},
   "outputs": [
    {
     "data": {
      "text/plain": [
       "1"
      ]
     },
     "execution_count": 3,
     "metadata": {},
     "output_type": "execute_result"
    }
   ],
   "source": [
    "another_tuple[2]"
   ]
  },
  {
   "cell_type": "code",
   "execution_count": 4,
   "id": "b46294c7-f2fe-463f-b421-29b8df3b141a",
   "metadata": {},
   "outputs": [
    {
     "data": {
      "text/plain": [
       "(1, 4)"
      ]
     },
     "execution_count": 4,
     "metadata": {},
     "output_type": "execute_result"
    }
   ],
   "source": [
    "another_tuple[2:4]"
   ]
  },
  {
   "cell_type": "code",
   "execution_count": 5,
   "id": "99594952-77dd-40bb-8653-026fd03d0bf5",
   "metadata": {},
   "outputs": [
    {
     "name": "stdout",
     "output_type": "stream",
     "text": [
      "4\n",
      "1\n",
      "4\n",
      "10\n"
     ]
    }
   ],
   "source": [
    "# You can use common sequence functions on tuples:\n",
    "\n",
    "print( len(another_tuple))   \n",
    "print( min(another_tuple))  \n",
    "print( max(another_tuple))  \n",
    "print( sum(another_tuple))  "
   ]
  },
  {
   "cell_type": "code",
   "execution_count": 6,
   "id": "c95504e1-80d3-450c-be20-64fdac708e9b",
   "metadata": {},
   "outputs": [
    {
     "ename": "AttributeError",
     "evalue": "'tuple' object has no attribute 'append'",
     "output_type": "error",
     "traceback": [
      "\u001b[1;31m---------------------------------------------------------------------------\u001b[0m",
      "\u001b[1;31mAttributeError\u001b[0m                            Traceback (most recent call last)",
      "Cell \u001b[1;32mIn[6], line 1\u001b[0m\n\u001b[1;32m----> 1\u001b[0m \u001b[43manother_tuple\u001b[49m\u001b[38;5;241;43m.\u001b[39;49m\u001b[43mappend\u001b[49m(\u001b[38;5;241m1\u001b[39m)    \u001b[38;5;66;03m# You can't append to a tuple\u001b[39;00m\n",
      "\u001b[1;31mAttributeError\u001b[0m: 'tuple' object has no attribute 'append'"
     ]
    }
   ],
   "source": [
    "another_tuple.append(1)    # You can't append to a tuple"
   ]
  },
  {
   "cell_type": "code",
   "execution_count": 7,
   "id": "aaad3b7e-0424-4fe6-8e39-5810a5937878",
   "metadata": {},
   "outputs": [
    {
     "ename": "TypeError",
     "evalue": "'tuple' object doesn't support item deletion",
     "output_type": "error",
     "traceback": [
      "\u001b[1;31m---------------------------------------------------------------------------\u001b[0m",
      "\u001b[1;31mTypeError\u001b[0m                                 Traceback (most recent call last)",
      "Cell \u001b[1;32mIn[7], line 1\u001b[0m\n\u001b[1;32m----> 1\u001b[0m \u001b[38;5;28;01mdel\u001b[39;00m \u001b[43manother_tuple\u001b[49m\u001b[43m[\u001b[49m\u001b[38;5;241;43m1\u001b[39;49m\u001b[43m]\u001b[49m      \u001b[38;5;66;03m# You can't delete from a tuple\u001b[39;00m\n",
      "\u001b[1;31mTypeError\u001b[0m: 'tuple' object doesn't support item deletion"
     ]
    }
   ],
   "source": [
    "del another_tuple[1]      # You can't delete from a tuple"
   ]
  },
  {
   "cell_type": "code",
   "execution_count": 8,
   "id": "ca2b8bcc-63cb-478f-b715-3a169395f506",
   "metadata": {},
   "outputs": [
    {
     "data": {
      "text/plain": [
       "[1, 2, 3, 4]"
      ]
     },
     "execution_count": 8,
     "metadata": {},
     "output_type": "execute_result"
    }
   ],
   "source": [
    "sorted(another_tuple)"
   ]
  },
  {
   "cell_type": "code",
   "execution_count": 9,
   "id": "d0313249-cb2b-4735-b1c9-b93d6021aed1",
   "metadata": {},
   "outputs": [
    {
     "name": "stdout",
     "output_type": "stream",
     "text": [
      "('Tuples are Immutable', [1, 2, 3, 'But lists are mutable'])\n"
     ]
    }
   ],
   "source": [
    "list1 = [1,2,3]\n",
    "\n",
    "tuple1 = (\"Tuples are Immutable\", list1)\n",
    "\n",
    "tuple2 = tuple1[:]                       # Make a shallow copy\n",
    "\n",
    "list1.append(\"But lists are mutable\")\n",
    "\n",
    "print( tuple2 )                          # Print the copy"
   ]
  },
  {
   "cell_type": "code",
   "execution_count": 10,
   "id": "10a1b567-b9df-4ac5-843a-c1bc1c28febe",
   "metadata": {},
   "outputs": [
    {
     "name": "stdout",
     "output_type": "stream",
     "text": [
      "('Tuples are Immutable', [1, 2, 3])\n"
     ]
    }
   ],
   "source": [
    "import copy\n",
    "\n",
    "list1 = [1,2,3]\n",
    "\n",
    "tuple1 = (\"Tuples are Immutable\", list1)\n",
    "\n",
    "tuple2 = copy.deepcopy(tuple1)           # Make a deep copy\n",
    "\n",
    "list1.append(\"But lists are mutable\")\n",
    "\n",
    "print( tuple2 )                          # Print the copy"
   ]
  },
  {
   "cell_type": "markdown",
   "id": "95555d2e-f718-40e5-8177-e5d73f64788e",
   "metadata": {},
   "source": [
    "## Strings"
   ]
  },
  {
   "cell_type": "code",
   "execution_count": 11,
   "id": "04c39fe5-9fe9-4caf-b791-5886da6aca93",
   "metadata": {},
   "outputs": [
    {
     "data": {
      "text/plain": [
       "'l'"
      ]
     },
     "execution_count": 11,
     "metadata": {},
     "output_type": "execute_result"
    }
   ],
   "source": [
    "my_string = \"Hello world\"\n",
    "\n",
    "my_string[3]    # Get the character at index 3"
   ]
  },
  {
   "cell_type": "code",
   "execution_count": 12,
   "id": "7228c987-ee7c-497c-b40a-59942bee0b2a",
   "metadata": {},
   "outputs": [
    {
     "data": {
      "text/plain": [
       "'lo world'"
      ]
     },
     "execution_count": 12,
     "metadata": {},
     "output_type": "execute_result"
    }
   ],
   "source": [
    "my_string[3:]   # Slice from the third index to the end"
   ]
  },
  {
   "cell_type": "code",
   "execution_count": 13,
   "id": "8ee6230f-3132-4807-b3a9-ca59fafee873",
   "metadata": {},
   "outputs": [
    {
     "data": {
      "text/plain": [
       "'dlrow olleH'"
      ]
     },
     "execution_count": 13,
     "metadata": {},
     "output_type": "execute_result"
    }
   ],
   "source": [
    "my_string[::-1]  # Reverse the string"
   ]
  },
  {
   "cell_type": "code",
   "execution_count": 14,
   "id": "e1f65a9b-dc30-4486-bdff-bfb505deae84",
   "metadata": {},
   "outputs": [
    {
     "data": {
      "text/plain": [
       "11"
      ]
     },
     "execution_count": 14,
     "metadata": {},
     "output_type": "execute_result"
    }
   ],
   "source": [
    "len(my_string)"
   ]
  },
  {
   "cell_type": "code",
   "execution_count": 15,
   "id": "54022b1d-1ef6-49c9-a96b-074c93ade69f",
   "metadata": {},
   "outputs": [
    {
     "data": {
      "text/plain": [
       "3"
      ]
     },
     "execution_count": 15,
     "metadata": {},
     "output_type": "execute_result"
    }
   ],
   "source": [
    "my_string.count(\"l\")  # Count the l's in the string"
   ]
  },
  {
   "cell_type": "code",
   "execution_count": 16,
   "id": "60462639-7f00-4810-a6a2-60a7316d0326",
   "metadata": {},
   "outputs": [
    {
     "data": {
      "text/plain": [
       "'hello world'"
      ]
     },
     "execution_count": 16,
     "metadata": {},
     "output_type": "execute_result"
    }
   ],
   "source": [
    "# str.lower()     \n",
    "\n",
    "my_string.lower()   # Make all characters lowercase"
   ]
  },
  {
   "cell_type": "code",
   "execution_count": 17,
   "id": "151e2554-e853-474e-8f54-adae5c4e410e",
   "metadata": {},
   "outputs": [
    {
     "data": {
      "text/plain": [
       "'HELLO WORLD'"
      ]
     },
     "execution_count": 17,
     "metadata": {},
     "output_type": "execute_result"
    }
   ],
   "source": [
    "# str.upper()     \n",
    "\n",
    "my_string.upper()   # Make all characters uppercase"
   ]
  },
  {
   "cell_type": "code",
   "execution_count": 18,
   "id": "c4d8357d-e631-4142-90aa-04b93c9cbbde",
   "metadata": {},
   "outputs": [
    {
     "data": {
      "text/plain": [
       "'Hello World'"
      ]
     },
     "execution_count": 18,
     "metadata": {},
     "output_type": "execute_result"
    }
   ],
   "source": [
    "# str.title()\n",
    "\n",
    "my_string.title()   # Make the first letter of each word uppercase"
   ]
  },
  {
   "cell_type": "code",
   "execution_count": 19,
   "id": "244bfaac-ec19-413c-81c0-d2dc59546fd0",
   "metadata": {},
   "outputs": [
    {
     "data": {
      "text/plain": [
       "-1"
      ]
     },
     "execution_count": 19,
     "metadata": {},
     "output_type": "execute_result"
    }
   ],
   "source": [
    "my_string.find(\"W\")"
   ]
  },
  {
   "cell_type": "code",
   "execution_count": 20,
   "id": "6f174a0d-ffe5-4c69-915f-d12d9a97e977",
   "metadata": {},
   "outputs": [
    {
     "data": {
      "text/plain": [
       "6"
      ]
     },
     "execution_count": 20,
     "metadata": {},
     "output_type": "execute_result"
    }
   ],
   "source": [
    "my_string.find(\"w\")"
   ]
  },
  {
   "cell_type": "code",
   "execution_count": 21,
   "id": "d1117264-716f-4511-a07f-de044d54245e",
   "metadata": {},
   "outputs": [
    {
     "data": {
      "text/plain": [
       "'Hello friend'"
      ]
     },
     "execution_count": 21,
     "metadata": {},
     "output_type": "execute_result"
    }
   ],
   "source": [
    "my_string.replace(\"world\",    # Substring to replace\n",
    "                  \"friend\")   # New substring"
   ]
  },
  {
   "cell_type": "code",
   "execution_count": 22,
   "id": "b6f1f016-7a28-46e1-8529-99771cf3c462",
   "metadata": {},
   "outputs": [
    {
     "data": {
      "text/plain": [
       "['Hello', 'world']"
      ]
     },
     "execution_count": 22,
     "metadata": {},
     "output_type": "execute_result"
    }
   ],
   "source": [
    "my_string.split()     # str.split() splits on spaces by default"
   ]
  },
  {
   "cell_type": "code",
   "execution_count": 23,
   "id": "d5e6a0a5-61bf-44be-8f31-bc4c6905855e",
   "metadata": {},
   "outputs": [
    {
     "data": {
      "text/plain": [
       "['He', '', 'o wor', 'd']"
      ]
     },
     "execution_count": 23,
     "metadata": {},
     "output_type": "execute_result"
    }
   ],
   "source": [
    "my_string.split(\"l\")  # Supply a substring to split on other values"
   ]
  },
  {
   "cell_type": "code",
   "execution_count": 24,
   "id": "8756c0fb-8512-41e8-80d4-33065a6d41bb",
   "metadata": {},
   "outputs": [
    {
     "data": {
      "text/plain": [
       "['I am', 'a multiline ', 'string!']"
      ]
     },
     "execution_count": 24,
     "metadata": {},
     "output_type": "execute_result"
    }
   ],
   "source": [
    "multiline_string = \"\"\"I am\n",
    "a multiline \n",
    "string!\n",
    "\"\"\"\n",
    "\n",
    "multiline_string.splitlines()"
   ]
  },
  {
   "cell_type": "code",
   "execution_count": 25,
   "id": "fd9be0d0-4a52-4207-9c51-c9ecb646035a",
   "metadata": {},
   "outputs": [
    {
     "data": {
      "text/plain": [
       "'strip white space!'"
      ]
     },
     "execution_count": 25,
     "metadata": {},
     "output_type": "execute_result"
    }
   ],
   "source": [
    "# str.strip() removes whitespace by default\n",
    "\n",
    "\"    strip white space!   \".strip() "
   ]
  },
  {
   "cell_type": "code",
   "execution_count": 26,
   "id": "82fc44fb-3c5c-4e3d-ab4c-289f093d17c9",
   "metadata": {},
   "outputs": [
    {
     "data": {
      "text/plain": [
       "'BuyNOW'"
      ]
     },
     "execution_count": 26,
     "metadata": {},
     "output_type": "execute_result"
    }
   ],
   "source": [
    "\"xXxxBuyNOWxxXx\".strip(\"xX\")"
   ]
  },
  {
   "cell_type": "code",
   "execution_count": 27,
   "id": "814fb1e0-da9e-4aa8-9ebf-691deced4066",
   "metadata": {},
   "outputs": [
    {
     "data": {
      "text/plain": [
       "'Hello World'"
      ]
     },
     "execution_count": 27,
     "metadata": {},
     "output_type": "execute_result"
    }
   ],
   "source": [
    "\"Hello \" + \"World\""
   ]
  },
  {
   "cell_type": "code",
   "execution_count": 28,
   "id": "bb5193ab-4de7-4535-a984-981e4e765220",
   "metadata": {},
   "outputs": [
    {
     "data": {
      "text/plain": [
       "'Hello World! Join Me!'"
      ]
     },
     "execution_count": 28,
     "metadata": {},
     "output_type": "execute_result"
    }
   ],
   "source": [
    "\" \".join([\"Hello\", \"World!\", \"Join\", \"Me!\"])"
   ]
  },
  {
   "cell_type": "code",
   "execution_count": 29,
   "id": "990f73b6-f2db-43ad-9f62-e8aa5948b9ba",
   "metadata": {},
   "outputs": [
    {
     "data": {
      "text/plain": [
       "'My name is Joe I am 10 and I live in Paris'"
      ]
     },
     "execution_count": 29,
     "metadata": {},
     "output_type": "execute_result"
    }
   ],
   "source": [
    "name = \"Joe\"\n",
    "age = 10\n",
    "city = \"Paris\"\n",
    "\n",
    "\"My name is \" + name + \" I am \" + str(age) + \" and I live in \" + \"Paris\""
   ]
  },
  {
   "cell_type": "code",
   "execution_count": 30,
   "id": "a0c65490-0cb3-4203-98ea-4d5aca0fdf12",
   "metadata": {},
   "outputs": [
    {
     "data": {
      "text/plain": [
       "'My name is Joe I am 10 and I live in Paris'"
      ]
     },
     "execution_count": 30,
     "metadata": {},
     "output_type": "execute_result"
    }
   ],
   "source": [
    "template_string = \"My name is {} I am {} and I live in {}\"\n",
    "\n",
    "template_string.format(name, age, city)"
   ]
  },
  {
   "cell_type": "code",
   "execution_count": 31,
   "id": "3903a2d5-2f28-45d3-96ea-93696a7ab4ca",
   "metadata": {},
   "outputs": [
    {
     "data": {
      "text/plain": [
       "'My name is Joe I am 10 and I live in Paris'"
      ]
     },
     "execution_count": 31,
     "metadata": {},
     "output_type": "execute_result"
    }
   ],
   "source": [
    "# Remaking the example above using an f-string\n",
    "\n",
    "f\"My name is {name} I am {age} and I live in {city}\""
   ]
  },
  {
   "cell_type": "code",
   "execution_count": null,
   "id": "43b9ce1a-a34a-4d2b-9104-d55d75108995",
   "metadata": {},
   "outputs": [],
   "source": []
  }
 ],
 "metadata": {
  "kernelspec": {
   "display_name": "Python 3 (ipykernel)",
   "language": "python",
   "name": "python3"
  },
  "language_info": {
   "codemirror_mode": {
    "name": "ipython",
    "version": 3
   },
   "file_extension": ".py",
   "mimetype": "text/x-python",
   "name": "python",
   "nbconvert_exporter": "python",
   "pygments_lexer": "ipython3",
   "version": "3.11.5"
  }
 },
 "nbformat": 4,
 "nbformat_minor": 5
}
