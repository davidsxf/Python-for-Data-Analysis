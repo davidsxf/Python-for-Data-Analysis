{
 "cells": [
  {
   "cell_type": "code",
   "execution_count": 1,
   "id": "49730b46-a843-401a-afa3-da572fc94b3e",
   "metadata": {},
   "outputs": [
    {
     "data": {
      "text/plain": [
       "False"
      ]
     },
     "execution_count": 1,
     "metadata": {},
     "output_type": "execute_result"
    }
   ],
   "source": [
    "my_list = [1,2,3,4,5,6,7,8,9,10]\n",
    "\n",
    "0 in my_list"
   ]
  },
  {
   "cell_type": "markdown",
   "id": "e85ac62d-a0ef-4cdc-9dde-17a785ababd0",
   "metadata": {},
   "source": [
    "## Dictionaries"
   ]
  },
  {
   "cell_type": "code",
   "execution_count": 2,
   "id": "b7414823-1e92-43d7-bca8-7867545e76dc",
   "metadata": {},
   "outputs": [
    {
     "name": "stdout",
     "output_type": "stream",
     "text": [
      "{'name': 'Joe', 'age': 10, 'city': 'Paris'}\n"
     ]
    }
   ],
   "source": [
    "my_dict = {\"name\": \"Joe\",\n",
    "           \"age\": 10, \n",
    "           \"city\": \"Paris\"}\n",
    "\n",
    "print(my_dict)"
   ]
  },
  {
   "cell_type": "code",
   "execution_count": 3,
   "id": "0d79d141-00d4-4de5-96ab-247997c1b6b0",
   "metadata": {},
   "outputs": [
    {
     "data": {
      "text/plain": [
       "'Joe'"
      ]
     },
     "execution_count": 3,
     "metadata": {},
     "output_type": "execute_result"
    }
   ],
   "source": [
    "my_dict[\"name\"]"
   ]
  },
  {
   "cell_type": "code",
   "execution_count": 4,
   "id": "6334344e-ca7a-4ff7-af18-90bf1cfe90c8",
   "metadata": {},
   "outputs": [
    {
     "name": "stdout",
     "output_type": "stream",
     "text": [
      "{'name': 'Joe', 'age': 10, 'city': 'Paris', 'new_key': 'new_value'}\n"
     ]
    }
   ],
   "source": [
    "my_dict[\"new_key\"] = \"new_value\"\n",
    "\n",
    "print(my_dict)"
   ]
  },
  {
   "cell_type": "code",
   "execution_count": 5,
   "id": "731af889-40ce-43c6-b349-b1de8dc69d7f",
   "metadata": {},
   "outputs": [
    {
     "name": "stdout",
     "output_type": "stream",
     "text": [
      "{'name': 'Joe', 'age': 10, 'city': 'Paris'}\n"
     ]
    }
   ],
   "source": [
    "del my_dict[\"new_key\"]\n",
    "\n",
    "print(my_dict)"
   ]
  },
  {
   "cell_type": "code",
   "execution_count": 6,
   "id": "8900cb8a-7581-48ed-adb9-3ba1ae47e73d",
   "metadata": {},
   "outputs": [
    {
     "data": {
      "text/plain": [
       "3"
      ]
     },
     "execution_count": 6,
     "metadata": {},
     "output_type": "execute_result"
    }
   ],
   "source": [
    "len(my_dict)"
   ]
  },
  {
   "cell_type": "code",
   "execution_count": 7,
   "id": "6e0636b0-f510-4eec-b55b-4c7b9d8f003e",
   "metadata": {},
   "outputs": [
    {
     "data": {
      "text/plain": [
       "True"
      ]
     },
     "execution_count": 7,
     "metadata": {},
     "output_type": "execute_result"
    }
   ],
   "source": [
    "\"name\" in my_dict"
   ]
  },
  {
   "cell_type": "code",
   "execution_count": 8,
   "id": "d021db47-4b67-430a-8f92-d94ef7850704",
   "metadata": {},
   "outputs": [
    {
     "data": {
      "text/plain": [
       "dict_keys(['name', 'age', 'city'])"
      ]
     },
     "execution_count": 8,
     "metadata": {},
     "output_type": "execute_result"
    }
   ],
   "source": [
    "my_dict.keys()"
   ]
  },
  {
   "cell_type": "code",
   "execution_count": 9,
   "id": "d5553490-179f-49ef-b468-a992d9246e2e",
   "metadata": {},
   "outputs": [
    {
     "data": {
      "text/plain": [
       "dict_values(['Joe', 10, 'Paris'])"
      ]
     },
     "execution_count": 9,
     "metadata": {},
     "output_type": "execute_result"
    }
   ],
   "source": [
    "my_dict.values()"
   ]
  },
  {
   "cell_type": "code",
   "execution_count": 10,
   "id": "93dbdb76-ccc0-49ff-ba05-93b326827585",
   "metadata": {},
   "outputs": [
    {
     "data": {
      "text/plain": [
       "dict_items([('name', 'Joe'), ('age', 10), ('city', 'Paris')])"
      ]
     },
     "execution_count": 10,
     "metadata": {},
     "output_type": "execute_result"
    }
   ],
   "source": [
    "my_dict.items()"
   ]
  },
  {
   "cell_type": "code",
   "execution_count": 11,
   "id": "31d9dfdc-8a78-457b-b993-8549e53de94a",
   "metadata": {},
   "outputs": [],
   "source": [
    "my_table_dict = {\"name\": [\"Joe\", \"Bob\", \"Harry\"],\n",
    "                 \"age\": [10,15,20] , \n",
    "                 \"city\": [\"Paris\", \"New York\", \"Tokyo\"]}"
   ]
  },
  {
   "cell_type": "markdown",
   "id": "a882f289-f807-4be4-8f88-a4317e0c0afb",
   "metadata": {},
   "source": [
    "## Sets"
   ]
  },
  {
   "cell_type": "code",
   "execution_count": 12,
   "id": "92e0acfa-5b5c-4c76-8025-5e7b60052bb4",
   "metadata": {},
   "outputs": [
    {
     "data": {
      "text/plain": [
       "set"
      ]
     },
     "execution_count": 12,
     "metadata": {},
     "output_type": "execute_result"
    }
   ],
   "source": [
    "my_set = {1,2,3,4,5,6,7}\n",
    "\n",
    "type(my_set)"
   ]
  },
  {
   "cell_type": "code",
   "execution_count": 13,
   "id": "9aeb9639-2f2a-41a7-a01b-15c02722caf0",
   "metadata": {},
   "outputs": [
    {
     "data": {
      "text/plain": [
       "{1, 2, 3, 4, 5, 6, 7, 8}"
      ]
     },
     "execution_count": 13,
     "metadata": {},
     "output_type": "execute_result"
    }
   ],
   "source": [
    "my_set.add(8)\n",
    "\n",
    "my_set"
   ]
  },
  {
   "cell_type": "code",
   "execution_count": 14,
   "id": "04df5f1c-e65b-4921-8b15-cb54a2e1acbf",
   "metadata": {},
   "outputs": [
    {
     "data": {
      "text/plain": [
       "{1, 2, 3, 4, 5, 6, 8}"
      ]
     },
     "execution_count": 14,
     "metadata": {},
     "output_type": "execute_result"
    }
   ],
   "source": [
    "my_set.remove(7)\n",
    "\n",
    "my_set"
   ]
  },
  {
   "cell_type": "code",
   "execution_count": 15,
   "id": "af9e2cf1-9bf6-46df-8019-f4cbc85a0674",
   "metadata": {},
   "outputs": [
    {
     "data": {
      "text/plain": [
       "True"
      ]
     },
     "execution_count": 15,
     "metadata": {},
     "output_type": "execute_result"
    }
   ],
   "source": [
    "6 in my_set"
   ]
  },
  {
   "cell_type": "code",
   "execution_count": 16,
   "id": "771e1181-375c-423e-8a19-564f862dfa9e",
   "metadata": {},
   "outputs": [
    {
     "data": {
      "text/plain": [
       "{1, 2, 3, 4, 5, 6}"
      ]
     },
     "execution_count": 16,
     "metadata": {},
     "output_type": "execute_result"
    }
   ],
   "source": [
    "set1 = {1,3,5,6}\n",
    "set2 = {1,2,3,4}\n",
    "\n",
    "set1.union(set2)          # Get the union of two sets"
   ]
  },
  {
   "cell_type": "code",
   "execution_count": 17,
   "id": "a1bd7fce-8c1d-4710-a4f3-be202390f6bd",
   "metadata": {},
   "outputs": [
    {
     "data": {
      "text/plain": [
       "{1, 3}"
      ]
     },
     "execution_count": 17,
     "metadata": {},
     "output_type": "execute_result"
    }
   ],
   "source": [
    "set1.intersection(set2)   # Get the intersection of two sets"
   ]
  },
  {
   "cell_type": "code",
   "execution_count": 18,
   "id": "2656f810-3497-4029-a52d-368ea77aaeca",
   "metadata": {},
   "outputs": [
    {
     "data": {
      "text/plain": [
       "{5, 6}"
      ]
     },
     "execution_count": 18,
     "metadata": {},
     "output_type": "execute_result"
    }
   ],
   "source": [
    "set1.difference(set2)     # Get the difference between two sets"
   ]
  },
  {
   "cell_type": "code",
   "execution_count": 19,
   "id": "10cc2f65-0936-4b9f-ad6a-ea68a33aa7d7",
   "metadata": {},
   "outputs": [
    {
     "data": {
      "text/plain": [
       "False"
      ]
     },
     "execution_count": 19,
     "metadata": {},
     "output_type": "execute_result"
    }
   ],
   "source": [
    "set1.issubset(set2)       # Check whether set1 is a subset of set2"
   ]
  },
  {
   "cell_type": "code",
   "execution_count": 20,
   "id": "26a0867d-df5a-4032-9fe0-96406e7b8e28",
   "metadata": {},
   "outputs": [
    {
     "data": {
      "text/plain": [
       "{1, 2, 3, 4, 5, 6}"
      ]
     },
     "execution_count": 20,
     "metadata": {},
     "output_type": "execute_result"
    }
   ],
   "source": [
    "my_list = [1,2,2,2,3,3,4,5,5,5,6]\n",
    "\n",
    "set(my_list)"
   ]
  },
  {
   "cell_type": "code",
   "execution_count": null,
   "id": "16809d7e-0ee2-425d-a33b-5f4ae4be435e",
   "metadata": {},
   "outputs": [],
   "source": []
  }
 ],
 "metadata": {
  "kernelspec": {
   "display_name": "Python 3.11.7 64-bit",
   "language": "python",
   "name": "python3"
  },
  "language_info": {
   "codemirror_mode": {
    "name": "ipython",
    "version": 3
   },
   "file_extension": ".py",
   "mimetype": "text/x-python",
   "name": "python",
   "nbconvert_exporter": "python",
   "pygments_lexer": "ipython3",
   "version": "3.11.7"
  },
  "vscode": {
   "interpreter": {
    "hash": "5238573367df39f7286bb46f9ff5f08f63a01a80960060ce41e3c79b190280fa"
   }
  }
 },
 "nbformat": 4,
 "nbformat_minor": 5
}
