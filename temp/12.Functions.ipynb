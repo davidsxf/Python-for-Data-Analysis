{
 "cells": [
  {
   "cell_type": "code",
   "execution_count": 1,
   "id": "39798a0b-4a4a-4212-873a-496f07860ab4",
   "metadata": {},
   "outputs": [],
   "source": [
    "def my_function(arg1, arg2):   # Defines a new function\n",
    "    return arg1 + arg2           # Function body (code to execute)"
   ]
  },
  {
   "cell_type": "code",
   "execution_count": 2,
   "id": "3a47bf5a-0acf-4850-97c1-404ebf94cfbc",
   "metadata": {},
   "outputs": [
    {
     "data": {
      "text/plain": [
       "15"
      ]
     },
     "execution_count": 2,
     "metadata": {},
     "output_type": "execute_result"
    }
   ],
   "source": [
    "my_function(5, 10)"
   ]
  },
  {
   "cell_type": "code",
   "execution_count": 3,
   "id": "d7866b58-d77e-4ed1-afd2-e0744514144a",
   "metadata": {},
   "outputs": [],
   "source": [
    "def sum_3_items(x, y, z, print_args = False): \n",
    "    if print_args:                        \n",
    "        print(x,y,z)\n",
    "    return x + y + z"
   ]
  },
  {
   "cell_type": "code",
   "execution_count": 4,
   "id": "7a98653c-a6e6-4077-b834-34d0eb3996c2",
   "metadata": {},
   "outputs": [
    {
     "data": {
      "text/plain": [
       "35"
      ]
     },
     "execution_count": 4,
     "metadata": {},
     "output_type": "execute_result"
    }
   ],
   "source": [
    "sum_3_items(5,10,20)        # By default the arguments are not printed"
   ]
  },
  {
   "cell_type": "code",
   "execution_count": 5,
   "id": "d1d35c1a-db1a-4053-a25d-e1ad31228e91",
   "metadata": {},
   "outputs": [
    {
     "name": "stdout",
     "output_type": "stream",
     "text": [
      "5 10 20\n"
     ]
    },
    {
     "data": {
      "text/plain": [
       "35"
      ]
     },
     "execution_count": 5,
     "metadata": {},
     "output_type": "execute_result"
    }
   ],
   "source": [
    "sum_3_items(5,10,20,True)   # Changing the default prints the arguments"
   ]
  },
  {
   "cell_type": "code",
   "execution_count": 6,
   "id": "d96f35a5-d5f3-49ce-9d05-713b0ab1d966",
   "metadata": {},
   "outputs": [
    {
     "name": "stdout",
     "output_type": "stream",
     "text": [
      "<class 'tuple'>\n"
     ]
    },
    {
     "data": {
      "text/plain": [
       "15"
      ]
     },
     "execution_count": 6,
     "metadata": {},
     "output_type": "execute_result"
    }
   ],
   "source": [
    "def sum_many_args(*args):\n",
    "    print (type (args))\n",
    "    return (sum(args))\n",
    "\n",
    "    \n",
    "sum_many_args(1, 2, 3, 4, 5)"
   ]
  },
  {
   "cell_type": "code",
   "execution_count": 7,
   "id": "57793d62-15b1-475b-8e1f-6fc987047a36",
   "metadata": {},
   "outputs": [
    {
     "name": "stdout",
     "output_type": "stream",
     "text": [
      "<class 'dict'>\n"
     ]
    },
    {
     "data": {
      "text/plain": [
       "300"
      ]
     },
     "execution_count": 7,
     "metadata": {},
     "output_type": "execute_result"
    }
   ],
   "source": [
    "def sum_keywords(**kwargs):\n",
    "    print (type (kwargs))\n",
    "    return (sum(kwargs.values()))\n",
    "\n",
    "    \n",
    "sum_keywords(mynum=100, yournum=200)"
   ]
  },
  {
   "cell_type": "code",
   "execution_count": 8,
   "id": "4fa5d10a-4d9e-48f0-a5ef-38fe0da068af",
   "metadata": {},
   "outputs": [],
   "source": [
    "import numpy as np\n",
    "\n",
    "def rmse(predicted, targets):\n",
    "    \"\"\"\n",
    "    Computes root mean squared error of two numpy ndarrays\n",
    "    \n",
    "    Args:\n",
    "        predicted: an ndarray of predictions\n",
    "        targets: an ndarray of target values\n",
    "    \n",
    "    Returns:\n",
    "        The root mean squared error as a float\n",
    "    \"\"\"\n",
    "    return (np.sqrt(np.mean((targets-predicted)**2)))"
   ]
  },
  {
   "cell_type": "code",
   "execution_count": 9,
   "id": "fcdb7c08-7417-48f4-aa0a-b35f6dff36bb",
   "metadata": {},
   "outputs": [
    {
     "data": {
      "text/plain": [
       "<function __main__.<lambda>(x, y)>"
      ]
     },
     "execution_count": 9,
     "metadata": {},
     "output_type": "execute_result"
    }
   ],
   "source": [
    "lambda x, y: x + y"
   ]
  },
  {
   "cell_type": "code",
   "execution_count": 10,
   "id": "c16ff83b-f578-4eb0-83f0-254bd63a44fd",
   "metadata": {},
   "outputs": [
    {
     "data": {
      "text/plain": [
       "15"
      ]
     },
     "execution_count": 10,
     "metadata": {},
     "output_type": "execute_result"
    }
   ],
   "source": [
    "my_function2 = lambda x, y: x + y\n",
    "\n",
    "my_function2(5,10)"
   ]
  },
  {
   "cell_type": "code",
   "execution_count": 11,
   "id": "fe5571ca-7361-46d8-8263-e2ae84c3ec28",
   "metadata": {},
   "outputs": [
    {
     "name": "stdout",
     "output_type": "stream",
     "text": [
      "1\n",
      "4\n",
      "9\n",
      "16\n",
      "25\n"
     ]
    }
   ],
   "source": [
    "# Example of using map() without a lambda function\n",
    "\n",
    "def square(x):    # Define a function\n",
    "    return x**2\n",
    "\n",
    "my_map = map(square, [1, 2, 3, 4, 5])  # Pass the function to map()\n",
    "\n",
    "for item in my_map:\n",
    "    print(item)"
   ]
  },
  {
   "cell_type": "code",
   "execution_count": null,
   "id": "77025946-489c-42c5-8f7c-d4147607c30d",
   "metadata": {},
   "outputs": [],
   "source": []
  }
 ],
 "metadata": {
  "kernelspec": {
   "display_name": "Python 3 (ipykernel)",
   "language": "python",
   "name": "python3"
  },
  "language_info": {
   "codemirror_mode": {
    "name": "ipython",
    "version": 3
   },
   "file_extension": ".py",
   "mimetype": "text/x-python",
   "name": "python",
   "nbconvert_exporter": "python",
   "pygments_lexer": "ipython3",
   "version": "3.11.5"
  }
 },
 "nbformat": 4,
 "nbformat_minor": 5
}
