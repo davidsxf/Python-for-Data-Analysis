{
 "cells": [
  {
   "cell_type": "code",
   "execution_count": 1,
   "metadata": {},
   "outputs": [
    {
     "data": {
      "text/html": [
       "<div>\n",
       "<style scoped>\n",
       "    .dataframe tbody tr th:only-of-type {\n",
       "        vertical-align: middle;\n",
       "    }\n",
       "\n",
       "    .dataframe tbody tr th {\n",
       "        vertical-align: top;\n",
       "    }\n",
       "\n",
       "    .dataframe thead th {\n",
       "        text-align: right;\n",
       "    }\n",
       "</style>\n",
       "<table border=\"1\" class=\"dataframe\">\n",
       "  <thead>\n",
       "    <tr style=\"text-align: right;\">\n",
       "      <th></th>\n",
       "      <th>投喂单号</th>\n",
       "      <th>投喂时间</th>\n",
       "      <th>审核状态</th>\n",
       "      <th>单据属性</th>\n",
       "      <th>区域名称</th>\n",
       "      <th>池塘编号</th>\n",
       "      <th>品种名称</th>\n",
       "      <th>投喂方式</th>\n",
       "      <th>饲料仓库</th>\n",
       "      <th>投喂数量</th>\n",
       "      <th>计量单位</th>\n",
       "      <th>投喂重量kg</th>\n",
       "      <th>换算率</th>\n",
       "      <th>负责人</th>\n",
       "    </tr>\n",
       "  </thead>\n",
       "  <tbody>\n",
       "    <tr>\n",
       "      <th>0</th>\n",
       "      <td>成鱼生产二部2021-04-3019</td>\n",
       "      <td>2021-04-30</td>\n",
       "      <td>已审核</td>\n",
       "      <td>人工录入</td>\n",
       "      <td>成鱼生产二部</td>\n",
       "      <td>2372</td>\n",
       "      <td>散装料</td>\n",
       "      <td>自动投料机</td>\n",
       "      <td>2324</td>\n",
       "      <td>205</td>\n",
       "      <td>千克</td>\n",
       "      <td>205</td>\n",
       "      <td>1</td>\n",
       "      <td>黄子祥</td>\n",
       "    </tr>\n",
       "    <tr>\n",
       "      <th>1</th>\n",
       "      <td>成鱼生产二部2021-04-2920</td>\n",
       "      <td>2021-04-29</td>\n",
       "      <td>已审核</td>\n",
       "      <td>人工录入</td>\n",
       "      <td>成鱼生产二部</td>\n",
       "      <td>2372</td>\n",
       "      <td>散装料</td>\n",
       "      <td>自动投料机</td>\n",
       "      <td>2324</td>\n",
       "      <td>204</td>\n",
       "      <td>千克</td>\n",
       "      <td>204</td>\n",
       "      <td>1</td>\n",
       "      <td>黄子祥</td>\n",
       "    </tr>\n",
       "    <tr>\n",
       "      <th>2</th>\n",
       "      <td>成鱼生产二部2021-04-2854</td>\n",
       "      <td>2021-04-28</td>\n",
       "      <td>已审核</td>\n",
       "      <td>人工录入</td>\n",
       "      <td>成鱼生产二部</td>\n",
       "      <td>2372</td>\n",
       "      <td>散装料</td>\n",
       "      <td>自动投料机</td>\n",
       "      <td>2324</td>\n",
       "      <td>204</td>\n",
       "      <td>千克</td>\n",
       "      <td>204</td>\n",
       "      <td>1</td>\n",
       "      <td>黄子祥</td>\n",
       "    </tr>\n",
       "    <tr>\n",
       "      <th>3</th>\n",
       "      <td>成鱼生产二部2021-04-2744</td>\n",
       "      <td>2021-04-27</td>\n",
       "      <td>已审核</td>\n",
       "      <td>人工录入</td>\n",
       "      <td>成鱼生产二部</td>\n",
       "      <td>2372</td>\n",
       "      <td>散装料</td>\n",
       "      <td>自动投料机</td>\n",
       "      <td>2324</td>\n",
       "      <td>194</td>\n",
       "      <td>千克</td>\n",
       "      <td>194</td>\n",
       "      <td>1</td>\n",
       "      <td>黄子祥</td>\n",
       "    </tr>\n",
       "    <tr>\n",
       "      <th>4</th>\n",
       "      <td>成鱼生产二部2021-04-2624</td>\n",
       "      <td>2021-04-26</td>\n",
       "      <td>已审核</td>\n",
       "      <td>人工录入</td>\n",
       "      <td>成鱼生产二部</td>\n",
       "      <td>2372</td>\n",
       "      <td>散装料</td>\n",
       "      <td>自动投料机</td>\n",
       "      <td>2324</td>\n",
       "      <td>192</td>\n",
       "      <td>千克</td>\n",
       "      <td>192</td>\n",
       "      <td>1</td>\n",
       "      <td>黄子祥</td>\n",
       "    </tr>\n",
       "  </tbody>\n",
       "</table>\n",
       "</div>"
      ],
      "text/plain": [
       "                   投喂单号       投喂时间 审核状态  单据属性    区域名称  池塘编号 品种名称   投喂方式  饲料仓库  \\\n",
       "0  成鱼生产二部2021-04-3019   2021-04-30  已审核  人工录入  成鱼生产二部  2372  散装料  自动投料机  2324   \n",
       "1  成鱼生产二部2021-04-2920   2021-04-29  已审核  人工录入  成鱼生产二部  2372  散装料  自动投料机  2324   \n",
       "2  成鱼生产二部2021-04-2854   2021-04-28  已审核  人工录入  成鱼生产二部  2372  散装料  自动投料机  2324   \n",
       "3  成鱼生产二部2021-04-2744   2021-04-27  已审核  人工录入  成鱼生产二部  2372  散装料  自动投料机  2324   \n",
       "4  成鱼生产二部2021-04-2624   2021-04-26  已审核  人工录入  成鱼生产二部  2372  散装料  自动投料机  2324   \n",
       "\n",
       "   投喂数量 计量单位  投喂重量kg  换算率  负责人  \n",
       "0   205   千克     205    1  黄子祥  \n",
       "1   204   千克     204    1  黄子祥  \n",
       "2   204   千克     204    1  黄子祥  \n",
       "3   194   千克     194    1  黄子祥  \n",
       "4   192   千克     192    1  黄子祥  "
      ]
     },
     "execution_count": 1,
     "metadata": {},
     "output_type": "execute_result"
    }
   ],
   "source": [
    "import pandas as pd\n",
    "\n",
    "df = pd.read_excel(\"data/feed.xlsx\")\n",
    "\n",
    "df.head()"
   ]
  },
  {
   "cell_type": "code",
   "execution_count": 2,
   "metadata": {},
   "outputs": [],
   "source": [
    "ps_df = pd.read_excel(\"data/pondstorage.xlsx\")"
   ]
  },
  {
   "cell_type": "code",
   "execution_count": 4,
   "metadata": {},
   "outputs": [
    {
     "data": {
      "text/html": [
       "<div>\n",
       "<style scoped>\n",
       "    .dataframe tbody tr th:only-of-type {\n",
       "        vertical-align: middle;\n",
       "    }\n",
       "\n",
       "    .dataframe tbody tr th {\n",
       "        vertical-align: top;\n",
       "    }\n",
       "\n",
       "    .dataframe thead th {\n",
       "        text-align: right;\n",
       "    }\n",
       "</style>\n",
       "<table border=\"1\" class=\"dataframe\">\n",
       "  <thead>\n",
       "    <tr style=\"text-align: right;\">\n",
       "      <th></th>\n",
       "      <th>区域名称</th>\n",
       "      <th>池塘编号</th>\n",
       "      <th>品种名称</th>\n",
       "      <th>数量（斤）</th>\n",
       "      <th>均规格（斤/尾）</th>\n",
       "      <th>数量（尾）</th>\n",
       "      <th>结算年月</th>\n",
       "    </tr>\n",
       "  </thead>\n",
       "  <tbody>\n",
       "    <tr>\n",
       "      <th>0</th>\n",
       "      <td>大鲩生产部</td>\n",
       "      <td>A1</td>\n",
       "      <td>鲫鱼</td>\n",
       "      <td>9808.28</td>\n",
       "      <td>0.730000</td>\n",
       "      <td>13436</td>\n",
       "      <td>2023-01-31 23:59:59</td>\n",
       "    </tr>\n",
       "    <tr>\n",
       "      <th>1</th>\n",
       "      <td>成鱼生产二部</td>\n",
       "      <td>2224A</td>\n",
       "      <td>黄颡鱼</td>\n",
       "      <td>70.00</td>\n",
       "      <td>0.140000</td>\n",
       "      <td>500</td>\n",
       "      <td>2023-01-31 23:59:59</td>\n",
       "    </tr>\n",
       "    <tr>\n",
       "      <th>2</th>\n",
       "      <td>成鱼生产二部</td>\n",
       "      <td>2224A</td>\n",
       "      <td>草鱼商品鱼</td>\n",
       "      <td>34811.14</td>\n",
       "      <td>3.234935</td>\n",
       "      <td>10761</td>\n",
       "      <td>2023-01-31 23:59:59</td>\n",
       "    </tr>\n",
       "    <tr>\n",
       "      <th>3</th>\n",
       "      <td>成鱼生产二部</td>\n",
       "      <td>2224A</td>\n",
       "      <td>大头鱼</td>\n",
       "      <td>2475.00</td>\n",
       "      <td>3.000000</td>\n",
       "      <td>825</td>\n",
       "      <td>2023-01-31 23:59:59</td>\n",
       "    </tr>\n",
       "    <tr>\n",
       "      <th>4</th>\n",
       "      <td>成鱼生产二部</td>\n",
       "      <td>2224A</td>\n",
       "      <td>鲫鱼</td>\n",
       "      <td>4534.40</td>\n",
       "      <td>0.800000</td>\n",
       "      <td>5668</td>\n",
       "      <td>2023-01-31 23:59:59</td>\n",
       "    </tr>\n",
       "  </tbody>\n",
       "</table>\n",
       "</div>"
      ],
      "text/plain": [
       "     区域名称   池塘编号   品种名称     数量（斤）  均规格（斤/尾）  数量（尾）                 结算年月\n",
       "0   大鲩生产部     A1     鲫鱼   9808.28  0.730000  13436  2023-01-31 23:59:59\n",
       "1  成鱼生产二部  2224A    黄颡鱼     70.00  0.140000    500  2023-01-31 23:59:59\n",
       "2  成鱼生产二部  2224A  草鱼商品鱼  34811.14  3.234935  10761  2023-01-31 23:59:59\n",
       "3  成鱼生产二部  2224A    大头鱼   2475.00  3.000000    825  2023-01-31 23:59:59\n",
       "4  成鱼生产二部  2224A     鲫鱼   4534.40  0.800000   5668  2023-01-31 23:59:59"
      ]
     },
     "execution_count": 4,
     "metadata": {},
     "output_type": "execute_result"
    }
   ],
   "source": [
    "ps_df.head()"
   ]
  },
  {
   "cell_type": "code",
   "execution_count": 5,
   "metadata": {},
   "outputs": [
    {
     "data": {
      "text/plain": [
       "0    2372\n",
       "1    2372\n",
       "2    2372\n",
       "3    2372\n",
       "4    2372\n",
       "Name: 池塘编号, dtype: int64"
      ]
     },
     "execution_count": 5,
     "metadata": {},
     "output_type": "execute_result"
    }
   ],
   "source": [
    "df['池塘编号']"
   ]
  },
  {
   "cell_type": "code",
   "execution_count": 7,
   "metadata": {},
   "outputs": [
    {
     "data": {
      "text/plain": [
       "0           A1\n",
       "1        2224A\n",
       "2        2224A\n",
       "3        2224A\n",
       "4        2224A\n",
       "         ...  \n",
       "51842     1108\n",
       "51843     1108\n",
       "51844     1106\n",
       "51845     1106\n",
       "51846     1106\n",
       "Name: 池塘编号, Length: 51847, dtype: object"
      ]
     },
     "execution_count": 7,
     "metadata": {},
     "output_type": "execute_result"
    }
   ],
   "source": [
    "ps_df[\"池塘编号\"]"
   ]
  },
  {
   "cell_type": "code",
   "execution_count": 8,
   "metadata": {},
   "outputs": [
    {
     "data": {
      "text/html": [
       "<div>\n",
       "<style scoped>\n",
       "    .dataframe tbody tr th:only-of-type {\n",
       "        vertical-align: middle;\n",
       "    }\n",
       "\n",
       "    .dataframe tbody tr th {\n",
       "        vertical-align: top;\n",
       "    }\n",
       "\n",
       "    .dataframe thead th {\n",
       "        text-align: right;\n",
       "    }\n",
       "</style>\n",
       "<table border=\"1\" class=\"dataframe\">\n",
       "  <thead>\n",
       "    <tr style=\"text-align: right;\">\n",
       "      <th></th>\n",
       "      <th>区域名称</th>\n",
       "      <th>池塘编号</th>\n",
       "      <th>品种名称</th>\n",
       "      <th>数量（斤）</th>\n",
       "      <th>均规格（斤/尾）</th>\n",
       "      <th>数量（尾）</th>\n",
       "      <th>结算年月</th>\n",
       "    </tr>\n",
       "  </thead>\n",
       "  <tbody>\n",
       "  </tbody>\n",
       "</table>\n",
       "</div>"
      ],
      "text/plain": [
       "Empty DataFrame\n",
       "Columns: [区域名称, 池塘编号, 品种名称, 数量（斤）, 均规格（斤/尾）, 数量（尾）, 结算年月]\n",
       "Index: []"
      ]
     },
     "execution_count": 8,
     "metadata": {},
     "output_type": "execute_result"
    }
   ],
   "source": [
    "ps_df[ps_df[\"池塘编号\"].isin(df['池塘编号'])]\n"
   ]
  }
 ],
 "metadata": {
  "kernelspec": {
   "display_name": "Python 3.11.8 ('ai')",
   "language": "python",
   "name": "python3"
  },
  "language_info": {
   "codemirror_mode": {
    "name": "ipython",
    "version": 3
   },
   "file_extension": ".py",
   "mimetype": "text/x-python",
   "name": "python",
   "nbconvert_exporter": "python",
   "pygments_lexer": "ipython3",
   "version": "3.11.8"
  },
  "orig_nbformat": 4,
  "vscode": {
   "interpreter": {
    "hash": "16b5ba8b0fc2955b30e9dcc40d80a15055b56bf6ee36ea534159a7d87da288cf"
   }
  }
 },
 "nbformat": 4,
 "nbformat_minor": 2
}
