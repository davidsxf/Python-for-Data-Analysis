{
 "cells": [
  {
   "cell_type": "code",
   "execution_count": 1,
   "id": "581981a0-b3a9-4593-982d-4ac32981931c",
   "metadata": {},
   "outputs": [
    {
     "name": "stdout",
     "output_type": "stream",
     "text": [
      "[0, 1, 2, 3, 4, 5, 6, 7, 8, 9, 10, 11, 12, 13, 14, 15, 16, 17, 18, 19, 20, 21, 22, 23, 24, 25, 26, 27, 28, 29, 30, 31, 32, 33, 34, 35, 36, 37, 38, 39, 40, 41, 42, 43, 44, 45, 46, 47, 48, 49, 50, 51, 52, 53, 54, 55, 56, 57, 58, 59, 60, 61, 62, 63, 64, 65, 66, 67, 68, 69, 70, 71, 72, 73, 74, 75, 76, 77, 78, 79, 80, 81, 82, 83, 84, 85, 86, 87, 88, 89, 90, 91, 92, 93, 94, 95, 96, 97, 98, 99, 100]\n"
     ]
    }
   ],
   "source": [
    "my_list = []\n",
    "\n",
    "for number in range(0, 101):\n",
    "    my_list.append(number)\n",
    "    \n",
    "print(my_list)"
   ]
  },
  {
   "cell_type": "code",
   "execution_count": 2,
   "id": "75766457-1a51-4819-bdae-ec8946d8a463",
   "metadata": {},
   "outputs": [
    {
     "name": "stdout",
     "output_type": "stream",
     "text": [
      "[0, 1, 2, 3, 4, 5, 6, 7, 8, 9, 10, 11, 12, 13, 14, 15, 16, 17, 18, 19, 20, 21, 22, 23, 24, 25, 26, 27, 28, 29, 30, 31, 32, 33, 34, 35, 36, 37, 38, 39, 40, 41, 42, 43, 44, 45, 46, 47, 48, 49, 50, 51, 52, 53, 54, 55, 56, 57, 58, 59, 60, 61, 62, 63, 64, 65, 66, 67, 68, 69, 70, 71, 72, 73, 74, 75, 76, 77, 78, 79, 80, 81, 82, 83, 84, 85, 86, 87, 88, 89, 90, 91, 92, 93, 94, 95, 96, 97, 98, 99, 100]\n"
     ]
    }
   ],
   "source": [
    "my_list2 = [number for number in range(0, 101)]\n",
    "\n",
    "print(my_list2)"
   ]
  },
  {
   "cell_type": "code",
   "execution_count": 3,
   "id": "2871e083-4eb8-4058-990e-04fc9c7d642c",
   "metadata": {},
   "outputs": [
    {
     "name": "stdout",
     "output_type": "stream",
     "text": [
      "[0, 2, 4, 6, 8, 10, 12, 14, 16, 18, 20, 22, 24, 26, 28, 30, 32, 34, 36, 38, 40, 42, 44, 46, 48, 50, 52, 54, 56, 58, 60, 62, 64, 66, 68, 70, 72, 74, 76, 78, 80, 82, 84, 86, 88, 90, 92, 94, 96, 98, 100]\n"
     ]
    }
   ],
   "source": [
    "my_list3 = [number for number in range(0, 101) if number % 2 == 0]\n",
    "\n",
    "print(my_list3)"
   ]
  },
  {
   "cell_type": "code",
   "execution_count": 4,
   "id": "c8ef8274-2a1b-4d7f-9250-f8a1a616bb88",
   "metadata": {},
   "outputs": [
    {
     "name": "stdout",
     "output_type": "stream",
     "text": [
      "['ls', 'lt', 'lu', 'ld', 'ly', 'is', 'it', 'iu', 'id', 'iy', 'fs', 'ft', 'fu', 'fd', 'fy', 'es', 'et', 'eu', 'ed', 'ey']\n"
     ]
    }
   ],
   "source": [
    "combined = [a + b  for a in \"life\" for b in \"study\"]\n",
    "\n",
    "print (combined)"
   ]
  },
  {
   "cell_type": "code",
   "execution_count": 5,
   "id": "a3aefbda-216c-4fcd-9532-9a6ab931a946",
   "metadata": {},
   "outputs": [
    {
     "name": "stdout",
     "output_type": "stream",
     "text": [
      "['s', 't', 'u', 'd', 'y', 's', 't', 'u', 'd', 'y', 's', 't', 'u', 'd', 'y', 's', 't', 'u', 'd', 'y']\n"
     ]
    }
   ],
   "source": [
    "nested = [letters[1] for letters in [a + b  for a in \"life\" for b in \"study\"]]\n",
    "\n",
    "print(nested)"
   ]
  },
  {
   "cell_type": "code",
   "execution_count": 6,
   "id": "a42cbcf5-c1df-444e-9514-156b8ebdde36",
   "metadata": {},
   "outputs": [
    {
     "name": "stdout",
     "output_type": "stream",
     "text": [
      "['s', 't', 'u', 'd', 'y', 's', 't', 'u', 'd', 'y', 's', 't', 'u', 'd', 'y', 's', 't', 'u', 'd', 'y']\n"
     ]
    }
   ],
   "source": [
    "combined = [a + b  for a in \"life\" for b in \"study\"]\n",
    "non_nested = [letters[1] for letters in combined]\n",
    "\n",
    "print (non_nested)"
   ]
  },
  {
   "cell_type": "code",
   "execution_count": 7,
   "id": "0fefb5fc-a308-4cd4-b0df-701348967ab9",
   "metadata": {},
   "outputs": [
    {
     "name": "stdout",
     "output_type": "stream",
     "text": [
      "{'life': 4, 'is': 2, 'study': 5}\n"
     ]
    }
   ],
   "source": [
    "words = [\"life\",\"is\",\"study\"]\n",
    "\n",
    "word_length_dict = {}\n",
    "\n",
    "for word in words:\n",
    "    word_length_dict[word] = len(word)\n",
    "    \n",
    "print(word_length_dict)"
   ]
  },
  {
   "cell_type": "code",
   "execution_count": 8,
   "id": "e122c833-309b-4ad6-b523-c3bc863f83be",
   "metadata": {},
   "outputs": [
    {
     "name": "stdout",
     "output_type": "stream",
     "text": [
      "('life', 4)\n",
      "('is', 2)\n",
      "('study', 5)\n"
     ]
    }
   ],
   "source": [
    "words = [\"life\",\"is\",\"study\"]\n",
    "word_lengths = [4, 2, 5]\n",
    "pairs = zip(words, word_lengths)\n",
    "\n",
    "for item in pairs:\n",
    "    print (item)"
   ]
  },
  {
   "cell_type": "code",
   "execution_count": 9,
   "id": "b6f6e369-486c-4f3a-b9f1-ee26d8183eeb",
   "metadata": {},
   "outputs": [
    {
     "name": "stdout",
     "output_type": "stream",
     "text": [
      "{'life': 4, 'is': 2, 'study': 5}\n"
     ]
    }
   ],
   "source": [
    "words = [\"life\",\"is\",\"study\"]\n",
    "word_lengths = [4, 2, 5]\n",
    "\n",
    "word_length_dict3 = {key:value for (key, value) in zip(words, word_lengths)}\n",
    "\n",
    "print( word_length_dict3 )"
   ]
  },
  {
   "cell_type": "code",
   "execution_count": null,
   "id": "599bf811-3d8e-49b9-96e0-e89fc0e11e0f",
   "metadata": {},
   "outputs": [],
   "source": []
  }
 ],
 "metadata": {
  "kernelspec": {
   "display_name": "Python 3 (ipykernel)",
   "language": "python",
   "name": "python3"
  },
  "language_info": {
   "codemirror_mode": {
    "name": "ipython",
    "version": 3
   },
   "file_extension": ".py",
   "mimetype": "text/x-python",
   "name": "python",
   "nbconvert_exporter": "python",
   "pygments_lexer": "ipython3",
   "version": "3.11.5"
  }
 },
 "nbformat": 4,
 "nbformat_minor": 5
}
