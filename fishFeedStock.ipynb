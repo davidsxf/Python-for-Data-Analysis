{
 "cells": [
  {
   "cell_type": "markdown",
   "id": "2db3708a-fd56-4a4f-9c95-65ea873aa59b",
   "metadata": {},
   "source": [
    "https://www.pypandas.cn/"
   ]
  },
  {
   "cell_type": "code",
   "execution_count": null,
   "id": "9b5bfc7c",
   "metadata": {},
   "outputs": [],
   "source": []
  },
  {
   "cell_type": "code",
   "execution_count": 2,
   "id": "e430ce2f-861a-4bd2-a3ca-4e6657984291",
   "metadata": {},
   "outputs": [
    {
     "name": "stdout",
     "output_type": "stream",
     "text": [
      "Looking in indexes: http://mirrors.aliyun.com/pypi/simple/\n",
      "Requirement already satisfied: xlrd in d:\\programdata\\anaconda3\\envs\\ai\\lib\\site-packages (2.0.1)\n"
     ]
    }
   ],
   "source": [
    "!pip install xlrd "
   ]
  },
  {
   "cell_type": "code",
   "execution_count": 4,
   "id": "67b513a4",
   "metadata": {},
   "outputs": [
    {
     "name": "stdout",
     "output_type": "stream",
     "text": [
      "Looking in indexes: http://mirrors.aliyun.com/pypi/simple/\n",
      "Collecting openpyxl\n",
      "  Downloading http://mirrors.aliyun.com/pypi/packages/6a/94/a59521de836ef0da54aaf50da6c4da8fb4072fb3053fa71f052fd9399e7a/openpyxl-3.1.2-py2.py3-none-any.whl (249 kB)\n",
      "     ---------------------------------------- 0.0/250.0 kB ? eta -:--:--\n",
      "     ------------ -------------------------- 81.9/250.0 kB 2.3 MB/s eta 0:00:01\n",
      "     ---------------------------- --------- 184.3/250.0 kB 2.2 MB/s eta 0:00:01\n",
      "     -------------------------------------- 250.0/250.0 kB 2.2 MB/s eta 0:00:00\n",
      "Collecting et-xmlfile (from openpyxl)\n",
      "  Downloading http://mirrors.aliyun.com/pypi/packages/96/c2/3dd434b0108730014f1b96fd286040dc3bcb70066346f7e01ec2ac95865f/et_xmlfile-1.1.0-py3-none-any.whl (4.7 kB)\n",
      "Installing collected packages: et-xmlfile, openpyxl\n",
      "Successfully installed et-xmlfile-1.1.0 openpyxl-3.1.2\n"
     ]
    }
   ],
   "source": [
    "!pip install openpyxl"
   ]
  },
  {
   "cell_type": "code",
   "execution_count": null,
   "id": "a279ea23-ef9b-4048-89b0-d19a63d60601",
   "metadata": {},
   "outputs": [],
   "source": [
    "import pandas as pd\n",
    "pd.__version__"
   ]
  },
  {
   "cell_type": "code",
   "execution_count": 2,
   "id": "5eee7c57-ffcb-4203-9049-94f9f0d6e765",
   "metadata": {},
   "outputs": [
    {
     "data": {
      "text/html": [
       "<div>\n",
       "<style scoped>\n",
       "    .dataframe tbody tr th:only-of-type {\n",
       "        vertical-align: middle;\n",
       "    }\n",
       "\n",
       "    .dataframe tbody tr th {\n",
       "        vertical-align: top;\n",
       "    }\n",
       "\n",
       "    .dataframe thead th {\n",
       "        text-align: right;\n",
       "    }\n",
       "</style>\n",
       "<table border=\"1\" class=\"dataframe\">\n",
       "  <thead>\n",
       "    <tr style=\"text-align: right;\">\n",
       "      <th></th>\n",
       "      <th>投喂时间</th>\n",
       "      <th>池塘编号</th>\n",
       "      <th>品种名称</th>\n",
       "      <th>投喂方式</th>\n",
       "      <th>饲料仓库</th>\n",
       "      <th>投喂重量kg</th>\n",
       "    </tr>\n",
       "  </thead>\n",
       "  <tbody>\n",
       "    <tr>\n",
       "      <th>0</th>\n",
       "      <td>2023-01-31</td>\n",
       "      <td>1127</td>\n",
       "      <td>散装料</td>\n",
       "      <td>自动投料机</td>\n",
       "      <td>1127</td>\n",
       "      <td>201.0</td>\n",
       "    </tr>\n",
       "    <tr>\n",
       "      <th>1</th>\n",
       "      <td>2023-01-31</td>\n",
       "      <td>1128</td>\n",
       "      <td>散装料</td>\n",
       "      <td>自动投料机</td>\n",
       "      <td>1128</td>\n",
       "      <td>211.0</td>\n",
       "    </tr>\n",
       "    <tr>\n",
       "      <th>2</th>\n",
       "      <td>2023-01-31</td>\n",
       "      <td>1129</td>\n",
       "      <td>散装料</td>\n",
       "      <td>自动投料机</td>\n",
       "      <td>1129</td>\n",
       "      <td>102.0</td>\n",
       "    </tr>\n",
       "    <tr>\n",
       "      <th>3</th>\n",
       "      <td>2023-01-31</td>\n",
       "      <td>1130</td>\n",
       "      <td>散装料</td>\n",
       "      <td>自动投料机</td>\n",
       "      <td>1130</td>\n",
       "      <td>218.0</td>\n",
       "    </tr>\n",
       "    <tr>\n",
       "      <th>4</th>\n",
       "      <td>2023-01-31</td>\n",
       "      <td>1201</td>\n",
       "      <td>散装料</td>\n",
       "      <td>自动投料机</td>\n",
       "      <td>1201</td>\n",
       "      <td>153.0</td>\n",
       "    </tr>\n",
       "    <tr>\n",
       "      <th>5</th>\n",
       "      <td>2023-01-31</td>\n",
       "      <td>1202</td>\n",
       "      <td>散装料</td>\n",
       "      <td>自动投料机</td>\n",
       "      <td>1202</td>\n",
       "      <td>170.0</td>\n",
       "    </tr>\n",
       "    <tr>\n",
       "      <th>6</th>\n",
       "      <td>2023-01-31</td>\n",
       "      <td>1203</td>\n",
       "      <td>散装料</td>\n",
       "      <td>自动投料机</td>\n",
       "      <td>1203</td>\n",
       "      <td>241.0</td>\n",
       "    </tr>\n",
       "    <tr>\n",
       "      <th>7</th>\n",
       "      <td>2023-01-31</td>\n",
       "      <td>1204</td>\n",
       "      <td>散装料</td>\n",
       "      <td>自动投料机</td>\n",
       "      <td>1204</td>\n",
       "      <td>210.0</td>\n",
       "    </tr>\n",
       "    <tr>\n",
       "      <th>8</th>\n",
       "      <td>2023-01-31</td>\n",
       "      <td>1205</td>\n",
       "      <td>散装料</td>\n",
       "      <td>自动投料机</td>\n",
       "      <td>1205</td>\n",
       "      <td>371.0</td>\n",
       "    </tr>\n",
       "    <tr>\n",
       "      <th>9</th>\n",
       "      <td>2023-01-31</td>\n",
       "      <td>1206</td>\n",
       "      <td>散装料</td>\n",
       "      <td>自动投料机</td>\n",
       "      <td>1206</td>\n",
       "      <td>401.0</td>\n",
       "    </tr>\n",
       "  </tbody>\n",
       "</table>\n",
       "</div>"
      ],
      "text/plain": [
       "        投喂时间  池塘编号 品种名称   投喂方式  饲料仓库  投喂重量kg\n",
       "0 2023-01-31  1127  散装料  自动投料机  1127   201.0\n",
       "1 2023-01-31  1128  散装料  自动投料机  1128   211.0\n",
       "2 2023-01-31  1129  散装料  自动投料机  1129   102.0\n",
       "3 2023-01-31  1130  散装料  自动投料机  1130   218.0\n",
       "4 2023-01-31  1201  散装料  自动投料机  1201   153.0\n",
       "5 2023-01-31  1202  散装料  自动投料机  1202   170.0\n",
       "6 2023-01-31  1203  散装料  自动投料机  1203   241.0\n",
       "7 2023-01-31  1204  散装料  自动投料机  1204   210.0\n",
       "8 2023-01-31  1205  散装料  自动投料机  1205   371.0\n",
       "9 2023-01-31  1206  散装料  自动投料机  1206   401.0"
      ]
     },
     "execution_count": 2,
     "metadata": {},
     "output_type": "execute_result"
    }
   ],
   "source": [
    "import pandas as pd\n",
    "df = pd.read_excel(\"feed.xlsx\")\n",
    "#convert the date column to dateindex\n",
    "# df.set_index('投喂时间',inplace=True)\n",
    "df[\"投喂时间\"] =  pd.to_datetime(df['投喂时间'])\n",
    "#convert index to datetime\n",
    "# df.index = pd.to_datetime(df.index)\n",
    "df.head(10)"
   ]
  },
  {
   "cell_type": "code",
   "execution_count": 3,
   "id": "4e0447d0",
   "metadata": {},
   "outputs": [
    {
     "data": {
      "text/html": [
       "<div>\n",
       "<style scoped>\n",
       "    .dataframe tbody tr th:only-of-type {\n",
       "        vertical-align: middle;\n",
       "    }\n",
       "\n",
       "    .dataframe tbody tr th {\n",
       "        vertical-align: top;\n",
       "    }\n",
       "\n",
       "    .dataframe thead th {\n",
       "        text-align: right;\n",
       "    }\n",
       "</style>\n",
       "<table border=\"1\" class=\"dataframe\">\n",
       "  <thead>\n",
       "    <tr style=\"text-align: right;\">\n",
       "      <th></th>\n",
       "      <th>投喂时间</th>\n",
       "      <th>池塘编号</th>\n",
       "      <th>品种名称</th>\n",
       "      <th>投喂方式</th>\n",
       "      <th>饲料仓库</th>\n",
       "      <th>投喂重量kg</th>\n",
       "    </tr>\n",
       "  </thead>\n",
       "  <tbody>\n",
       "    <tr>\n",
       "      <th>78427</th>\n",
       "      <td>2024-01-01</td>\n",
       "      <td>2320</td>\n",
       "      <td>散装料</td>\n",
       "      <td>自动投料机</td>\n",
       "      <td>2312</td>\n",
       "      <td>0.0</td>\n",
       "    </tr>\n",
       "    <tr>\n",
       "      <th>78428</th>\n",
       "      <td>2024-01-01</td>\n",
       "      <td>2321</td>\n",
       "      <td>散装料</td>\n",
       "      <td>自动投料机</td>\n",
       "      <td>2309</td>\n",
       "      <td>0.0</td>\n",
       "    </tr>\n",
       "    <tr>\n",
       "      <th>78429</th>\n",
       "      <td>2024-01-01</td>\n",
       "      <td>2322</td>\n",
       "      <td>散装料</td>\n",
       "      <td>自动投料机</td>\n",
       "      <td>2310</td>\n",
       "      <td>0.0</td>\n",
       "    </tr>\n",
       "    <tr>\n",
       "      <th>78430</th>\n",
       "      <td>2024-01-01</td>\n",
       "      <td>2323</td>\n",
       "      <td>散装料</td>\n",
       "      <td>自动投料机</td>\n",
       "      <td>2311</td>\n",
       "      <td>0.0</td>\n",
       "    </tr>\n",
       "    <tr>\n",
       "      <th>78431</th>\n",
       "      <td>2024-01-01</td>\n",
       "      <td>2324</td>\n",
       "      <td>散装料</td>\n",
       "      <td>自动投料机</td>\n",
       "      <td>2312</td>\n",
       "      <td>0.0</td>\n",
       "    </tr>\n",
       "  </tbody>\n",
       "</table>\n",
       "</div>"
      ],
      "text/plain": [
       "            投喂时间  池塘编号 品种名称   投喂方式  饲料仓库  投喂重量kg\n",
       "78427 2024-01-01  2320  散装料  自动投料机  2312     0.0\n",
       "78428 2024-01-01  2321  散装料  自动投料机  2309     0.0\n",
       "78429 2024-01-01  2322  散装料  自动投料机  2310     0.0\n",
       "78430 2024-01-01  2323  散装料  自动投料机  2311     0.0\n",
       "78431 2024-01-01  2324  散装料  自动投料机  2312     0.0"
      ]
     },
     "execution_count": 3,
     "metadata": {},
     "output_type": "execute_result"
    }
   ],
   "source": [
    "df.tail()"
   ]
  },
  {
   "cell_type": "code",
   "execution_count": 4,
   "id": "98789a21",
   "metadata": {},
   "outputs": [],
   "source": [
    "df['投喂重量kg'] = df['投喂重量kg'].astype(float)"
   ]
  },
  {
   "cell_type": "code",
   "execution_count": 9,
   "id": "4a3457ad",
   "metadata": {},
   "outputs": [
    {
     "data": {
      "text/plain": [
       "投喂时间      datetime64[ns]\n",
       "池塘编号              object\n",
       "品种名称              object\n",
       "投喂方式              object\n",
       "饲料仓库              object\n",
       "投喂重量kg           float64\n",
       "dtype: object"
      ]
     },
     "execution_count": 9,
     "metadata": {},
     "output_type": "execute_result"
    }
   ],
   "source": [
    "df.dtypes"
   ]
  },
  {
   "cell_type": "code",
   "execution_count": 10,
   "id": "a8410571",
   "metadata": {},
   "outputs": [
    {
     "data": {
      "text/plain": [
       "47597"
      ]
     },
     "execution_count": 10,
     "metadata": {},
     "output_type": "execute_result"
    }
   ],
   "source": [
    "# 查看零值\n",
    "(df['投喂重量kg'] != 0).sum()"
   ]
  },
  {
   "cell_type": "code",
   "execution_count": 2,
   "id": "04d78db0",
   "metadata": {},
   "outputs": [
    {
     "data": {
      "text/plain": [
       "Index(['投喂时间', '池塘编号', '品种名称', '投喂方式', '饲料仓库', '投喂重量kg'], dtype='object')"
      ]
     },
     "execution_count": 2,
     "metadata": {},
     "output_type": "execute_result"
    }
   ],
   "source": [
    "df.columns"
   ]
  },
  {
   "cell_type": "code",
   "execution_count": 59,
   "id": "6c2724d1",
   "metadata": {},
   "outputs": [],
   "source": [
    "#删除存在零值的行\n",
    "# df2 = df.drop(df.where(df['投喂重量kg']==0))\n",
    "df2 = df[(df != 0).all(axis=1)]\n",
    "#df 导出excel\n",
    "df2.to_excel('feed1.xlsx',index=False)"
   ]
  },
  {
   "cell_type": "code",
   "execution_count": 11,
   "id": "d0fc08fc",
   "metadata": {},
   "outputs": [],
   "source": [
    "df = pd.read_excel('feed1.xlsx')"
   ]
  },
  {
   "cell_type": "code",
   "execution_count": 12,
   "id": "4eb0b1f0",
   "metadata": {},
   "outputs": [
    {
     "data": {
      "text/plain": [
       "(47597, 6)"
      ]
     },
     "execution_count": 12,
     "metadata": {},
     "output_type": "execute_result"
    }
   ],
   "source": [
    "df.shape"
   ]
  },
  {
   "cell_type": "code",
   "execution_count": 13,
   "id": "e8cfe17a",
   "metadata": {},
   "outputs": [],
   "source": [
    "df['投喂时间'] = pd.to_datetime(df[\"投喂时间\"])\n",
    "# df_2023 = df_2023.set_index('投喂时间')"
   ]
  },
  {
   "cell_type": "code",
   "execution_count": 19,
   "id": "5d0d9a76",
   "metadata": {},
   "outputs": [],
   "source": [
    "df_2023 = df[df[\"投喂时间\"].dt.year == 2023]\n",
    "df_2023.to_excel(\"df_2023.xlsx\")"
   ]
  },
  {
   "cell_type": "code",
   "execution_count": 20,
   "id": "8d269e87",
   "metadata": {},
   "outputs": [
    {
     "data": {
      "text/plain": [
       "(44701, 6)"
      ]
     },
     "execution_count": 20,
     "metadata": {},
     "output_type": "execute_result"
    }
   ],
   "source": [
    "df_2023.shape"
   ]
  },
  {
   "cell_type": "code",
   "execution_count": 21,
   "id": "34d3df8b",
   "metadata": {},
   "outputs": [
    {
     "data": {
      "text/html": [
       "<div>\n",
       "<style scoped>\n",
       "    .dataframe tbody tr th:only-of-type {\n",
       "        vertical-align: middle;\n",
       "    }\n",
       "\n",
       "    .dataframe tbody tr th {\n",
       "        vertical-align: top;\n",
       "    }\n",
       "\n",
       "    .dataframe thead th {\n",
       "        text-align: right;\n",
       "    }\n",
       "</style>\n",
       "<table border=\"1\" class=\"dataframe\">\n",
       "  <thead>\n",
       "    <tr style=\"text-align: right;\">\n",
       "      <th></th>\n",
       "      <th>投喂时间</th>\n",
       "      <th>池塘编号</th>\n",
       "      <th>品种名称</th>\n",
       "      <th>投喂方式</th>\n",
       "      <th>饲料仓库</th>\n",
       "      <th>投喂重量kg</th>\n",
       "    </tr>\n",
       "  </thead>\n",
       "  <tbody>\n",
       "    <tr>\n",
       "      <th>44696</th>\n",
       "      <td>2023-12-01</td>\n",
       "      <td>2318</td>\n",
       "      <td>散装料</td>\n",
       "      <td>自动投料机</td>\n",
       "      <td>2310</td>\n",
       "      <td>347.0</td>\n",
       "    </tr>\n",
       "    <tr>\n",
       "      <th>44697</th>\n",
       "      <td>2023-12-01</td>\n",
       "      <td>2319</td>\n",
       "      <td>散装料</td>\n",
       "      <td>自动投料机</td>\n",
       "      <td>2311</td>\n",
       "      <td>384.0</td>\n",
       "    </tr>\n",
       "    <tr>\n",
       "      <th>44698</th>\n",
       "      <td>2023-12-01</td>\n",
       "      <td>2320</td>\n",
       "      <td>散装料</td>\n",
       "      <td>自动投料机</td>\n",
       "      <td>2312</td>\n",
       "      <td>321.0</td>\n",
       "    </tr>\n",
       "    <tr>\n",
       "      <th>44699</th>\n",
       "      <td>2023-12-01</td>\n",
       "      <td>2323</td>\n",
       "      <td>散装料</td>\n",
       "      <td>自动投料机</td>\n",
       "      <td>2311</td>\n",
       "      <td>357.0</td>\n",
       "    </tr>\n",
       "    <tr>\n",
       "      <th>44700</th>\n",
       "      <td>2023-12-01</td>\n",
       "      <td>2324</td>\n",
       "      <td>散装料</td>\n",
       "      <td>自动投料机</td>\n",
       "      <td>2312</td>\n",
       "      <td>282.0</td>\n",
       "    </tr>\n",
       "  </tbody>\n",
       "</table>\n",
       "</div>"
      ],
      "text/plain": [
       "            投喂时间  池塘编号 品种名称   投喂方式  饲料仓库  投喂重量kg\n",
       "44696 2023-12-01  2318  散装料  自动投料机  2310   347.0\n",
       "44697 2023-12-01  2319  散装料  自动投料机  2311   384.0\n",
       "44698 2023-12-01  2320  散装料  自动投料机  2312   321.0\n",
       "44699 2023-12-01  2323  散装料  自动投料机  2311   357.0\n",
       "44700 2023-12-01  2324  散装料  自动投料机  2312   282.0"
      ]
     },
     "execution_count": 21,
     "metadata": {},
     "output_type": "execute_result"
    }
   ],
   "source": [
    "df_2023.tail()"
   ]
  },
  {
   "cell_type": "code",
   "execution_count": 18,
   "id": "4c44f18e",
   "metadata": {},
   "outputs": [
    {
     "data": {
      "text/plain": [
       "<Axes: xlabel='投喂时间'>"
      ]
     },
     "execution_count": 18,
     "metadata": {},
     "output_type": "execute_result"
    },
    {
     "data": {
      "image/png": "[encoded data removed]",
      "text/plain": [
       "<Figure size 640x480 with 1 Axes>"
      ]
     },
     "metadata": {},
     "output_type": "display_data"
    }
   ],
   "source": [
    "import matplotlib.pyplot as plt\n",
    "plt.rcParams['font.sans-serif']=['SimHei'] #用来正常显示中文标签\n",
    "df3 = df_2023.where(df_2023[\"池塘编号\"] == '1111').groupby(df_2023[\"投喂时间\"].dt.month)\n",
    "df3[\"投喂重量kg\"].sum().plot(kind=\"bar\")"
   ]
  },
  {
   "cell_type": "code",
   "execution_count": 6,
   "id": "ff8fc9b5",
   "metadata": {},
   "outputs": [
    {
     "data": {
      "text/html": [
       "<div>\n",
       "<style scoped>\n",
       "    .dataframe tbody tr th:only-of-type {\n",
       "        vertical-align: middle;\n",
       "    }\n",
       "\n",
       "    .dataframe tbody tr th {\n",
       "        vertical-align: top;\n",
       "    }\n",
       "\n",
       "    .dataframe thead th {\n",
       "        text-align: right;\n",
       "    }\n",
       "</style>\n",
       "<table border=\"1\" class=\"dataframe\">\n",
       "  <thead>\n",
       "    <tr style=\"text-align: right;\">\n",
       "      <th></th>\n",
       "      <th>投喂时间</th>\n",
       "      <th>池塘编号</th>\n",
       "      <th>品种名称</th>\n",
       "      <th>投喂方式</th>\n",
       "      <th>饲料仓库</th>\n",
       "      <th>投喂重量kg</th>\n",
       "    </tr>\n",
       "  </thead>\n",
       "  <tbody>\n",
       "    <tr>\n",
       "      <th>0</th>\n",
       "      <td>2023-01-31</td>\n",
       "      <td>1127</td>\n",
       "      <td>散装料</td>\n",
       "      <td>自动投料机</td>\n",
       "      <td>1127</td>\n",
       "      <td>201.0</td>\n",
       "    </tr>\n",
       "    <tr>\n",
       "      <th>1</th>\n",
       "      <td>2023-01-31</td>\n",
       "      <td>1128</td>\n",
       "      <td>散装料</td>\n",
       "      <td>自动投料机</td>\n",
       "      <td>1128</td>\n",
       "      <td>211.0</td>\n",
       "    </tr>\n",
       "    <tr>\n",
       "      <th>2</th>\n",
       "      <td>2023-01-31</td>\n",
       "      <td>1129</td>\n",
       "      <td>散装料</td>\n",
       "      <td>自动投料机</td>\n",
       "      <td>1129</td>\n",
       "      <td>102.0</td>\n",
       "    </tr>\n",
       "    <tr>\n",
       "      <th>3</th>\n",
       "      <td>2023-01-31</td>\n",
       "      <td>1130</td>\n",
       "      <td>散装料</td>\n",
       "      <td>自动投料机</td>\n",
       "      <td>1130</td>\n",
       "      <td>218.0</td>\n",
       "    </tr>\n",
       "    <tr>\n",
       "      <th>4</th>\n",
       "      <td>2023-01-31</td>\n",
       "      <td>1201</td>\n",
       "      <td>散装料</td>\n",
       "      <td>自动投料机</td>\n",
       "      <td>1201</td>\n",
       "      <td>153.0</td>\n",
       "    </tr>\n",
       "  </tbody>\n",
       "</table>\n",
       "</div>"
      ],
      "text/plain": [
       "        投喂时间  池塘编号 品种名称   投喂方式  饲料仓库  投喂重量kg\n",
       "0 2023-01-31  1127  散装料  自动投料机  1127   201.0\n",
       "1 2023-01-31  1128  散装料  自动投料机  1128   211.0\n",
       "2 2023-01-31  1129  散装料  自动投料机  1129   102.0\n",
       "3 2023-01-31  1130  散装料  自动投料机  1130   218.0\n",
       "4 2023-01-31  1201  散装料  自动投料机  1201   153.0"
      ]
     },
     "execution_count": 6,
     "metadata": {},
     "output_type": "execute_result"
    }
   ],
   "source": [
    "df_2023.head()"
   ]
  },
  {
   "cell_type": "code",
   "execution_count": 31,
   "id": "8623c480",
   "metadata": {},
   "outputs": [],
   "source": [
    "df_2023['Date'] = pd.to_datetime(df_2023[\"投喂时间\"])\n",
    "df_2023 = df_2023.set_index('Date')"
   ]
  },
  {
   "cell_type": "code",
   "execution_count": 32,
   "id": "24a9638f",
   "metadata": {},
   "outputs": [
    {
     "data": {
      "text/plain": [
       "(47597, 6)"
      ]
     },
     "execution_count": 32,
     "metadata": {},
     "output_type": "execute_result"
    }
   ],
   "source": [
    "df_2023.shape"
   ]
  },
  {
   "cell_type": "code",
   "execution_count": 34,
   "id": "38fda7ec",
   "metadata": {},
   "outputs": [],
   "source": [
    "df_2023.to_excel(\"df_2003.xlsx\")"
   ]
  },
  {
   "cell_type": "code",
   "execution_count": 37,
   "id": "0d1eaded",
   "metadata": {},
   "outputs": [
    {
     "data": {
      "text/html": [
       "<div>\n",
       "<style scoped>\n",
       "    .dataframe tbody tr th:only-of-type {\n",
       "        vertical-align: middle;\n",
       "    }\n",
       "\n",
       "    .dataframe tbody tr th {\n",
       "        vertical-align: top;\n",
       "    }\n",
       "\n",
       "    .dataframe thead th {\n",
       "        text-align: right;\n",
       "    }\n",
       "</style>\n",
       "<table border=\"1\" class=\"dataframe\">\n",
       "  <thead>\n",
       "    <tr style=\"text-align: right;\">\n",
       "      <th></th>\n",
       "      <th>投喂时间</th>\n",
       "      <th>池塘编号</th>\n",
       "      <th>品种名称</th>\n",
       "      <th>投喂方式</th>\n",
       "      <th>饲料仓库</th>\n",
       "      <th>投喂重量kg</th>\n",
       "    </tr>\n",
       "    <tr>\n",
       "      <th>Date</th>\n",
       "      <th></th>\n",
       "      <th></th>\n",
       "      <th></th>\n",
       "      <th></th>\n",
       "      <th></th>\n",
       "      <th></th>\n",
       "    </tr>\n",
       "  </thead>\n",
       "  <tbody>\n",
       "    <tr>\n",
       "      <th>NaT</th>\n",
       "      <td>NaT</td>\n",
       "      <td>NaN</td>\n",
       "      <td>NaN</td>\n",
       "      <td>NaN</td>\n",
       "      <td>NaN</td>\n",
       "      <td>NaN</td>\n",
       "    </tr>\n",
       "    <tr>\n",
       "      <th>NaT</th>\n",
       "      <td>NaT</td>\n",
       "      <td>NaN</td>\n",
       "      <td>NaN</td>\n",
       "      <td>NaN</td>\n",
       "      <td>NaN</td>\n",
       "      <td>NaN</td>\n",
       "    </tr>\n",
       "    <tr>\n",
       "      <th>NaT</th>\n",
       "      <td>NaT</td>\n",
       "      <td>NaN</td>\n",
       "      <td>NaN</td>\n",
       "      <td>NaN</td>\n",
       "      <td>NaN</td>\n",
       "      <td>NaN</td>\n",
       "    </tr>\n",
       "    <tr>\n",
       "      <th>NaT</th>\n",
       "      <td>NaT</td>\n",
       "      <td>NaN</td>\n",
       "      <td>NaN</td>\n",
       "      <td>NaN</td>\n",
       "      <td>NaN</td>\n",
       "      <td>NaN</td>\n",
       "    </tr>\n",
       "    <tr>\n",
       "      <th>NaT</th>\n",
       "      <td>NaT</td>\n",
       "      <td>NaN</td>\n",
       "      <td>NaN</td>\n",
       "      <td>NaN</td>\n",
       "      <td>NaN</td>\n",
       "      <td>NaN</td>\n",
       "    </tr>\n",
       "  </tbody>\n",
       "</table>\n",
       "</div>"
      ],
      "text/plain": [
       "     投喂时间 池塘编号 品种名称 投喂方式 饲料仓库  投喂重量kg\n",
       "Date                                 \n",
       "NaT   NaT  NaN  NaN  NaN  NaN     NaN\n",
       "NaT   NaT  NaN  NaN  NaN  NaN     NaN\n",
       "NaT   NaT  NaN  NaN  NaN  NaN     NaN\n",
       "NaT   NaT  NaN  NaN  NaN  NaN     NaN\n",
       "NaT   NaT  NaN  NaN  NaN  NaN     NaN"
      ]
     },
     "execution_count": 37,
     "metadata": {},
     "output_type": "execute_result"
    }
   ],
   "source": [
    "df_2023.shape\n",
    "df_2023.tail()"
   ]
  },
  {
   "cell_type": "code",
   "execution_count": 22,
   "id": "f8bbabc3",
   "metadata": {},
   "outputs": [
    {
     "ename": "IndexError",
     "evalue": "index 0 is out of bounds for axis 0 with size 0",
     "output_type": "error",
     "traceback": [
      "\u001b[1;31m---------------------------------------------------------------------------\u001b[0m",
      "\u001b[1;31mIndexError\u001b[0m                                Traceback (most recent call last)",
      "Cell \u001b[1;32mIn[22], line 2\u001b[0m\n\u001b[0;32m      1\u001b[0m df3 \u001b[39m=\u001b[39m df_2023\u001b[39m.\u001b[39mwhere(df_2023[\u001b[39m\"\u001b[39m\u001b[39m池塘编号\u001b[39m\u001b[39m\"\u001b[39m] \u001b[39m==\u001b[39m \u001b[39m'\u001b[39m\u001b[39m1111\u001b[39m\u001b[39m'\u001b[39m)\u001b[39m.\u001b[39mgroupby(df[\u001b[39m\"\u001b[39m\u001b[39m投喂时间\u001b[39m\u001b[39m\"\u001b[39m]\u001b[39m.\u001b[39mdt\u001b[39m.\u001b[39mmonth)\n\u001b[1;32m----> 2\u001b[0m df3[\u001b[39m\"\u001b[39;49m\u001b[39m投喂重量kg\u001b[39;49m\u001b[39m\"\u001b[39;49m]\u001b[39m.\u001b[39;49mmean()\u001b[39m.\u001b[39;49mplot(kind\u001b[39m=\u001b[39;49m\u001b[39m\"\u001b[39;49m\u001b[39mbar\u001b[39;49m\u001b[39m\"\u001b[39;49m)\n",
      "File \u001b[1;32md:\\ProgramData\\anaconda3\\envs\\ai\\Lib\\site-packages\\pandas\\plotting\\_core.py:1030\u001b[0m, in \u001b[0;36mPlotAccessor.__call__\u001b[1;34m(self, *args, **kwargs)\u001b[0m\n\u001b[0;32m   1027\u001b[0m             label_name \u001b[39m=\u001b[39m label_kw \u001b[39mor\u001b[39;00m data\u001b[39m.\u001b[39mcolumns\n\u001b[0;32m   1028\u001b[0m             data\u001b[39m.\u001b[39mcolumns \u001b[39m=\u001b[39m label_name\n\u001b[1;32m-> 1030\u001b[0m \u001b[39mreturn\u001b[39;00m plot_backend\u001b[39m.\u001b[39;49mplot(data, kind\u001b[39m=\u001b[39;49mkind, \u001b[39m*\u001b[39;49m\u001b[39m*\u001b[39;49mkwargs)\n",
      "File \u001b[1;32md:\\ProgramData\\anaconda3\\envs\\ai\\Lib\\site-packages\\pandas\\plotting\\_matplotlib\\__init__.py:71\u001b[0m, in \u001b[0;36mplot\u001b[1;34m(data, kind, **kwargs)\u001b[0m\n\u001b[0;32m     69\u001b[0m         kwargs[\u001b[39m\"\u001b[39m\u001b[39max\u001b[39m\u001b[39m\"\u001b[39m] \u001b[39m=\u001b[39m \u001b[39mgetattr\u001b[39m(ax, \u001b[39m\"\u001b[39m\u001b[39mleft_ax\u001b[39m\u001b[39m\"\u001b[39m, ax)\n\u001b[0;32m     70\u001b[0m plot_obj \u001b[39m=\u001b[39m PLOT_CLASSES[kind](data, \u001b[39m*\u001b[39m\u001b[39m*\u001b[39mkwargs)\n\u001b[1;32m---> 71\u001b[0m plot_obj\u001b[39m.\u001b[39;49mgenerate()\n\u001b[0;32m     72\u001b[0m plot_obj\u001b[39m.\u001b[39mdraw()\n\u001b[0;32m     73\u001b[0m \u001b[39mreturn\u001b[39;00m plot_obj\u001b[39m.\u001b[39mresult\n",
      "File \u001b[1;32md:\\ProgramData\\anaconda3\\envs\\ai\\Lib\\site-packages\\pandas\\plotting\\_matplotlib\\core.py:508\u001b[0m, in \u001b[0;36mMPLPlot.generate\u001b[1;34m(self)\u001b[0m\n\u001b[0;32m    506\u001b[0m \u001b[39mfor\u001b[39;00m ax \u001b[39min\u001b[39;00m \u001b[39mself\u001b[39m\u001b[39m.\u001b[39maxes:\n\u001b[0;32m    507\u001b[0m     \u001b[39mself\u001b[39m\u001b[39m.\u001b[39m_post_plot_logic_common(ax)\n\u001b[1;32m--> 508\u001b[0m     \u001b[39mself\u001b[39;49m\u001b[39m.\u001b[39;49m_post_plot_logic(ax, \u001b[39mself\u001b[39;49m\u001b[39m.\u001b[39;49mdata)\n",
      "File \u001b[1;32md:\\ProgramData\\anaconda3\\envs\\ai\\Lib\\site-packages\\pandas\\plotting\\_matplotlib\\core.py:1966\u001b[0m, in \u001b[0;36mBarPlot._post_plot_logic\u001b[1;34m(self, ax, data)\u001b[0m\n\u001b[0;32m   1963\u001b[0m \u001b[39melse\u001b[39;00m:\n\u001b[0;32m   1964\u001b[0m     str_index \u001b[39m=\u001b[39m [pprint_thing(key) \u001b[39mfor\u001b[39;00m key \u001b[39min\u001b[39;00m \u001b[39mrange\u001b[39m(data\u001b[39m.\u001b[39mshape[\u001b[39m0\u001b[39m])]\n\u001b[1;32m-> 1966\u001b[0m s_edge \u001b[39m=\u001b[39m \u001b[39mself\u001b[39;49m\u001b[39m.\u001b[39;49max_pos[\u001b[39m0\u001b[39;49m] \u001b[39m-\u001b[39m \u001b[39m0.25\u001b[39m \u001b[39m+\u001b[39m \u001b[39mself\u001b[39m\u001b[39m.\u001b[39mlim_offset\n\u001b[0;32m   1967\u001b[0m e_edge \u001b[39m=\u001b[39m \u001b[39mself\u001b[39m\u001b[39m.\u001b[39max_pos[\u001b[39m-\u001b[39m\u001b[39m1\u001b[39m] \u001b[39m+\u001b[39m \u001b[39m0.25\u001b[39m \u001b[39m+\u001b[39m \u001b[39mself\u001b[39m\u001b[39m.\u001b[39mbar_width \u001b[39m+\u001b[39m \u001b[39mself\u001b[39m\u001b[39m.\u001b[39mlim_offset\n\u001b[0;32m   1969\u001b[0m \u001b[39mself\u001b[39m\u001b[39m.\u001b[39m_decorate_ticks(ax, \u001b[39mself\u001b[39m\u001b[39m.\u001b[39m_get_index_name(), str_index, s_edge, e_edge)\n",
      "\u001b[1;31mIndexError\u001b[0m: index 0 is out of bounds for axis 0 with size 0"
     ]
    },
    {
     "name": "stderr",
     "output_type": "stream",
     "text": [
      "C:\\Users\\Administrator\\AppData\\Roaming\\Python\\Python311\\site-packages\\IPython\\core\\events.py:82: UserWarning: Glyph 8722 (\\N{MINUS SIGN}) missing from current font.\n",
      "  func(*args, **kwargs)\n",
      "C:\\Users\\Administrator\\AppData\\Roaming\\Python\\Python311\\site-packages\\IPython\\core\\pylabtools.py:152: UserWarning: Glyph 8722 (\\N{MINUS SIGN}) missing from current font.\n",
      "  fig.canvas.print_figure(bytes_io, **kw)\n"
     ]
    },
    {
     "data": {
      "image/png": "[encoded data removed]",
      "text/plain": [
       "<Figure size 640x480 with 1 Axes>"
      ]
     },
     "metadata": {},
     "output_type": "display_data"
    }
   ],
   "source": [
    "df3 = df_2023.where(df_2023[\"池塘编号\"] == '1111').groupby(df[\"投喂时间\"].dt.month)\n",
    "df3[\"投喂重量kg\"].mean().plot(kind=\"bar\")"
   ]
  },
  {
   "cell_type": "code",
   "execution_count": 80,
   "id": "49e46a6f",
   "metadata": {},
   "outputs": [],
   "source": [
    "df_week = df_2023.groupby(['池塘编号', df_2023['投喂时间'].dt.strftime('%W')])['投喂重量kg'].mean()\n",
    "#reset_index() 方法将索引变回普通列\n",
    "df_week = df_week.reset_index()\n",
    "# df_week.head()\n",
    "df_week.to_excel('week.xlsx',index=True)"
   ]
  },
  {
   "cell_type": "code",
   "execution_count": 83,
   "id": "23f0dd59",
   "metadata": {},
   "outputs": [
    {
     "data": {
      "text/plain": [
       "<Axes: xlabel='投喂时间'>"
      ]
     },
     "execution_count": 83,
     "metadata": {},
     "output_type": "execute_result"
    },
    {
     "data": {
      "image/png": "[encoded data removed]",
      "text/plain": [
       "<Figure size 640x480 with 1 Axes>"
      ]
     },
     "metadata": {},
     "output_type": "display_data"
    }
   ],
   "source": [
    "df_week.where(df_week[\"池塘编号\"] == '1111').plot(x='投喂时间', y='投喂重量kg')"
   ]
  },
  {
   "cell_type": "code",
   "execution_count": 75,
   "id": "24cd3baa",
   "metadata": {},
   "outputs": [
    {
     "data": {
      "text/plain": [
       "MultiIndex([('1111', '00'),\n",
       "            ('1111', '01'),\n",
       "            ('1111', '02'),\n",
       "            ('1111', '04'),\n",
       "            ('1111', '05'),\n",
       "            ('1111', '06'),\n",
       "            ('1111', '07'),\n",
       "            ('1111', '08'),\n",
       "            ('1111', '09'),\n",
       "            ('1111', '10'),\n",
       "            ...\n",
       "            ('2422', '10'),\n",
       "            ('2422', '11'),\n",
       "            ('2422', '12'),\n",
       "            ('2422', '13'),\n",
       "            ('2424', '43'),\n",
       "            ('2429', '10'),\n",
       "            ('2429', '11'),\n",
       "            ('2429', '12'),\n",
       "            ('2430', '12'),\n",
       "            ('2430', '13')],\n",
       "           names=['池塘编号', '投喂时间'], length=10735)"
      ]
     },
     "execution_count": 75,
     "metadata": {},
     "output_type": "execute_result"
    }
   ],
   "source": [
    "df_week.index"
   ]
  },
  {
   "cell_type": "code",
   "execution_count": 40,
   "id": "80384651",
   "metadata": {},
   "outputs": [
    {
     "data": {
      "text/plain": [
       "<Axes: xlabel='投喂时间'>"
      ]
     },
     "execution_count": 40,
     "metadata": {},
     "output_type": "execute_result"
    },
    {
     "data": {
      "image/png": "[encoded data removed]",
      "text/plain": [
       "<Figure size 640x480 with 1 Axes>"
      ]
     },
     "metadata": {},
     "output_type": "display_data"
    }
   ],
   "source": [
    "df4 = df_2023.where(df[\"池塘编号\"] == '1127').groupby(df[\"投喂时间\"].dt.month)\n",
    "df4[\"投喂重量kg\"].mean().plot(kind=\"bar\")"
   ]
  },
  {
   "cell_type": "code",
   "execution_count": 35,
   "id": "dda5732d",
   "metadata": {},
   "outputs": [
    {
     "data": {
      "text/plain": [
       "投喂时间      datetime64[ns]\n",
       "池塘编号              object\n",
       "品种名称              object\n",
       "投喂方式              object\n",
       "饲料仓库              object\n",
       "投喂重量kg           float64\n",
       "dtype: object"
      ]
     },
     "execution_count": 35,
     "metadata": {},
     "output_type": "execute_result"
    }
   ],
   "source": [
    "df_2023.dtypes"
   ]
  },
  {
   "cell_type": "code",
   "execution_count": 36,
   "id": "6b40f305",
   "metadata": {},
   "outputs": [
    {
     "data": {
      "text/plain": [
       "投喂时间      30\n",
       "池塘编号      30\n",
       "品种名称      30\n",
       "投喂方式      30\n",
       "饲料仓库      30\n",
       "投喂重量kg    30\n",
       "dtype: int64"
      ]
     },
     "execution_count": 36,
     "metadata": {},
     "output_type": "execute_result"
    }
   ],
   "source": [
    "df_2023.where((df_2023[\"池塘编号\"] == '1111') & (df_2023[\"投喂时间\"].dt.month == 11)).count()"
   ]
  },
  {
   "cell_type": "code",
   "execution_count": 38,
   "id": "d374a3a3",
   "metadata": {},
   "outputs": [
    {
     "data": {
      "text/plain": [
       "<Axes: xlabel='投喂时间'>"
      ]
     },
     "execution_count": 38,
     "metadata": {},
     "output_type": "execute_result"
    },
    {
     "data": {
      "image/png": "[encoded data removed]",
      "text/plain": [
       "<Figure size 640x480 with 1 Axes>"
      ]
     },
     "metadata": {},
     "output_type": "display_data"
    }
   ],
   "source": [
    "import matplotlib.pyplot as plt\n",
    "plt.rcParams['font.sans-serif']=['SimHei'] #用来正常显示中文标签\n",
    "df1 = df.where(df[\"池塘编号\"] == '1111').groupby(df[\"投喂时间\"].dt.month)\n",
    "df1[\"投喂重量kg\"].sum().plot(kind=\"bar\")"
   ]
  },
  {
   "cell_type": "code",
   "execution_count": 44,
   "id": "d00fb568",
   "metadata": {},
   "outputs": [
    {
     "data": {
      "text/html": [
       "<div>\n",
       "<style scoped>\n",
       "    .dataframe tbody tr th:only-of-type {\n",
       "        vertical-align: middle;\n",
       "    }\n",
       "\n",
       "    .dataframe tbody tr th {\n",
       "        vertical-align: top;\n",
       "    }\n",
       "\n",
       "    .dataframe thead th {\n",
       "        text-align: right;\n",
       "    }\n",
       "</style>\n",
       "<table border=\"1\" class=\"dataframe\">\n",
       "  <thead>\n",
       "    <tr style=\"text-align: right;\">\n",
       "      <th></th>\n",
       "      <th>投喂时间</th>\n",
       "      <th>池塘编号</th>\n",
       "      <th>品种名称</th>\n",
       "      <th>投喂方式</th>\n",
       "      <th>饲料仓库</th>\n",
       "      <th>投喂重量kg</th>\n",
       "    </tr>\n",
       "    <tr>\n",
       "      <th>投喂时间</th>\n",
       "      <th></th>\n",
       "      <th></th>\n",
       "      <th></th>\n",
       "      <th></th>\n",
       "      <th></th>\n",
       "      <th></th>\n",
       "    </tr>\n",
       "  </thead>\n",
       "  <tbody>\n",
       "    <tr>\n",
       "      <th>1</th>\n",
       "      <td>18</td>\n",
       "      <td>18</td>\n",
       "      <td>18</td>\n",
       "      <td>18</td>\n",
       "      <td>18</td>\n",
       "      <td>18</td>\n",
       "    </tr>\n",
       "    <tr>\n",
       "      <th>2</th>\n",
       "      <td>28</td>\n",
       "      <td>28</td>\n",
       "      <td>28</td>\n",
       "      <td>28</td>\n",
       "      <td>28</td>\n",
       "      <td>28</td>\n",
       "    </tr>\n",
       "    <tr>\n",
       "      <th>3</th>\n",
       "      <td>31</td>\n",
       "      <td>31</td>\n",
       "      <td>31</td>\n",
       "      <td>31</td>\n",
       "      <td>31</td>\n",
       "      <td>31</td>\n",
       "    </tr>\n",
       "    <tr>\n",
       "      <th>4</th>\n",
       "      <td>30</td>\n",
       "      <td>30</td>\n",
       "      <td>30</td>\n",
       "      <td>30</td>\n",
       "      <td>30</td>\n",
       "      <td>30</td>\n",
       "    </tr>\n",
       "    <tr>\n",
       "      <th>5</th>\n",
       "      <td>31</td>\n",
       "      <td>31</td>\n",
       "      <td>31</td>\n",
       "      <td>31</td>\n",
       "      <td>31</td>\n",
       "      <td>31</td>\n",
       "    </tr>\n",
       "    <tr>\n",
       "      <th>6</th>\n",
       "      <td>31</td>\n",
       "      <td>31</td>\n",
       "      <td>31</td>\n",
       "      <td>31</td>\n",
       "      <td>31</td>\n",
       "      <td>31</td>\n",
       "    </tr>\n",
       "    <tr>\n",
       "      <th>7</th>\n",
       "      <td>31</td>\n",
       "      <td>31</td>\n",
       "      <td>31</td>\n",
       "      <td>31</td>\n",
       "      <td>31</td>\n",
       "      <td>31</td>\n",
       "    </tr>\n",
       "    <tr>\n",
       "      <th>8</th>\n",
       "      <td>32</td>\n",
       "      <td>32</td>\n",
       "      <td>32</td>\n",
       "      <td>32</td>\n",
       "      <td>32</td>\n",
       "      <td>32</td>\n",
       "    </tr>\n",
       "    <tr>\n",
       "      <th>9</th>\n",
       "      <td>30</td>\n",
       "      <td>30</td>\n",
       "      <td>30</td>\n",
       "      <td>30</td>\n",
       "      <td>30</td>\n",
       "      <td>30</td>\n",
       "    </tr>\n",
       "    <tr>\n",
       "      <th>10</th>\n",
       "      <td>31</td>\n",
       "      <td>31</td>\n",
       "      <td>31</td>\n",
       "      <td>31</td>\n",
       "      <td>31</td>\n",
       "      <td>31</td>\n",
       "    </tr>\n",
       "    <tr>\n",
       "      <th>11</th>\n",
       "      <td>30</td>\n",
       "      <td>30</td>\n",
       "      <td>30</td>\n",
       "      <td>30</td>\n",
       "      <td>30</td>\n",
       "      <td>30</td>\n",
       "    </tr>\n",
       "    <tr>\n",
       "      <th>12</th>\n",
       "      <td>0</td>\n",
       "      <td>0</td>\n",
       "      <td>0</td>\n",
       "      <td>0</td>\n",
       "      <td>0</td>\n",
       "      <td>0</td>\n",
       "    </tr>\n",
       "  </tbody>\n",
       "</table>\n",
       "</div>"
      ],
      "text/plain": [
       "      投喂时间  池塘编号  品种名称  投喂方式  饲料仓库  投喂重量kg\n",
       "投喂时间                                      \n",
       "1       18    18    18    18    18      18\n",
       "2       28    28    28    28    28      28\n",
       "3       31    31    31    31    31      31\n",
       "4       30    30    30    30    30      30\n",
       "5       31    31    31    31    31      31\n",
       "6       31    31    31    31    31      31\n",
       "7       31    31    31    31    31      31\n",
       "8       32    32    32    32    32      32\n",
       "9       30    30    30    30    30      30\n",
       "10      31    31    31    31    31      31\n",
       "11      30    30    30    30    30      30\n",
       "12       0     0     0     0     0       0"
      ]
     },
     "execution_count": 44,
     "metadata": {},
     "output_type": "execute_result"
    }
   ],
   "source": [
    "df.where(df[\"池塘编号\"] == '1111').groupby(df[\"投喂时间\"].dt.month).count()"
   ]
  },
  {
   "cell_type": "code",
   "execution_count": 50,
   "id": "fa44b69b",
   "metadata": {},
   "outputs": [
    {
     "data": {
      "text/plain": [
       "dtype('O')"
      ]
     },
     "execution_count": 50,
     "metadata": {},
     "output_type": "execute_result"
    }
   ],
   "source": []
  },
  {
   "cell_type": "code",
   "execution_count": 69,
   "id": "a7c74fed",
   "metadata": {},
   "outputs": [],
   "source": [
    "pond_df = pd.read_excel(\"Pondstock.xlsx\")\n",
    "pond_df = pond_df[['池塘编号','品种名称','数量（斤）','均规格（斤/尾）','数量（尾）','结算年月']]\n",
    "pond_df=pond_df[pond_df['数量（斤）'] != \"0.\"]\n",
    "# pond_df\n",
    "\n",
    "pond_df.to_excel('fishstock.xlsx',index=False)"
   ]
  },
  {
   "cell_type": "code",
   "execution_count": 64,
   "id": "303c4893",
   "metadata": {},
   "outputs": [
    {
     "data": {
      "text/plain": [
       "池塘编号        307\n",
       "品种名称        307\n",
       "数量（斤）       307\n",
       "均规格（斤/尾）      0\n",
       "数量（尾）       307\n",
       "结算年月        307\n",
       "dtype: int64"
      ]
     },
     "execution_count": 64,
     "metadata": {},
     "output_type": "execute_result"
    }
   ],
   "source": [
    "pond_df[pond_df['数量（斤）'] == \"0\"].count()"
   ]
  },
  {
   "cell_type": "code",
   "execution_count": 19,
   "id": "08296017-3e81-4d71-856b-4e072ed0937c",
   "metadata": {},
   "outputs": [
    {
     "data": {
      "text/html": [
       "<div>\n",
       "<style scoped>\n",
       "    .dataframe tbody tr th:only-of-type {\n",
       "        vertical-align: middle;\n",
       "    }\n",
       "\n",
       "    .dataframe tbody tr th {\n",
       "        vertical-align: top;\n",
       "    }\n",
       "\n",
       "    .dataframe thead th {\n",
       "        text-align: right;\n",
       "    }\n",
       "</style>\n",
       "<table border=\"1\" class=\"dataframe\">\n",
       "  <thead>\n",
       "    <tr style=\"text-align: right;\">\n",
       "      <th></th>\n",
       "      <th>投喂重量kg</th>\n",
       "    </tr>\n",
       "  </thead>\n",
       "  <tbody>\n",
       "    <tr>\n",
       "      <th>count</th>\n",
       "      <td>323.000000</td>\n",
       "    </tr>\n",
       "    <tr>\n",
       "      <th>mean</th>\n",
       "      <td>202.024768</td>\n",
       "    </tr>\n",
       "    <tr>\n",
       "      <th>std</th>\n",
       "      <td>153.826128</td>\n",
       "    </tr>\n",
       "    <tr>\n",
       "      <th>min</th>\n",
       "      <td>0.000000</td>\n",
       "    </tr>\n",
       "    <tr>\n",
       "      <th>25%</th>\n",
       "      <td>71.500000</td>\n",
       "    </tr>\n",
       "    <tr>\n",
       "      <th>50%</th>\n",
       "      <td>196.000000</td>\n",
       "    </tr>\n",
       "    <tr>\n",
       "      <th>75%</th>\n",
       "      <td>318.000000</td>\n",
       "    </tr>\n",
       "    <tr>\n",
       "      <th>max</th>\n",
       "      <td>570.000000</td>\n",
       "    </tr>\n",
       "  </tbody>\n",
       "</table>\n",
       "</div>"
      ],
      "text/plain": [
       "           投喂重量kg\n",
       "count  323.000000\n",
       "mean   202.024768\n",
       "std    153.826128\n",
       "min      0.000000\n",
       "25%     71.500000\n",
       "50%    196.000000\n",
       "75%    318.000000\n",
       "max    570.000000"
      ]
     },
     "execution_count": 19,
     "metadata": {},
     "output_type": "execute_result"
    }
   ],
   "source": [
    "# df[df['池塘编号'] == '1111'].count()\n",
    "import pandas as pd\n",
    "import matplotlib.pyplot as plt\n",
    "\n",
    "# Create a sample DataFrame\n",
    "# data = {\n",
    "#     'A': [1, 2, 3, 4, 5],\n",
    "#     'B': [5, 4, 3, 2, 1]\n",
    "# }\n",
    "# df = pd.DataFrame(data)\n",
    "\n",
    "# Filter rows based on a condition\n",
    "filtered_df = df[df['池塘编号'] == '1111']\n",
    "filtered_df.describe()\n",
    "# filtered_df.plot()\n",
    "# Plot the filtered data\n",
    "# plt.plot(filtered_df['投喂时间'], filtered_df['投喂重量kg'])\n",
    "# plt.xlabel('投喂时间')\n",
    "# plt.ylabel('投喂重量kg')\n",
    "# plt.title('Filtered Data Plot')\n",
    "# plt.show()"
   ]
  },
  {
   "cell_type": "code",
   "execution_count": 22,
   "id": "7decb868",
   "metadata": {},
   "outputs": [
    {
     "data": {
      "text/html": [
       "<div>\n",
       "<style scoped>\n",
       "    .dataframe tbody tr th:only-of-type {\n",
       "        vertical-align: middle;\n",
       "    }\n",
       "\n",
       "    .dataframe tbody tr th {\n",
       "        vertical-align: top;\n",
       "    }\n",
       "\n",
       "    .dataframe thead th {\n",
       "        text-align: right;\n",
       "    }\n",
       "</style>\n",
       "<table border=\"1\" class=\"dataframe\">\n",
       "  <thead>\n",
       "    <tr style=\"text-align: right;\">\n",
       "      <th></th>\n",
       "      <th>饲料仓库</th>\n",
       "      <th>池塘编号</th>\n",
       "      <th>投喂重量kg</th>\n",
       "      <th>投喂方式</th>\n",
       "      <th>品种名称</th>\n",
       "    </tr>\n",
       "    <tr>\n",
       "      <th>投喂时间</th>\n",
       "      <th></th>\n",
       "      <th></th>\n",
       "      <th></th>\n",
       "      <th></th>\n",
       "      <th></th>\n",
       "    </tr>\n",
       "  </thead>\n",
       "  <tbody>\n",
       "    <tr>\n",
       "      <th>2023-01-31 00:00:00</th>\n",
       "      <td>1111</td>\n",
       "      <td>1111</td>\n",
       "      <td>200.0</td>\n",
       "      <td>自动投料机</td>\n",
       "      <td>散装料</td>\n",
       "    </tr>\n",
       "    <tr>\n",
       "      <th>2023-01-30 00:00:00</th>\n",
       "      <td>1111</td>\n",
       "      <td>1111</td>\n",
       "      <td>0.0</td>\n",
       "      <td>自动投料机</td>\n",
       "      <td>散装料</td>\n",
       "    </tr>\n",
       "    <tr>\n",
       "      <th>2023-01-29 00:00:00</th>\n",
       "      <td>1111</td>\n",
       "      <td>1111</td>\n",
       "      <td>0.0</td>\n",
       "      <td>自动投料机</td>\n",
       "      <td>散装料</td>\n",
       "    </tr>\n",
       "    <tr>\n",
       "      <th>2023-01-15 00:00:00</th>\n",
       "      <td>1111</td>\n",
       "      <td>1111</td>\n",
       "      <td>146.0</td>\n",
       "      <td>自动投料机</td>\n",
       "      <td>散装料</td>\n",
       "    </tr>\n",
       "    <tr>\n",
       "      <th>2023-01-14 00:00:00</th>\n",
       "      <td>1111</td>\n",
       "      <td>1111</td>\n",
       "      <td>200.0</td>\n",
       "      <td>自动投料机</td>\n",
       "      <td>散装料</td>\n",
       "    </tr>\n",
       "    <tr>\n",
       "      <th>2023-01-13 00:00:00</th>\n",
       "      <td>1111</td>\n",
       "      <td>1111</td>\n",
       "      <td>200.0</td>\n",
       "      <td>自动投料机</td>\n",
       "      <td>散装料</td>\n",
       "    </tr>\n",
       "    <tr>\n",
       "      <th>2023-01-12 00:00:00</th>\n",
       "      <td>1111</td>\n",
       "      <td>1111</td>\n",
       "      <td>200.0</td>\n",
       "      <td>自动投料机</td>\n",
       "      <td>散装料</td>\n",
       "    </tr>\n",
       "    <tr>\n",
       "      <th>2023-01-11 00:00:00</th>\n",
       "      <td>1111</td>\n",
       "      <td>1111</td>\n",
       "      <td>83.0</td>\n",
       "      <td>自动投料机</td>\n",
       "      <td>散装料</td>\n",
       "    </tr>\n",
       "    <tr>\n",
       "      <th>2023-01-10 00:00:00</th>\n",
       "      <td>1111</td>\n",
       "      <td>1111</td>\n",
       "      <td>0.0</td>\n",
       "      <td>自动投料机</td>\n",
       "      <td>散装料</td>\n",
       "    </tr>\n",
       "    <tr>\n",
       "      <th>2023-01-09 00:00:00</th>\n",
       "      <td>1111</td>\n",
       "      <td>1111</td>\n",
       "      <td>201.0</td>\n",
       "      <td>自动投料机</td>\n",
       "      <td>散装料</td>\n",
       "    </tr>\n",
       "  </tbody>\n",
       "</table>\n",
       "</div>"
      ],
      "text/plain": [
       "                     饲料仓库  池塘编号  投喂重量kg   投喂方式 品种名称\n",
       "投喂时间                                               \n",
       "2023-01-31 00:00:00  1111  1111   200.0  自动投料机  散装料\n",
       "2023-01-30 00:00:00  1111  1111     0.0  自动投料机  散装料\n",
       "2023-01-29 00:00:00  1111  1111     0.0  自动投料机  散装料\n",
       "2023-01-15 00:00:00  1111  1111   146.0  自动投料机  散装料\n",
       "2023-01-14 00:00:00  1111  1111   200.0  自动投料机  散装料\n",
       "2023-01-13 00:00:00  1111  1111   200.0  自动投料机  散装料\n",
       "2023-01-12 00:00:00  1111  1111   200.0  自动投料机  散装料\n",
       "2023-01-11 00:00:00  1111  1111    83.0  自动投料机  散装料\n",
       "2023-01-10 00:00:00  1111  1111     0.0  自动投料机  散装料\n",
       "2023-01-09 00:00:00  1111  1111   201.0  自动投料机  散装料"
      ]
     },
     "execution_count": 22,
     "metadata": {},
     "output_type": "execute_result"
    }
   ],
   "source": [
    "filtered_df.sort_index(axis=1, ascending=False).head(10)"
   ]
  },
  {
   "cell_type": "code",
   "execution_count": null,
   "id": "08296017-3e81-4d71-856b-4e072ed0937c",
   "metadata": {},
   "outputs": [
    {
     "data": {
      "text/html": [
       "<div>\n",
       "<style scoped>\n",
       "    .dataframe tbody tr th:only-of-type {\n",
       "        vertical-align: middle;\n",
       "    }\n",
       "\n",
       "    .dataframe tbody tr th {\n",
       "        vertical-align: top;\n",
       "    }\n",
       "\n",
       "    .dataframe thead th {\n",
       "        text-align: right;\n",
       "    }\n",
       "</style>\n",
       "<table border=\"1\" class=\"dataframe\">\n",
       "  <thead>\n",
       "    <tr style=\"text-align: right;\">\n",
       "      <th></th>\n",
       "      <th>投喂重量kg</th>\n",
       "    </tr>\n",
       "  </thead>\n",
       "  <tbody>\n",
       "    <tr>\n",
       "      <th>count</th>\n",
       "      <td>323.000000</td>\n",
       "    </tr>\n",
       "    <tr>\n",
       "      <th>mean</th>\n",
       "      <td>202.024768</td>\n",
       "    </tr>\n",
       "    <tr>\n",
       "      <th>std</th>\n",
       "      <td>153.826128</td>\n",
       "    </tr>\n",
       "    <tr>\n",
       "      <th>min</th>\n",
       "      <td>0.000000</td>\n",
       "    </tr>\n",
       "    <tr>\n",
       "      <th>25%</th>\n",
       "      <td>71.500000</td>\n",
       "    </tr>\n",
       "    <tr>\n",
       "      <th>50%</th>\n",
       "      <td>196.000000</td>\n",
       "    </tr>\n",
       "    <tr>\n",
       "      <th>75%</th>\n",
       "      <td>318.000000</td>\n",
       "    </tr>\n",
       "    <tr>\n",
       "      <th>max</th>\n",
       "      <td>570.000000</td>\n",
       "    </tr>\n",
       "  </tbody>\n",
       "</table>\n",
       "</div>"
      ],
      "text/plain": [
       "           投喂重量kg\n",
       "count  323.000000\n",
       "mean   202.024768\n",
       "std    153.826128\n",
       "min      0.000000\n",
       "25%     71.500000\n",
       "50%    196.000000\n",
       "75%    318.000000\n",
       "max    570.000000"
      ]
     },
     "metadata": {},
     "output_type": "display_data"
    }
   ],
   "source": [
    "# df[df['池塘编号'] == '1111'].count()\n",
    "import pandas as pd\n",
    "import matplotlib.pyplot as plt\n",
    "\n",
    "# Create a sample DataFrame\n",
    "# data = {\n",
    "#     'A': [1, 2, 3, 4, 5],\n",
    "#     'B': [5, 4, 3, 2, 1]\n",
    "# }\n",
    "# df = pd.DataFrame(data)\n",
    "\n",
    "# Filter rows based on a condition\n",
    "filtered_df = df[df['池塘编号'] == '1111']\n",
    "filtered_df.describe()\n",
    "# filtered_df.plot()\n",
    "# Plot the filtered data\n",
    "# plt.plot(filtered_df['投喂时间'], filtered_df['投喂重量kg'])\n",
    "# plt.xlabel('投喂时间')\n",
    "# plt.ylabel('投喂重量kg')\n",
    "# plt.title('Filtered Data Plot')\n",
    "# plt.show()"
   ]
  },
  {
   "cell_type": "code",
   "execution_count": 29,
   "id": "08296017-3e81-4d71-856b-4e072ed0937c",
   "metadata": {},
   "outputs": [
    {
     "ename": "AttributeError",
     "evalue": "'Index' object has no attribute 'dt'",
     "output_type": "error",
     "traceback": [
      "\u001b[1;31m---------------------------------------------------------------------------\u001b[0m",
      "\u001b[1;31mAttributeError\u001b[0m                            Traceback (most recent call last)",
      "Cell \u001b[1;32mIn[29], line 1\u001b[0m\n\u001b[1;32m----> 1\u001b[0m filtered_df\u001b[39m.\u001b[39;49mindex\u001b[39m.\u001b[39;49mdt\u001b[39m.\u001b[39mmonth\n\u001b[0;32m      2\u001b[0m \u001b[39m# filtered_df.groupby(filtered_df['投喂时间'].dt.month).head()\u001b[39;00m\n\u001b[0;32m      3\u001b[0m \u001b[39m# filtered_df.describe()\u001b[39;00m\n",
      "\u001b[1;31mAttributeError\u001b[0m: 'Index' object has no attribute 'dt'"
     ]
    }
   ],
   "source": [
    "filtered_df\n",
    "# filtered_df.groupby(filtered_df['投喂时间'].dt.month).head()\n",
    "# filtered_df.describe()\n"
   ]
  },
  {
   "cell_type": "code",
   "execution_count": null,
   "id": "08296017-3e81-4d71-856b-4e072ed0937c",
   "metadata": {},
   "outputs": [
    {
     "data": {
      "text/html": [
       "<div>\n",
       "<style scoped>\n",
       "    .dataframe tbody tr th:only-of-type {\n",
       "        vertical-align: middle;\n",
       "    }\n",
       "\n",
       "    .dataframe tbody tr th {\n",
       "        vertical-align: top;\n",
       "    }\n",
       "\n",
       "    .dataframe thead th {\n",
       "        text-align: right;\n",
       "    }\n",
       "</style>\n",
       "<table border=\"1\" class=\"dataframe\">\n",
       "  <thead>\n",
       "    <tr style=\"text-align: right;\">\n",
       "      <th></th>\n",
       "      <th>投喂重量kg</th>\n",
       "    </tr>\n",
       "  </thead>\n",
       "  <tbody>\n",
       "    <tr>\n",
       "      <th>count</th>\n",
       "      <td>323.000000</td>\n",
       "    </tr>\n",
       "    <tr>\n",
       "      <th>mean</th>\n",
       "      <td>202.024768</td>\n",
       "    </tr>\n",
       "    <tr>\n",
       "      <th>std</th>\n",
       "      <td>153.826128</td>\n",
       "    </tr>\n",
       "    <tr>\n",
       "      <th>min</th>\n",
       "      <td>0.000000</td>\n",
       "    </tr>\n",
       "    <tr>\n",
       "      <th>25%</th>\n",
       "      <td>71.500000</td>\n",
       "    </tr>\n",
       "    <tr>\n",
       "      <th>50%</th>\n",
       "      <td>196.000000</td>\n",
       "    </tr>\n",
       "    <tr>\n",
       "      <th>75%</th>\n",
       "      <td>318.000000</td>\n",
       "    </tr>\n",
       "    <tr>\n",
       "      <th>max</th>\n",
       "      <td>570.000000</td>\n",
       "    </tr>\n",
       "  </tbody>\n",
       "</table>\n",
       "</div>"
      ],
      "text/plain": [
       "           投喂重量kg\n",
       "count  323.000000\n",
       "mean   202.024768\n",
       "std    153.826128\n",
       "min      0.000000\n",
       "25%     71.500000\n",
       "50%    196.000000\n",
       "75%    318.000000\n",
       "max    570.000000"
      ]
     },
     "metadata": {},
     "output_type": "display_data"
    }
   ],
   "source": [
    "# df[df['池塘编号'] == '1111'].count()\n",
    "import pandas as pd\n",
    "import matplotlib.pyplot as plt\n",
    "\n",
    "# Create a sample DataFrame\n",
    "# data = {\n",
    "#     'A': [1, 2, 3, 4, 5],\n",
    "#     'B': [5, 4, 3, 2, 1]\n",
    "# }\n",
    "# df = pd.DataFrame(data)\n",
    "\n",
    "# Filter rows based on a condition\n",
    "filtered_df = df[df['池塘编号'] == '1111']\n",
    "filtered_df.describe()\n",
    "# filtered_df.plot()\n",
    "# Plot the filtered data\n",
    "# plt.plot(filtered_df['投喂时间'], filtered_df['投喂重量kg'])\n",
    "# plt.xlabel('投喂时间')\n",
    "# plt.ylabel('投喂重量kg')\n",
    "# plt.title('Filtered Data Plot')\n",
    "# plt.show()"
   ]
  },
  {
   "cell_type": "code",
   "execution_count": null,
   "id": "08296017-3e81-4d71-856b-4e072ed0937c",
   "metadata": {},
   "outputs": [
    {
     "data": {
      "text/html": [
       "<div>\n",
       "<style scoped>\n",
       "    .dataframe tbody tr th:only-of-type {\n",
       "        vertical-align: middle;\n",
       "    }\n",
       "\n",
       "    .dataframe tbody tr th {\n",
       "        vertical-align: top;\n",
       "    }\n",
       "\n",
       "    .dataframe thead th {\n",
       "        text-align: right;\n",
       "    }\n",
       "</style>\n",
       "<table border=\"1\" class=\"dataframe\">\n",
       "  <thead>\n",
       "    <tr style=\"text-align: right;\">\n",
       "      <th></th>\n",
       "      <th>投喂重量kg</th>\n",
       "    </tr>\n",
       "  </thead>\n",
       "  <tbody>\n",
       "    <tr>\n",
       "      <th>count</th>\n",
       "      <td>323.000000</td>\n",
       "    </tr>\n",
       "    <tr>\n",
       "      <th>mean</th>\n",
       "      <td>202.024768</td>\n",
       "    </tr>\n",
       "    <tr>\n",
       "      <th>std</th>\n",
       "      <td>153.826128</td>\n",
       "    </tr>\n",
       "    <tr>\n",
       "      <th>min</th>\n",
       "      <td>0.000000</td>\n",
       "    </tr>\n",
       "    <tr>\n",
       "      <th>25%</th>\n",
       "      <td>71.500000</td>\n",
       "    </tr>\n",
       "    <tr>\n",
       "      <th>50%</th>\n",
       "      <td>196.000000</td>\n",
       "    </tr>\n",
       "    <tr>\n",
       "      <th>75%</th>\n",
       "      <td>318.000000</td>\n",
       "    </tr>\n",
       "    <tr>\n",
       "      <th>max</th>\n",
       "      <td>570.000000</td>\n",
       "    </tr>\n",
       "  </tbody>\n",
       "</table>\n",
       "</div>"
      ],
      "text/plain": [
       "           投喂重量kg\n",
       "count  323.000000\n",
       "mean   202.024768\n",
       "std    153.826128\n",
       "min      0.000000\n",
       "25%     71.500000\n",
       "50%    196.000000\n",
       "75%    318.000000\n",
       "max    570.000000"
      ]
     },
     "metadata": {},
     "output_type": "display_data"
    }
   ],
   "source": [
    "# df[df['池塘编号'] == '1111'].count()\n",
    "import pandas as pd\n",
    "import matplotlib.pyplot as plt\n",
    "\n",
    "# Create a sample DataFrame\n",
    "# data = {\n",
    "#     'A': [1, 2, 3, 4, 5],\n",
    "#     'B': [5, 4, 3, 2, 1]\n",
    "# }\n",
    "# df = pd.DataFrame(data)\n",
    "\n",
    "# Filter rows based on a condition\n",
    "filtered_df = df[df['池塘编号'] == '1111']\n",
    "filtered_df.describe()\n",
    "# filtered_df.plot()\n",
    "# Plot the filtered data\n",
    "# plt.plot(filtered_df['投喂时间'], filtered_df['投喂重量kg'])\n",
    "# plt.xlabel('投喂时间')\n",
    "# plt.ylabel('投喂重量kg')\n",
    "# plt.title('Filtered Data Plot')\n",
    "# plt.show()"
   ]
  },
  {
   "cell_type": "code",
   "execution_count": null,
   "id": "08296017-3e81-4d71-856b-4e072ed0937c",
   "metadata": {},
   "outputs": [
    {
     "data": {
      "text/html": [
       "<div>\n",
       "<style scoped>\n",
       "    .dataframe tbody tr th:only-of-type {\n",
       "        vertical-align: middle;\n",
       "    }\n",
       "\n",
       "    .dataframe tbody tr th {\n",
       "        vertical-align: top;\n",
       "    }\n",
       "\n",
       "    .dataframe thead th {\n",
       "        text-align: right;\n",
       "    }\n",
       "</style>\n",
       "<table border=\"1\" class=\"dataframe\">\n",
       "  <thead>\n",
       "    <tr style=\"text-align: right;\">\n",
       "      <th></th>\n",
       "      <th>投喂重量kg</th>\n",
       "    </tr>\n",
       "  </thead>\n",
       "  <tbody>\n",
       "    <tr>\n",
       "      <th>count</th>\n",
       "      <td>323.000000</td>\n",
       "    </tr>\n",
       "    <tr>\n",
       "      <th>mean</th>\n",
       "      <td>202.024768</td>\n",
       "    </tr>\n",
       "    <tr>\n",
       "      <th>std</th>\n",
       "      <td>153.826128</td>\n",
       "    </tr>\n",
       "    <tr>\n",
       "      <th>min</th>\n",
       "      <td>0.000000</td>\n",
       "    </tr>\n",
       "    <tr>\n",
       "      <th>25%</th>\n",
       "      <td>71.500000</td>\n",
       "    </tr>\n",
       "    <tr>\n",
       "      <th>50%</th>\n",
       "      <td>196.000000</td>\n",
       "    </tr>\n",
       "    <tr>\n",
       "      <th>75%</th>\n",
       "      <td>318.000000</td>\n",
       "    </tr>\n",
       "    <tr>\n",
       "      <th>max</th>\n",
       "      <td>570.000000</td>\n",
       "    </tr>\n",
       "  </tbody>\n",
       "</table>\n",
       "</div>"
      ],
      "text/plain": [
       "           投喂重量kg\n",
       "count  323.000000\n",
       "mean   202.024768\n",
       "std    153.826128\n",
       "min      0.000000\n",
       "25%     71.500000\n",
       "50%    196.000000\n",
       "75%    318.000000\n",
       "max    570.000000"
      ]
     },
     "metadata": {},
     "output_type": "display_data"
    }
   ],
   "source": [
    "# df[df['池塘编号'] == '1111'].count()\n",
    "import pandas as pd\n",
    "import matplotlib.pyplot as plt\n",
    "\n",
    "# Create a sample DataFrame\n",
    "# data = {\n",
    "#     'A': [1, 2, 3, 4, 5],\n",
    "#     'B': [5, 4, 3, 2, 1]\n",
    "# }\n",
    "# df = pd.DataFrame(data)\n",
    "\n",
    "# Filter rows based on a condition\n",
    "filtered_df = df[df['池塘编号'] == '1111']\n",
    "filtered_df.describe()\n",
    "# filtered_df.plot()\n",
    "# Plot the filtered data\n",
    "# plt.plot(filtered_df['投喂时间'], filtered_df['投喂重量kg'])\n",
    "# plt.xlabel('投喂时间')\n",
    "# plt.ylabel('投喂重量kg')\n",
    "# plt.title('Filtered Data Plot')\n",
    "# plt.show()"
   ]
  },
  {
   "cell_type": "code",
   "execution_count": null,
   "id": "08296017-3e81-4d71-856b-4e072ed0937c",
   "metadata": {},
   "outputs": [
    {
     "data": {
      "text/html": [
       "<div>\n",
       "<style scoped>\n",
       "    .dataframe tbody tr th:only-of-type {\n",
       "        vertical-align: middle;\n",
       "    }\n",
       "\n",
       "    .dataframe tbody tr th {\n",
       "        vertical-align: top;\n",
       "    }\n",
       "\n",
       "    .dataframe thead th {\n",
       "        text-align: right;\n",
       "    }\n",
       "</style>\n",
       "<table border=\"1\" class=\"dataframe\">\n",
       "  <thead>\n",
       "    <tr style=\"text-align: right;\">\n",
       "      <th></th>\n",
       "      <th>投喂重量kg</th>\n",
       "    </tr>\n",
       "  </thead>\n",
       "  <tbody>\n",
       "    <tr>\n",
       "      <th>count</th>\n",
       "      <td>323.000000</td>\n",
       "    </tr>\n",
       "    <tr>\n",
       "      <th>mean</th>\n",
       "      <td>202.024768</td>\n",
       "    </tr>\n",
       "    <tr>\n",
       "      <th>std</th>\n",
       "      <td>153.826128</td>\n",
       "    </tr>\n",
       "    <tr>\n",
       "      <th>min</th>\n",
       "      <td>0.000000</td>\n",
       "    </tr>\n",
       "    <tr>\n",
       "      <th>25%</th>\n",
       "      <td>71.500000</td>\n",
       "    </tr>\n",
       "    <tr>\n",
       "      <th>50%</th>\n",
       "      <td>196.000000</td>\n",
       "    </tr>\n",
       "    <tr>\n",
       "      <th>75%</th>\n",
       "      <td>318.000000</td>\n",
       "    </tr>\n",
       "    <tr>\n",
       "      <th>max</th>\n",
       "      <td>570.000000</td>\n",
       "    </tr>\n",
       "  </tbody>\n",
       "</table>\n",
       "</div>"
      ],
      "text/plain": [
       "           投喂重量kg\n",
       "count  323.000000\n",
       "mean   202.024768\n",
       "std    153.826128\n",
       "min      0.000000\n",
       "25%     71.500000\n",
       "50%    196.000000\n",
       "75%    318.000000\n",
       "max    570.000000"
      ]
     },
     "metadata": {},
     "output_type": "display_data"
    }
   ],
   "source": [
    "# df[df['池塘编号'] == '1111'].count()\n",
    "import pandas as pd\n",
    "import matplotlib.pyplot as plt\n",
    "\n",
    "# Create a sample DataFrame\n",
    "# data = {\n",
    "#     'A': [1, 2, 3, 4, 5],\n",
    "#     'B': [5, 4, 3, 2, 1]\n",
    "# }\n",
    "# df = pd.DataFrame(data)\n",
    "\n",
    "# Filter rows based on a condition\n",
    "filtered_df = df[df['池塘编号'] == '1111']\n",
    "filtered_df.describe()\n",
    "# filtered_df.plot()\n",
    "# Plot the filtered data\n",
    "# plt.plot(filtered_df['投喂时间'], filtered_df['投喂重量kg'])\n",
    "# plt.xlabel('投喂时间')\n",
    "# plt.ylabel('投喂重量kg')\n",
    "# plt.title('Filtered Data Plot')\n",
    "# plt.show()"
   ]
  },
  {
   "cell_type": "code",
   "execution_count": null,
   "id": "08296017-3e81-4d71-856b-4e072ed0937c",
   "metadata": {},
   "outputs": [
    {
     "data": {
      "text/html": [
       "<div>\n",
       "<style scoped>\n",
       "    .dataframe tbody tr th:only-of-type {\n",
       "        vertical-align: middle;\n",
       "    }\n",
       "\n",
       "    .dataframe tbody tr th {\n",
       "        vertical-align: top;\n",
       "    }\n",
       "\n",
       "    .dataframe thead th {\n",
       "        text-align: right;\n",
       "    }\n",
       "</style>\n",
       "<table border=\"1\" class=\"dataframe\">\n",
       "  <thead>\n",
       "    <tr style=\"text-align: right;\">\n",
       "      <th></th>\n",
       "      <th>投喂重量kg</th>\n",
       "    </tr>\n",
       "  </thead>\n",
       "  <tbody>\n",
       "    <tr>\n",
       "      <th>count</th>\n",
       "      <td>323.000000</td>\n",
       "    </tr>\n",
       "    <tr>\n",
       "      <th>mean</th>\n",
       "      <td>202.024768</td>\n",
       "    </tr>\n",
       "    <tr>\n",
       "      <th>std</th>\n",
       "      <td>153.826128</td>\n",
       "    </tr>\n",
       "    <tr>\n",
       "      <th>min</th>\n",
       "      <td>0.000000</td>\n",
       "    </tr>\n",
       "    <tr>\n",
       "      <th>25%</th>\n",
       "      <td>71.500000</td>\n",
       "    </tr>\n",
       "    <tr>\n",
       "      <th>50%</th>\n",
       "      <td>196.000000</td>\n",
       "    </tr>\n",
       "    <tr>\n",
       "      <th>75%</th>\n",
       "      <td>318.000000</td>\n",
       "    </tr>\n",
       "    <tr>\n",
       "      <th>max</th>\n",
       "      <td>570.000000</td>\n",
       "    </tr>\n",
       "  </tbody>\n",
       "</table>\n",
       "</div>"
      ],
      "text/plain": [
       "           投喂重量kg\n",
       "count  323.000000\n",
       "mean   202.024768\n",
       "std    153.826128\n",
       "min      0.000000\n",
       "25%     71.500000\n",
       "50%    196.000000\n",
       "75%    318.000000\n",
       "max    570.000000"
      ]
     },
     "metadata": {},
     "output_type": "display_data"
    }
   ],
   "source": [
    "# df[df['池塘编号'] == '1111'].count()\n",
    "import pandas as pd\n",
    "import matplotlib.pyplot as plt\n",
    "\n",
    "# Create a sample DataFrame\n",
    "# data = {\n",
    "#     'A': [1, 2, 3, 4, 5],\n",
    "#     'B': [5, 4, 3, 2, 1]\n",
    "# }\n",
    "# df = pd.DataFrame(data)\n",
    "\n",
    "# Filter rows based on a condition\n",
    "filtered_df = df[df['池塘编号'] == '1111']\n",
    "filtered_df.describe()\n",
    "# filtered_df.plot()\n",
    "# Plot the filtered data\n",
    "# plt.plot(filtered_df['投喂时间'], filtered_df['投喂重量kg'])\n",
    "# plt.xlabel('投喂时间')\n",
    "# plt.ylabel('投喂重量kg')\n",
    "# plt.title('Filtered Data Plot')\n",
    "# plt.show()"
   ]
  },
  {
   "cell_type": "code",
   "execution_count": 9,
   "id": "ee0a2f61",
   "metadata": {},
   "outputs": [
    {
     "data": {
      "text/html": [
       "<div>\n",
       "<style scoped>\n",
       "    .dataframe tbody tr th:only-of-type {\n",
       "        vertical-align: middle;\n",
       "    }\n",
       "\n",
       "    .dataframe tbody tr th {\n",
       "        vertical-align: top;\n",
       "    }\n",
       "\n",
       "    .dataframe thead th {\n",
       "        text-align: right;\n",
       "    }\n",
       "</style>\n",
       "<table border=\"1\" class=\"dataframe\">\n",
       "  <thead>\n",
       "    <tr style=\"text-align: right;\">\n",
       "      <th></th>\n",
       "      <th>投喂时间</th>\n",
       "      <th>池塘编号</th>\n",
       "      <th>投喂数量</th>\n",
       "    </tr>\n",
       "  </thead>\n",
       "  <tbody>\n",
       "    <tr>\n",
       "      <th>1970-01-01 00:00:00.000000000</th>\n",
       "      <td>2023-01-31 00:00:00</td>\n",
       "      <td>1127</td>\n",
       "      <td>201.0</td>\n",
       "    </tr>\n",
       "    <tr>\n",
       "      <th>1970-01-01 00:00:00.000000001</th>\n",
       "      <td>2023-01-31 00:00:00</td>\n",
       "      <td>1128</td>\n",
       "      <td>211.0</td>\n",
       "    </tr>\n",
       "    <tr>\n",
       "      <th>1970-01-01 00:00:00.000000002</th>\n",
       "      <td>2023-01-31 00:00:00</td>\n",
       "      <td>1129</td>\n",
       "      <td>102.0</td>\n",
       "    </tr>\n",
       "    <tr>\n",
       "      <th>1970-01-01 00:00:00.000000003</th>\n",
       "      <td>2023-01-31 00:00:00</td>\n",
       "      <td>1130</td>\n",
       "      <td>218.0</td>\n",
       "    </tr>\n",
       "    <tr>\n",
       "      <th>1970-01-01 00:00:00.000000004</th>\n",
       "      <td>2023-01-31 00:00:00</td>\n",
       "      <td>1201</td>\n",
       "      <td>153.0</td>\n",
       "    </tr>\n",
       "  </tbody>\n",
       "</table>\n",
       "</div>"
      ],
      "text/plain": [
       "                                              投喂时间  池塘编号   投喂数量\n",
       "1970-01-01 00:00:00.000000000  2023-01-31 00:00:00  1127  201.0\n",
       "1970-01-01 00:00:00.000000001  2023-01-31 00:00:00  1128  211.0\n",
       "1970-01-01 00:00:00.000000002  2023-01-31 00:00:00  1129  102.0\n",
       "1970-01-01 00:00:00.000000003  2023-01-31 00:00:00  1130  218.0\n",
       "1970-01-01 00:00:00.000000004  2023-01-31 00:00:00  1201  153.0"
      ]
     },
     "execution_count": 9,
     "metadata": {},
     "output_type": "execute_result"
    }
   ],
   "source": [
    "feed_df.head(5)"
   ]
  },
  {
   "cell_type": "code",
   "execution_count": 4,
   "id": "cca4bf00",
   "metadata": {},
   "outputs": [
    {
     "data": {
      "text/html": [
       "<div>\n",
       "<style scoped>\n",
       "    .dataframe tbody tr th:only-of-type {\n",
       "        vertical-align: middle;\n",
       "    }\n",
       "\n",
       "    .dataframe tbody tr th {\n",
       "        vertical-align: top;\n",
       "    }\n",
       "\n",
       "    .dataframe thead th {\n",
       "        text-align: right;\n",
       "    }\n",
       "</style>\n",
       "<table border=\"1\" class=\"dataframe\">\n",
       "  <thead>\n",
       "    <tr style=\"text-align: right;\">\n",
       "      <th></th>\n",
       "      <th>投喂时间</th>\n",
       "      <th>池塘编号</th>\n",
       "      <th>投喂数量</th>\n",
       "    </tr>\n",
       "  </thead>\n",
       "  <tbody>\n",
       "  </tbody>\n",
       "</table>\n",
       "</div>"
      ],
      "text/plain": [
       "Empty DataFrame\n",
       "Columns: [投喂时间, 池塘编号, 投喂数量]\n",
       "Index: []"
      ]
     },
     "execution_count": 4,
     "metadata": {},
     "output_type": "execute_result"
    }
   ],
   "source": [
    "feed_df[feed_df['池塘编号'] == 1111].head()"
   ]
  },
  {
   "cell_type": "code",
   "execution_count": null,
   "id": "8e7f97b0-3b95-4135-a116-fb503068a9eb",
   "metadata": {},
   "outputs": [],
   "source": [
    "feed_df.sort_values(\"池塘编号\").groupby(\"池塘编号\").sum('投喂数量')"
   ]
  },
  {
   "cell_type": "code",
   "execution_count": null,
   "id": "798fb38d-55e6-412f-967a-aef624b5f9f2",
   "metadata": {},
   "outputs": [],
   "source": [
    "df.describe()"
   ]
  },
  {
   "cell_type": "code",
   "execution_count": null,
   "id": "6cd9fdc2-bc58-4d8f-9cd7-53c2a77ecc13",
   "metadata": {},
   "outputs": [],
   "source": [
    "df.sort_index(axis=1, ascending=False).head()"
   ]
  },
  {
   "cell_type": "code",
   "execution_count": null,
   "id": "49ee421f-be5c-4df1-aef7-82996b688a20",
   "metadata": {},
   "outputs": [],
   "source": [
    "df.dtypes"
   ]
  },
  {
   "cell_type": "code",
   "execution_count": null,
   "id": "5ab2c027-5796-4162-ab50-34b89fd6613a",
   "metadata": {},
   "outputs": [],
   "source": [
    "df.index"
   ]
  },
  {
   "cell_type": "code",
   "execution_count": null,
   "id": "cad01a15-0c91-473d-88be-b8071afcf933",
   "metadata": {},
   "outputs": [],
   "source": [
    "df['换算率'].unique()"
   ]
  },
  {
   "cell_type": "code",
   "execution_count": null,
   "id": "8325b578-99a8-4202-a569-106e0eb3ec55",
   "metadata": {},
   "outputs": [],
   "source": [
    "df2 = pd.read_excel(\"Pondstock.xlsx\")\n",
    "df2.head()"
   ]
  },
  {
   "cell_type": "code",
   "execution_count": null,
   "id": "40ba55ab-3c0a-460e-bdee-700ccaa1e724",
   "metadata": {},
   "outputs": [],
   "source": [
    "df2.info()"
   ]
  },
  {
   "cell_type": "code",
   "execution_count": null,
   "id": "ab1688fc-6f89-4a55-b46d-6ffb8ee0c833",
   "metadata": {},
   "outputs": [],
   "source": [
    "df.describe()"
   ]
  },
  {
   "cell_type": "code",
   "execution_count": null,
   "id": "afb6f425-530c-4f3e-9674-1d1a96063e62",
   "metadata": {},
   "outputs": [],
   "source": [
    "df.columns"
   ]
  },
  {
   "cell_type": "code",
   "execution_count": null,
   "id": "b17bb45c-0dec-44aa-8604-13fcd645193b",
   "metadata": {},
   "outputs": [],
   "source": [
    "df1 = df[['投喂时间','池塘编号','投喂重量kg']].sort_values('池塘编号', ascending=False)"
   ]
  },
  {
   "cell_type": "code",
   "execution_count": null,
   "id": "f85dd820-9f46-4f38-b326-b053d2261e92",
   "metadata": {},
   "outputs": [],
   "source": [
    "df1.head()"
   ]
  },
  {
   "cell_type": "code",
   "execution_count": null,
   "id": "fd3442ec-772a-46e2-9877-771cfd459f2d",
   "metadata": {},
   "outputs": [],
   "source": []
  }
 ],
 "metadata": {
  "kernelspec": {
   "display_name": "Python 3.11.7 ('ai')",
   "language": "python",
   "name": "python3"
  },
  "language_info": {
   "codemirror_mode": {
    "name": "ipython",
    "version": 3
   },
   "file_extension": ".py",
   "mimetype": "text/x-python",
   "name": "python",
   "nbconvert_exporter": "python",
   "pygments_lexer": "ipython3",
   "version": "3.11.8"
  },
  "vscode": {
   "interpreter": {
    "hash": "16b5ba8b0fc2955b30e9dcc40d80a15055b56bf6ee36ea534159a7d87da288cf"
   }
  }
 },
 "nbformat": 4,
 "nbformat_minor": 5
}
